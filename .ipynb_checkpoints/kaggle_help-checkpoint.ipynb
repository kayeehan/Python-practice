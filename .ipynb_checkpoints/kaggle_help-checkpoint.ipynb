{
 "cells": [
  {
   "cell_type": "markdown",
   "id": "b9e1fb1d",
   "metadata": {},
   "source": [
    "# kaggle_help"
   ]
  },
  {
   "cell_type": "code",
   "execution_count": 9,
   "id": "56c862fd",
   "metadata": {},
   "outputs": [],
   "source": [
    "import pandas as pd\n",
    "import os\n",
    "from pandas import DataFrame, Series\n",
    "from PIL import Image #사진 불러오기\n",
    "import glob #전체 사진 불러오기\n",
    "from tensorflow.keras.layers import Conv2D, MaxPool2D, Input, Flatten, Dense, Dropout #CNN 사진 학습\n",
    "from tensorflow.keras.models import Model, Sequential,load_model #CNN 사진 학습 및 모델 저장 및 로딩\n",
    "from sklearn.model_selection import train_test_split #train, test 데이터셋 분리\n",
    "from tensorflow.keras.preprocessing.image import ImageDataGenerator #이미지 학습시 변형\n",
    "from keras.preprocessing.image import img_to_array, load_img, array_to_img #이미지 불러오기, array로 변환\n",
    "from scikeras.wrappers import KerasClassifier #gridsearchCV시 사용\n",
    "from sklearn.model_selection import GridSearchCV #gridsearchCV시 사용\n",
    "from tensorflow.keras.applications.vgg16 import preprocess_input # 이미지 스케일링\n",
    "import numpy as np #array로 변환한 이미지 데이터 사용\n",
    "import tensorflow as tf\n",
    "import seaborn as sns\n",
    "import matplotlib.pylab as plt\n",
    "import time\n",
    "from tensorflow.keras.callbacks import EarlyStopping\n",
    "import warnings\n",
    "warnings.filterwarnings('ignore')\n",
    "import pickle #모델 저장\n",
    "import joblib #모델 저장\n",
    "from sklearn.metrics import accuracy_score"
   ]
  },
  {
   "cell_type": "code",
   "execution_count": 11,
   "id": "d92cf40c",
   "metadata": {},
   "outputs": [],
   "source": [
    "os.environ[\"KAGGLE_USERNAME\"] = 'kyeongminhan'\n",
    "os.environ[\"KAGGLE_KEY\"] = \"03e6a5cbc7934a6d8e5e0dcdb4ee6ead\""
   ]
  },
  {
   "cell_type": "code",
   "execution_count": 25,
   "id": "b7c0aa61",
   "metadata": {},
   "outputs": [
    {
     "ename": "SyntaxError",
     "evalue": "invalid syntax (Temp/ipykernel_20792/3675099818.py, line 1)",
     "output_type": "error",
     "traceback": [
      "\u001b[1;36m  File \u001b[1;32m\"C:\\Users\\Hankm\\AppData\\Local\\Temp/ipykernel_20792/3675099818.py\"\u001b[1;36m, line \u001b[1;32m1\u001b[0m\n\u001b[1;33m    kaggle competitions download -c paddy-disease-classification\u001b[0m\n\u001b[1;37m           ^\u001b[0m\n\u001b[1;31mSyntaxError\u001b[0m\u001b[1;31m:\u001b[0m invalid syntax\n"
     ]
    }
   ],
   "source": [
    "kaggle competitions download -c paddy-disease-classification"
   ]
  },
  {
   "cell_type": "code",
   "execution_count": 23,
   "id": "6033e0dc",
   "metadata": {},
   "outputs": [
    {
     "name": "stdout",
     "output_type": "stream",
     "text": [
      "401 - Unauthorized\n"
     ]
    }
   ],
   "source": [
    "# 다운로드 된 파일 확인\n",
    "!kaggle competitions files -c paddy-disease-classification"
   ]
  },
  {
   "cell_type": "code",
   "execution_count": 14,
   "id": "60d20c55",
   "metadata": {},
   "outputs": [
    {
     "name": "stdout",
     "output_type": "stream",
     "text": [
      "Name: kaggle\n",
      "Version: 1.5.12\n",
      "Summary: Kaggle API\n",
      "Home-page: https://github.com/Kaggle/kaggle-api\n",
      "Author: Kaggle\n",
      "Author-email: support@kaggle.com\n",
      "License: Apache 2.0\n",
      "Location: c:\\users\\hankm\\anaconda3\\lib\\site-packages\n",
      "Requires: python-slugify, certifi, requests, six, urllib3, tqdm, python-dateutil\n",
      "Required-by: \n"
     ]
    }
   ],
   "source": [
    "!pip show kaggle"
   ]
  },
  {
   "cell_type": "code",
   "execution_count": 17,
   "id": "a1a5b750",
   "metadata": {},
   "outputs": [
    {
     "name": "stdout",
     "output_type": "stream",
     "text": [
      "Configuration values from C:\\Users\\Hankm\\.kaggle\n",
      "- username: kyeongminhan\n",
      "- path: None\n",
      "- proxy: None\n",
      "- competition: None\n"
     ]
    }
   ],
   "source": [
    "!kaggle config view"
   ]
  },
  {
   "cell_type": "code",
   "execution_count": 19,
   "id": "f2237bc5",
   "metadata": {},
   "outputs": [
    {
     "name": "stdout",
     "output_type": "stream",
     "text": [
      "usage: kaggle competitions list [-h] [--group GROUP] [--category CATEGORY]\n",
      "                                [--sort-by SORT_BY] [-p PAGE] [-s SEARCH] [-v]\n",
      "\n",
      "optional arguments:\n",
      "  -h, --help            show this help message and exit\n",
      "  --group GROUP         Search for competitions in a specific group. Default is 'general'. Valid options are 'general', 'entered', and 'inClass'\n",
      "  --category CATEGORY   Search for competitions of a specific category. Default is 'all'. Valid options are 'all', 'featured', 'research', 'recruitment', 'gettingStarted', 'masters', and 'playground'\n",
      "  --sort-by SORT_BY     Sort list results. Default is 'latestDeadline'. Valid options are 'grouped', 'prize', 'earliestDeadline', 'latestDeadline', 'numberOfTeams', and 'recentlyCreated'\n",
      "  -p PAGE, --page PAGE  Page number for results paging. Page size is 20 by default\n",
      "  -s SEARCH, --search SEARCH\n",
      "                        Term(s) to search for\n",
      "  -v, --csv             Print results in CSV format (if not set print in table format)\n"
     ]
    }
   ],
   "source": [
    "# 도움말 보기\n",
    "!kaggle competitions list -h\n"
   ]
  },
  {
   "cell_type": "code",
   "execution_count": 20,
   "id": "388f5986",
   "metadata": {},
   "outputs": [
    {
     "name": "stdout",
     "output_type": "stream",
     "text": [
      "401 - Unauthorized\n"
     ]
    }
   ],
   "source": [
    "# health 와 관련된 경진대회 리스트 보기\n",
    "!kaggle competitions list -s health"
   ]
  },
  {
   "cell_type": "code",
   "execution_count": null,
   "id": "8324a105",
   "metadata": {},
   "outputs": [],
   "source": [
    "# 다운로드 경로를 설정해서 다운로드 받는 방법\n",
    "!kaggle competitions download -c titanic -p ./kaggle_api_data/titanic\n"
   ]
  }
 ],
 "metadata": {
  "kernelspec": {
   "display_name": "Python 3 (ipykernel)",
   "language": "python",
   "name": "python3"
  },
  "language_info": {
   "codemirror_mode": {
    "name": "ipython",
    "version": 3
   },
   "file_extension": ".py",
   "mimetype": "text/x-python",
   "name": "python",
   "nbconvert_exporter": "python",
   "pygments_lexer": "ipython3",
   "version": "3.9.7"
  }
 },
 "nbformat": 4,
 "nbformat_minor": 5
}
