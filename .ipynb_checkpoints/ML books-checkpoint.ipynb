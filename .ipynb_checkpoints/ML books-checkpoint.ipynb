{
 "cells": [
  {
   "cell_type": "markdown",
   "id": "048f0916",
   "metadata": {},
   "source": [
    "# 지도학습 (Supervised learning)\n",
    "- 라벨링이 된 데이터를 학습시키는 것을 의미\n",
    "- 타깃의 형태에 따라 세부적으로 두 가지 종류로 나눌 수 있음.\n",
    " * 타깃=범주형 : 분류(Classification)\n",
    " * 타깃=연속형 : 회귀(Regression)"
   ]
  },
  {
   "cell_type": "markdown",
   "id": "a6281ea1",
   "metadata": {},
   "source": [
    "## KNN\n",
    "- 비교 대상이 되는 데이터 포인트 주변에 가장 가까이 존재하는 k개의 데이터와 비교해 가장 가까운 데이터 종류로 판별.    \n",
    "- 타깃이 연속형 숫자라면 주변 k개의 데이터의 평균값으로 예측하는 방법을 사용.\n",
    "- 게으른 학습(Lazy learning) : 트레이닝 데이터 전체를 메모리상에 보관하면서 테스트 데이터가 새로 들어왔을 때 바로 학습하는 것을 의미함.    \n",
    " - 장점:추가적인 학습시간 없이 곧바로 학습 결과를 얻을 수 있음.    \n",
    " - 단점:예측 시 메모리상에 학습용 데이터를 항상 보관하고 있어야 하므로 메모리 용량보다 데이터가 지나치게 큼."
   ]
  },
  {
   "cell_type": "markdown",
   "id": "d30b8b4f",
   "metadata": {},
   "source": [
    "__데이터 불러오기. 피처와 타깃 데이터 지정하기__"
   ]
  },
  {
   "cell_type": "code",
   "execution_count": 50,
   "id": "a3e1c691",
   "metadata": {},
   "outputs": [],
   "source": [
    "from sklearn import datasets\n",
    "raw_iris=datasets.load_iris() #꽃 분류\n",
    "X = raw_iris.data\n",
    "y = raw_iris.target"
   ]
  },
  {
   "cell_type": "markdown",
   "id": "11c0813d",
   "metadata": {},
   "source": [
    "__트레이닝, 테스트 데이터 분할__"
   ]
  },
  {
   "cell_type": "code",
   "execution_count": 4,
   "id": "06714ec5",
   "metadata": {},
   "outputs": [],
   "source": [
    "from sklearn.model_selection import train_test_split\n",
    "X_tn, X_te, y_tn, y_te = train_test_split(X,y,random_state=0) #random seed 정하기"
   ]
  },
  {
   "cell_type": "markdown",
   "id": "8f549e0c",
   "metadata": {},
   "source": [
    "__데이터 표준화__"
   ]
  },
  {
   "cell_type": "code",
   "execution_count": 6,
   "id": "df7b54f2",
   "metadata": {},
   "outputs": [],
   "source": [
    "from sklearn.preprocessing import StandardScaler\n",
    "std_scale = StandardScaler()\n",
    "std_scale.fit(X_tn)\n",
    "X_tn_std = std_scale.transform(X_tn)\n",
    "X_te_std = std_scale.transform(X_te)"
   ]
  },
  {
   "cell_type": "markdown",
   "id": "d58b1f4b",
   "metadata": {},
   "source": [
    "__데이터 학습__"
   ]
  },
  {
   "cell_type": "code",
   "execution_count": 16,
   "id": "187c218e",
   "metadata": {},
   "outputs": [
    {
     "data": {
      "text/plain": [
       "KNeighborsClassifier(n_neighbors=2)"
      ]
     },
     "execution_count": 16,
     "metadata": {},
     "output_type": "execute_result"
    }
   ],
   "source": [
    "from sklearn.neighbors import KNeighborsClassifier\n",
    "clf_knn = KNeighborsClassifier(n_neighbors=2)\n",
    "clf_knn.fit(X_tn_std,y_tn)"
   ]
  },
  {
   "cell_type": "markdown",
   "id": "e9040587",
   "metadata": {},
   "source": [
    "__데이터 예측__"
   ]
  },
  {
   "cell_type": "code",
   "execution_count": 17,
   "id": "026feb0a",
   "metadata": {},
   "outputs": [
    {
     "name": "stdout",
     "output_type": "stream",
     "text": [
      "[2 1 0 2 0 2 0 1 1 1 1 1 1 1 1 0 1 1 0 0 2 1 0 0 2 0 0 1 1 0 2 1 0 2 2 1 0\n",
      " 2]\n"
     ]
    }
   ],
   "source": [
    "knn_pred = clf_knn.predict(X_te_std)\n",
    "print(knn_pred)"
   ]
  },
  {
   "cell_type": "markdown",
   "id": "84047983",
   "metadata": {},
   "source": [
    "__정확도 평가__"
   ]
  },
  {
   "cell_type": "code",
   "execution_count": 18,
   "id": "b931cbe0",
   "metadata": {},
   "outputs": [
    {
     "name": "stdout",
     "output_type": "stream",
     "text": [
      "0.9473684210526315\n"
     ]
    }
   ],
   "source": [
    "from sklearn.metrics import accuracy_score\n",
    "accuracy = accuracy_score(y_te,knn_pred)\n",
    "print(accuracy)"
   ]
  },
  {
   "cell_type": "markdown",
   "id": "67ec2f86",
   "metadata": {},
   "source": [
    "__confusion matrix 확인__"
   ]
  },
  {
   "cell_type": "code",
   "execution_count": 19,
   "id": "15fe2d5e",
   "metadata": {},
   "outputs": [
    {
     "name": "stdout",
     "output_type": "stream",
     "text": [
      "[[13  0  0]\n",
      " [ 0 15  1]\n",
      " [ 0  1  8]]\n"
     ]
    }
   ],
   "source": [
    "from sklearn.metrics import confusion_matrix\n",
    "conf_matrix = confusion_matrix(y_te,knn_pred)\n",
    "print(conf_matrix)"
   ]
  },
  {
   "cell_type": "markdown",
   "id": "fe5326b6",
   "metadata": {},
   "source": [
    "__분류 리포트 확인__"
   ]
  },
  {
   "cell_type": "code",
   "execution_count": 20,
   "id": "bcd696b2",
   "metadata": {},
   "outputs": [
    {
     "name": "stdout",
     "output_type": "stream",
     "text": [
      "              precision    recall  f1-score   support\n",
      "\n",
      "           0       1.00      1.00      1.00        13\n",
      "           1       0.94      0.94      0.94        16\n",
      "           2       0.89      0.89      0.89         9\n",
      "\n",
      "    accuracy                           0.95        38\n",
      "   macro avg       0.94      0.94      0.94        38\n",
      "weighted avg       0.95      0.95      0.95        38\n",
      "\n"
     ]
    }
   ],
   "source": [
    "from sklearn.metrics import classification_report\n",
    "class_report = classification_report(y_te,knn_pred)\n",
    "print(class_report)"
   ]
  },
  {
   "cell_type": "markdown",
   "id": "67e65274",
   "metadata": {},
   "source": [
    "## 선형 회귀 분석(linear regression)\n",
    "- Lasso 회귀분석(L1제약식)\n",
    "- Ridge 회귀분석(L2제약식)\n",
    "- Elastic net(L1제약식 + L2제약식)"
   ]
  },
  {
   "cell_type": "markdown",
   "id": "37d13dbe",
   "metadata": {},
   "source": [
    "__데이터 불러오기. 피처와 타깃 데이터 지정하기__"
   ]
  },
  {
   "cell_type": "code",
   "execution_count": 25,
   "id": "a5f227d2",
   "metadata": {},
   "outputs": [],
   "source": [
    "from sklearn import datasets\n",
    "raw_boston = datasets.load_boston() #집값 예측\n",
    "X = raw_boston.data\n",
    "y = raw_boston.target"
   ]
  },
  {
   "cell_type": "markdown",
   "id": "72e25ade",
   "metadata": {},
   "source": [
    "__데이터 분할 및 표준화__"
   ]
  },
  {
   "cell_type": "code",
   "execution_count": 27,
   "id": "b7c52e7a",
   "metadata": {},
   "outputs": [],
   "source": [
    "from sklearn.model_selection import train_test_split\n",
    "X_tn, X_te, y_tn, y_te = train_test_split(X,y,random_state=1)\n",
    "\n",
    "from sklearn.preprocessing import StandardScaler\n",
    "std_scale = StandardScaler()\n",
    "std_scale.fit(X_tn)\n",
    "X_tn_std = std_scale.transform(X_tn)\n",
    "X_te_std = std_scale.transform(X_te)"
   ]
  },
  {
   "cell_type": "markdown",
   "id": "8f8d842d",
   "metadata": {},
   "source": [
    "__데이터학습 (선형회귀분석)__"
   ]
  },
  {
   "cell_type": "code",
   "execution_count": 29,
   "id": "b9e805a3",
   "metadata": {},
   "outputs": [
    {
     "name": "stdout",
     "output_type": "stream",
     "text": [
      "[-1.07145146  1.34036243  0.26298069  0.66554537 -2.49842551  1.97524314\n",
      "  0.19516605 -3.14274974  2.66736136 -1.80685572 -2.13034748  0.56172933\n",
      " -4.03223518]\n",
      "22.344591029023768\n"
     ]
    }
   ],
   "source": [
    "from sklearn.linear_model import LinearRegression\n",
    "clf_lr = LinearRegression()\n",
    "clf_lr.fit(X_tn_std,y_tn)\n",
    "print(clf_lr.coef_)\n",
    "print(clf_lr.intercept_)"
   ]
  },
  {
   "cell_type": "markdown",
   "id": "b802c3c9",
   "metadata": {},
   "source": [
    "__데이터 학습 (L2 제약식 적용, 릿지 회귀분석)__"
   ]
  },
  {
   "cell_type": "code",
   "execution_count": 31,
   "id": "40ce8f84",
   "metadata": {},
   "outputs": [
    {
     "name": "stdout",
     "output_type": "stream",
     "text": [
      "[-1.05933451  1.31050717  0.23022789  0.66955241 -2.45607567  1.99086611\n",
      "  0.18119169 -3.09919804  2.56480813 -1.71116799 -2.12002592  0.56264409\n",
      " -4.00942448]\n",
      "22.344591029023768\n"
     ]
    }
   ],
   "source": [
    "from sklearn.linear_model import Ridge\n",
    "clf_ridge = Ridge(alpha=1)\n",
    "clf_ridge.fit(X_tn_std,y_tn)\n",
    "print(clf_ridge.coef_)\n",
    "print(clf_ridge.intercept_)"
   ]
  },
  {
   "cell_type": "markdown",
   "id": "37d9f54a",
   "metadata": {},
   "source": [
    "__데이터 학습 (L1 제약식 적용, 라쏘 회귀분석)__"
   ]
  },
  {
   "cell_type": "code",
   "execution_count": 32,
   "id": "de5cdbc0",
   "metadata": {},
   "outputs": [
    {
     "name": "stdout",
     "output_type": "stream",
     "text": [
      "[-1.04326518  1.27752711  0.1674367   0.66758228 -2.41559964  1.99244179\n",
      "  0.14733958 -3.09473711  2.46431135 -1.60552274 -2.11046422  0.55200229\n",
      " -4.00809905]\n",
      "22.344591029023768\n"
     ]
    }
   ],
   "source": [
    "from sklearn.linear_model import Lasso\n",
    "clf_lasso = Lasso(alpha=0.01)\n",
    "clf_lasso.fit(X_tn_std,y_tn)\n",
    "print(clf_lasso.coef_)\n",
    "print(clf_lasso.intercept_)"
   ]
  },
  {
   "cell_type": "markdown",
   "id": "ec6c80b7",
   "metadata": {},
   "source": [
    "__데이터 학습 (엘라스틱 넷)__"
   ]
  },
  {
   "cell_type": "code",
   "execution_count": 33,
   "id": "ac1b926d",
   "metadata": {},
   "outputs": [
    {
     "name": "stdout",
     "output_type": "stream",
     "text": [
      "[-1.02916603  1.23681955  0.15236504  0.67859622 -2.34646781  2.02965524\n",
      "  0.14575132 -2.98592423  2.32013379 -1.48829485 -2.09271972  0.56506801\n",
      " -3.9495281 ]\n",
      "22.344591029023768\n"
     ]
    }
   ],
   "source": [
    "from sklearn.linear_model import ElasticNet\n",
    "clf_elastic = ElasticNet(alpha=0.01,l1_ratio=0.01)\n",
    "clf_elastic.fit(X_tn_std,y_tn)\n",
    "print(clf_elastic.coef_)\n",
    "print(clf_elastic.intercept_)"
   ]
  },
  {
   "cell_type": "markdown",
   "id": "72b61665",
   "metadata": {},
   "source": [
    "__데이터 예측__"
   ]
  },
  {
   "cell_type": "code",
   "execution_count": 34,
   "id": "702c92ac",
   "metadata": {},
   "outputs": [],
   "source": [
    "pred_lr = clf_lr.predict(X_te_std)\n",
    "pred_ridge = clf_ridge.predict(X_te_std)\n",
    "pred_lasso = clf_lasso.predict(X_te_std)\n",
    "pred_elastic = clf_elastic.predict(X_te_std)"
   ]
  },
  {
   "cell_type": "markdown",
   "id": "c60f5f9d",
   "metadata": {},
   "source": [
    "__모형 평가 - R 제곱값__"
   ]
  },
  {
   "cell_type": "code",
   "execution_count": 36,
   "id": "3ca47ca4",
   "metadata": {},
   "outputs": [
    {
     "name": "stdout",
     "output_type": "stream",
     "text": [
      "0.7789410172622856\n",
      "0.7789704562726605\n",
      "0.7787621490259894\n",
      "0.7787876079239251\n"
     ]
    }
   ],
   "source": [
    "from sklearn.metrics import r2_score\n",
    "print(r2_score(y_te,pred_lr))\n",
    "print(r2_score(y_te,pred_ridge))\n",
    "print(r2_score(y_te,pred_lasso))\n",
    "print(r2_score(y_te,pred_elastic))"
   ]
  },
  {
   "cell_type": "markdown",
   "id": "d43e9ea3",
   "metadata": {},
   "source": [
    "__모형 평가 - MSE__"
   ]
  },
  {
   "cell_type": "code",
   "execution_count": 37,
   "id": "796c7c50",
   "metadata": {},
   "outputs": [
    {
     "name": "stdout",
     "output_type": "stream",
     "text": [
      "21.897765396049508\n",
      "21.894849212618745\n",
      "21.91548381050483\n",
      "21.912961890936877\n"
     ]
    }
   ],
   "source": [
    "from sklearn.metrics import mean_squared_error\n",
    "print(mean_squared_error(y_te,pred_lr))\n",
    "print(mean_squared_error(y_te,pred_ridge))\n",
    "print(mean_squared_error(y_te,pred_lasso))\n",
    "print(mean_squared_error(y_te,pred_elastic))"
   ]
  },
  {
   "cell_type": "markdown",
   "id": "154f60a1",
   "metadata": {},
   "source": [
    "## 로지스틱 회귀분석\n",
    "* 분류하는 상황에 적합\n",
    "* __시그모이드 함수__ : 선형 회귀식을 0과 1사이의 값만 가지게 하는 함수"
   ]
  },
  {
   "cell_type": "markdown",
   "id": "b3e179e1",
   "metadata": {},
   "source": [
    "__데이터 불러오기 및 데이터 지정 및 분할__"
   ]
  },
  {
   "cell_type": "code",
   "execution_count": 38,
   "id": "a66caf77",
   "metadata": {},
   "outputs": [],
   "source": [
    "from sklearn import datasets\n",
    "raw_cancer = datasets.load_breast_cancer() #유방암 분류\n",
    "X = raw_cancer.data\n",
    "y = raw_cancer.target\n",
    "\n",
    "from sklearn.model_selection import train_test_split\n",
    "X_tn, X_te, y_tn, y_te = train_test_split(X,y,random_state=0)"
   ]
  },
  {
   "cell_type": "markdown",
   "id": "a9ba1a18",
   "metadata": {},
   "source": [
    "__데이터 표준화__"
   ]
  },
  {
   "cell_type": "code",
   "execution_count": 39,
   "id": "df1e6659",
   "metadata": {},
   "outputs": [],
   "source": [
    "from sklearn.preprocessing import StandardScaler\n",
    "std_scale = StandardScaler()\n",
    "std_scale.fit(X_tn)\n",
    "X_tn_std = std_scale.transform(X_tn)\n",
    "X_te_std = std_scale.transform(X_te)"
   ]
  },
  {
   "cell_type": "markdown",
   "id": "9a2bc26a",
   "metadata": {},
   "source": [
    "__데이터 학습 및 로지스틱 회귀분석 추정 계수__"
   ]
  },
  {
   "cell_type": "code",
   "execution_count": 40,
   "id": "06bcc723",
   "metadata": {},
   "outputs": [
    {
     "name": "stdout",
     "output_type": "stream",
     "text": [
      "[[-0.29792942 -0.58056355 -0.3109406  -0.377129   -0.11984232  0.42855478\n",
      "  -0.71131106 -0.85371164 -0.46688191  0.11762548 -1.38262136  0.0899184\n",
      "  -0.94778563 -0.94686238  0.18575731  0.99305313  0.11090349 -0.3458275\n",
      "   0.20290919  0.80470317 -0.91626377 -0.91726667 -0.8159834  -0.86539197\n",
      "  -0.45539191  0.10347391 -0.83009341 -0.98445173 -0.5920036  -0.61086989]]\n",
      "[0.02713751]\n"
     ]
    }
   ],
   "source": [
    "from sklearn.linear_model import LogisticRegression\n",
    "clf_logi_l2 = LogisticRegression(penalty='l2')\n",
    "clf_logi_l2.fit(X_tn_std,y_tn)\n",
    "\n",
    "print(clf_logi_l2.coef_)\n",
    "print(clf_logi_l2.intercept_)"
   ]
  },
  {
   "cell_type": "markdown",
   "id": "9f8c406e",
   "metadata": {},
   "source": [
    "__데이터 예측__"
   ]
  },
  {
   "cell_type": "code",
   "execution_count": 41,
   "id": "c2f7fedc",
   "metadata": {},
   "outputs": [
    {
     "name": "stdout",
     "output_type": "stream",
     "text": [
      "[0 1 1 1 1 1 1 1 1 1 1 1 1 0 1 0 1 0 0 0 0 0 1 1 0 1 1 0 1 0 1 0 1 0 1 0 1\n",
      " 0 1 0 0 1 0 1 1 0 1 1 1 0 0 0 0 1 1 1 1 1 1 0 0 0 1 1 0 1 0 0 0 1 1 0 1 0\n",
      " 0 1 1 1 1 1 0 0 0 1 0 1 1 1 0 0 1 0 0 0 1 1 0 1 1 1 1 1 1 1 0 1 0 1 1 1 1\n",
      " 0 0 1 1 1 1 1 1 1 1 1 1 1 0 1 1 1 1 1 0 1 1 1 1 1 0 0 0 1 1 1 0]\n"
     ]
    }
   ],
   "source": [
    "pred_logistic = clf_logi_l2.predict(X_te_std)\n",
    "print(pred_logistic)"
   ]
  },
  {
   "cell_type": "markdown",
   "id": "41ce9f95",
   "metadata": {},
   "source": [
    "__클래스 확률로 예측__"
   ]
  },
  {
   "cell_type": "code",
   "execution_count": 42,
   "id": "7f7dcae8",
   "metadata": {},
   "outputs": [
    {
     "name": "stdout",
     "output_type": "stream",
     "text": [
      "[[9.98638613e-01 1.36138656e-03]\n",
      " [3.95544804e-02 9.60445520e-01]\n",
      " [1.30896362e-03 9.98691036e-01]\n",
      " [1.24473354e-02 9.87552665e-01]\n",
      " [2.44132101e-04 9.99755868e-01]\n",
      " [4.50491513e-03 9.95495085e-01]\n",
      " [1.13985968e-04 9.99886014e-01]\n",
      " [1.82475894e-03 9.98175241e-01]\n",
      " [9.67965506e-05 9.99903203e-01]\n",
      " [1.75222878e-06 9.99998248e-01]\n",
      " [1.76572612e-01 8.23427388e-01]\n",
      " [8.24119135e-02 9.17588087e-01]\n",
      " [9.66067493e-06 9.99990339e-01]\n",
      " [5.39343196e-01 4.60656804e-01]\n",
      " [3.98187854e-01 6.01812146e-01]\n",
      " [9.95762760e-01 4.23724017e-03]\n",
      " [2.75612083e-03 9.97243879e-01]\n",
      " [9.99997097e-01 2.90271401e-06]\n",
      " [9.99926506e-01 7.34935682e-05]\n",
      " [9.99999997e-01 2.78313939e-09]\n",
      " [9.98738365e-01 1.26163489e-03]\n",
      " [9.81405399e-01 1.85946008e-02]\n",
      " [1.77902039e-02 9.82209796e-01]\n",
      " [9.65876713e-04 9.99034123e-01]\n",
      " [9.99464578e-01 5.35421808e-04]\n",
      " [6.73385015e-04 9.99326615e-01]\n",
      " [5.50833875e-05 9.99944917e-01]\n",
      " [9.69828919e-01 3.01710813e-02]\n",
      " [1.62119075e-03 9.98378809e-01]\n",
      " [9.99997821e-01 2.17867101e-06]\n",
      " [6.00571253e-05 9.99939943e-01]\n",
      " [9.99954808e-01 4.51921300e-05]\n",
      " [1.09252006e-01 8.90747994e-01]\n",
      " [9.97255978e-01 2.74402243e-03]\n",
      " [4.51047979e-06 9.99995490e-01]\n",
      " [9.97449456e-01 2.55054412e-03]\n",
      " [1.97830173e-02 9.80216983e-01]\n",
      " [9.99571529e-01 4.28470822e-04]\n",
      " [8.45566258e-03 9.91544337e-01]\n",
      " [9.99487912e-01 5.12087502e-04]\n",
      " [9.42409583e-01 5.75904174e-02]\n",
      " [8.34700429e-05 9.99916530e-01]\n",
      " [9.32505814e-01 6.74941855e-02]\n",
      " [8.11944408e-05 9.99918806e-01]\n",
      " [6.08911689e-02 9.39108831e-01]\n",
      " [9.99999999e-01 1.17373572e-09]\n",
      " [1.00967748e-06 9.99998990e-01]\n",
      " [1.48182234e-02 9.85181777e-01]\n",
      " [6.33630458e-04 9.99366370e-01]\n",
      " [9.99927519e-01 7.24813084e-05]\n",
      " [9.99989528e-01 1.04724511e-05]\n",
      " [8.04262948e-01 1.95737052e-01]\n",
      " [9.99965014e-01 3.49860375e-05]\n",
      " [1.36691079e-03 9.98633089e-01]\n",
      " [1.95330244e-03 9.98046698e-01]\n",
      " [5.74609838e-04 9.99425390e-01]\n",
      " [1.05063052e-03 9.98949369e-01]\n",
      " [7.96089471e-03 9.92039105e-01]\n",
      " [1.00288029e-02 9.89971197e-01]\n",
      " [9.99999999e-01 1.44073341e-09]\n",
      " [9.97609027e-01 2.39097260e-03]\n",
      " [9.99257870e-01 7.42129950e-04]\n",
      " [3.14309030e-05 9.99968569e-01]\n",
      " [4.40044150e-03 9.95599559e-01]\n",
      " [9.99897373e-01 1.02627439e-04]\n",
      " [1.52976144e-01 8.47023856e-01]\n",
      " [1.00000000e+00 2.39185116e-13]\n",
      " [9.99998777e-01 1.22317020e-06]\n",
      " [9.99999046e-01 9.53579837e-07]\n",
      " [7.96239235e-04 9.99203761e-01]\n",
      " [3.87033734e-01 6.12966266e-01]\n",
      " [9.99993469e-01 6.53125942e-06]\n",
      " [2.97085842e-03 9.97029142e-01]\n",
      " [8.09412134e-01 1.90587866e-01]\n",
      " [9.99996998e-01 3.00240009e-06]\n",
      " [1.75950117e-02 9.82404988e-01]\n",
      " [4.94325863e-05 9.99950567e-01]\n",
      " [3.51047770e-02 9.64895223e-01]\n",
      " [4.25841119e-04 9.99574159e-01]\n",
      " [2.09232609e-05 9.99979077e-01]\n",
      " [9.82374564e-01 1.76254356e-02]\n",
      " [1.00000000e+00 3.57855006e-10]\n",
      " [9.99988747e-01 1.12526453e-05]\n",
      " [5.94724730e-05 9.99940528e-01]\n",
      " [9.62731634e-01 3.72683662e-02]\n",
      " [1.69452548e-03 9.98305475e-01]\n",
      " [6.14966533e-05 9.99938503e-01]\n",
      " [6.36886875e-06 9.99993631e-01]\n",
      " [9.99902779e-01 9.72205364e-05]\n",
      " [1.00000000e+00 8.14423797e-11]\n",
      " [3.47458432e-05 9.99965254e-01]\n",
      " [5.53589378e-01 4.46410622e-01]\n",
      " [6.91462937e-01 3.08537063e-01]\n",
      " [9.99996851e-01 3.14924112e-06]\n",
      " [2.01951834e-03 9.97980482e-01]\n",
      " [2.39759190e-03 9.97602408e-01]\n",
      " [9.99999992e-01 7.92006333e-09]\n",
      " [1.03400237e-02 9.89659976e-01]\n",
      " [9.23218910e-03 9.90767811e-01]\n",
      " [9.80048490e-04 9.99019952e-01]\n",
      " [5.45753731e-09 9.99999995e-01]\n",
      " [3.09034901e-03 9.96909651e-01]\n",
      " [6.22819445e-03 9.93771806e-01]\n",
      " [1.49494565e-01 8.50505435e-01]\n",
      " [9.99994787e-01 5.21292981e-06]\n",
      " [6.02188244e-04 9.99397812e-01]\n",
      " [9.99995658e-01 4.34219020e-06]\n",
      " [9.49795077e-02 9.05020492e-01]\n",
      " [3.27428663e-01 6.72571337e-01]\n",
      " [1.72350019e-02 9.82764998e-01]\n",
      " [3.75686888e-02 9.62431311e-01]\n",
      " [9.99975711e-01 2.42887910e-05]\n",
      " [9.99911399e-01 8.86014791e-05]\n",
      " [8.65663331e-02 9.13433667e-01]\n",
      " [8.21398481e-04 9.99178602e-01]\n",
      " [2.45946373e-02 9.75405363e-01]\n",
      " [1.43898490e-01 8.56101510e-01]\n",
      " [1.58128486e-03 9.98418715e-01]\n",
      " [1.79682971e-02 9.82031703e-01]\n",
      " [1.18803803e-03 9.98811962e-01]\n",
      " [1.55728346e-02 9.84427165e-01]\n",
      " [1.43822197e-03 9.98561778e-01]\n",
      " [3.86829219e-01 6.13170781e-01]\n",
      " [2.65232841e-02 9.73476716e-01]\n",
      " [9.99999918e-01 8.17382381e-08]\n",
      " [1.28424726e-01 8.71575274e-01]\n",
      " [4.67709202e-01 5.32290798e-01]\n",
      " [2.58725940e-04 9.99741274e-01]\n",
      " [3.25269018e-05 9.99967473e-01]\n",
      " [4.00075207e-05 9.99959992e-01]\n",
      " [9.99901036e-01 9.89636008e-05]\n",
      " [1.27248974e-04 9.99872751e-01]\n",
      " [2.66411581e-04 9.99733588e-01]\n",
      " [2.13163719e-01 7.86836281e-01]\n",
      " [2.92511631e-02 9.70748837e-01]\n",
      " [2.37309476e-05 9.99976269e-01]\n",
      " [5.09465728e-01 4.90534272e-01]\n",
      " [6.17881971e-01 3.82118029e-01]\n",
      " [1.00000000e+00 1.46648090e-12]\n",
      " [8.41453252e-05 9.99915855e-01]\n",
      " [1.58701592e-03 9.98412984e-01]\n",
      " [1.26424968e-03 9.98735750e-01]\n",
      " [9.99999994e-01 5.81805301e-09]]\n"
     ]
    }
   ],
   "source": [
    "pred_proba = clf_logi_l2.predict_proba(X_te_std)\n",
    "print(pred_proba) #해당 클래스에 속할 확률. 두 가지 클래스이므로 결괏값이 두 개의 열로 이러어짐."
   ]
  },
  {
   "cell_type": "markdown",
   "id": "417886f4",
   "metadata": {},
   "source": [
    "__정밀도 평가__"
   ]
  },
  {
   "cell_type": "code",
   "execution_count": 45,
   "id": "6e186047",
   "metadata": {},
   "outputs": [
    {
     "name": "stdout",
     "output_type": "stream",
     "text": [
      "0.9666666666666667\n"
     ]
    }
   ],
   "source": [
    "from sklearn.metrics import precision_score\n",
    "precision = precision_score(y_te,pred_logistic)\n",
    "print(precision)"
   ]
  },
  {
   "cell_type": "markdown",
   "id": "d22a8fbd",
   "metadata": {},
   "source": [
    "__confusion matrix__"
   ]
  },
  {
   "cell_type": "code",
   "execution_count": 48,
   "id": "46d0b9a7",
   "metadata": {},
   "outputs": [
    {
     "name": "stdout",
     "output_type": "stream",
     "text": [
      "[[50  3]\n",
      " [ 3 87]]\n"
     ]
    }
   ],
   "source": [
    "from sklearn.metrics import confusion_matrix\n",
    "conf_matrix = confusion_matrix(y_te,pred_logistic)\n",
    "print(conf_matrix)"
   ]
  },
  {
   "cell_type": "markdown",
   "id": "46549de6",
   "metadata": {},
   "source": [
    "__분류 리포트 확인__"
   ]
  },
  {
   "cell_type": "code",
   "execution_count": 49,
   "id": "1debd304",
   "metadata": {},
   "outputs": [
    {
     "name": "stdout",
     "output_type": "stream",
     "text": [
      "              precision    recall  f1-score   support\n",
      "\n",
      "           0       0.94      0.94      0.94        53\n",
      "           1       0.97      0.97      0.97        90\n",
      "\n",
      "    accuracy                           0.96       143\n",
      "   macro avg       0.96      0.96      0.96       143\n",
      "weighted avg       0.96      0.96      0.96       143\n",
      "\n"
     ]
    }
   ],
   "source": [
    "from sklearn.metrics import classification_report\n",
    "class_report = classification_report(y_te,pred_logistic)\n",
    "print(class_report)"
   ]
  },
  {
   "cell_type": "markdown",
   "id": "c136ecac",
   "metadata": {},
   "source": [
    "## 나이브 베이즈"
   ]
  },
  {
   "cell_type": "markdown",
   "id": "a2153e1f",
   "metadata": {},
   "source": [
    "__데이터 불러오기 및 분할__"
   ]
  },
  {
   "cell_type": "code",
   "execution_count": 2,
   "id": "1a72c70e",
   "metadata": {},
   "outputs": [],
   "source": [
    "from sklearn import datasets\n",
    "from sklearn.model_selection import train_test_split\n",
    "raw_wine = datasets.load_wine()\n",
    "X = raw_wine.data\n",
    "y = raw_wine.target\n",
    "\n",
    "X_tn, X_te, y_tn, y_te = train_test_split(X,y,random_state=0)"
   ]
  },
  {
   "cell_type": "markdown",
   "id": "2a1edbd7",
   "metadata": {},
   "source": [
    "__데이터 표준화__"
   ]
  },
  {
   "cell_type": "code",
   "execution_count": 3,
   "id": "13b72c75",
   "metadata": {},
   "outputs": [],
   "source": [
    "from sklearn.preprocessing import StandardScaler\n",
    "std_scale = StandardScaler()\n",
    "std_scale.fit(X_tn)\n",
    "X_tn_std = std_scale.transform(X_tn)\n",
    "X_te_std = std_scale.transform(X_te)"
   ]
  },
  {
   "cell_type": "markdown",
   "id": "46c7fdf9",
   "metadata": {},
   "source": [
    "__데이터 학습__"
   ]
  },
  {
   "cell_type": "code",
   "execution_count": 5,
   "id": "1c6d7d0d",
   "metadata": {},
   "outputs": [
    {
     "data": {
      "text/plain": [
       "GaussianNB()"
      ]
     },
     "execution_count": 5,
     "metadata": {},
     "output_type": "execute_result"
    }
   ],
   "source": [
    "from sklearn.naive_bayes import GaussianNB #설명변수가 연속형일때 가우시안 나이브베이즈 사용\n",
    "clf_gnb = GaussianNB()\n",
    "clf_gnb.fit(X_tn_std,y_tn)"
   ]
  },
  {
   "cell_type": "markdown",
   "id": "4e70f44f",
   "metadata": {},
   "source": [
    "__데이터 예측__"
   ]
  },
  {
   "cell_type": "code",
   "execution_count": 6,
   "id": "d1398b20",
   "metadata": {},
   "outputs": [
    {
     "name": "stdout",
     "output_type": "stream",
     "text": [
      "[0 2 1 0 1 1 0 2 1 1 2 2 0 0 2 1 0 0 2 0 0 0 0 1 1 1 1 1 1 2 0 0 1 0 0 0 2\n",
      " 1 1 2 0 0 1 1 1]\n"
     ]
    }
   ],
   "source": [
    "pred_gnb = clf_gnb.predict(X_te_std)\n",
    "print(pred_gnb)"
   ]
  },
  {
   "cell_type": "markdown",
   "id": "852ec3d3",
   "metadata": {},
   "source": [
    "__리콜 평가 및 confusion matrix 확인__"
   ]
  },
  {
   "cell_type": "code",
   "execution_count": 10,
   "id": "6101a338",
   "metadata": {},
   "outputs": [
    {
     "name": "stdout",
     "output_type": "stream",
     "text": [
      "recall score: 0.9523809523809524\n",
      "confusion matrix : \n",
      "[[16  0  0]\n",
      " [ 2 18  1]\n",
      " [ 0  0  8]]\n"
     ]
    }
   ],
   "source": [
    "from sklearn.metrics import recall_score, confusion_matrix\n",
    "recall = recall_score(y_te,pred_gnb,average='macro')\n",
    "print(f'recall score: {recall}')\n",
    "\n",
    "conf_matrix = confusion_matrix(y_te,pred_gnb)\n",
    "print(f'confusion matrix : \\n{conf_matrix}')"
   ]
  },
  {
   "cell_type": "markdown",
   "id": "3f6751bd",
   "metadata": {},
   "source": [
    "__모델에 가중치 부여 후 재평가__"
   ]
  },
  {
   "cell_type": "code",
   "execution_count": 15,
   "id": "adf53ca2",
   "metadata": {},
   "outputs": [
    {
     "name": "stdout",
     "output_type": "stream",
     "text": [
      "recall score: 0.9682539682539683\n",
      "confusion matrix : \n",
      "[[16  0  0]\n",
      " [ 1 19  1]\n",
      " [ 0  0  8]]\n"
     ]
    }
   ],
   "source": [
    "clf_gnb = GaussianNB(priors=[20/100,60/100,20/100])\n",
    "clf_gnb.fit(X_tn_std,y_tn)\n",
    "pred_gnb = clf_gnb.predict(X_te_std)\n",
    "\n",
    "recall = recall_score(y_te,pred_gnb,average='macro')\n",
    "print(f'recall score: {recall}')\n",
    "\n",
    "conf_matrix = confusion_matrix(y_te,pred_gnb)\n",
    "print(f'confusion matrix : \\n{conf_matrix}') #가중치 후 recall score 상승과 2번째 오답률 하락"
   ]
  },
  {
   "cell_type": "markdown",
   "id": "7ff9abdb",
   "metadata": {},
   "source": [
    "__분류 리포트 확인__"
   ]
  },
  {
   "cell_type": "code",
   "execution_count": 17,
   "id": "fcb5d017",
   "metadata": {},
   "outputs": [
    {
     "name": "stdout",
     "output_type": "stream",
     "text": [
      "              precision    recall  f1-score   support\n",
      "\n",
      "           0       0.94      1.00      0.97        16\n",
      "           1       1.00      0.90      0.95        21\n",
      "           2       0.89      1.00      0.94         8\n",
      "\n",
      "    accuracy                           0.96        45\n",
      "   macro avg       0.94      0.97      0.95        45\n",
      "weighted avg       0.96      0.96      0.96        45\n",
      "\n"
     ]
    }
   ],
   "source": [
    "from sklearn.metrics import classification_report\n",
    "class_report = classification_report(y_te,pred_gnb)\n",
    "print(class_report)"
   ]
  },
  {
   "cell_type": "markdown",
   "id": "632a674b",
   "metadata": {},
   "source": [
    "## 의사결정나무\n",
    "-범주형 자료의 데이터 분류\n",
    "#### 엔트로피\n",
    "-불순도의 정도를 측정(서로 다른 데이터가 얼마나 섞여 있는지)하며, 낮을수록 좋음.\n",
    "#### 지니계수\n",
    "-불순도의 정도를 측정(데이터 셋에서 랜덤으로 선택한 데이터에 임의로 라벨링을 정했을 때 틀릴 확률), 낮을수록 좋음.\n",
    "## 회귀나무\n",
    "-연속형 변수 자료의 데이터 분류"
   ]
  },
  {
   "cell_type": "code",
   "execution_count": 18,
   "id": "cdc26606",
   "metadata": {},
   "outputs": [],
   "source": [
    "from sklearn import datasets\n",
    "from sklearn.model_selection import train_test_split\n",
    "raw_wine = datasets.load_wine()\n",
    "\n",
    "X = raw_wine.data\n",
    "y = raw_wine.target\n",
    "\n",
    "X_tn, X_te, y_tn, y_te = train_test_split(X,y,random_state=0)"
   ]
  },
  {
   "cell_type": "markdown",
   "id": "cf1551ef",
   "metadata": {},
   "source": [
    "__데이터 표준화 및 학습__"
   ]
  },
  {
   "cell_type": "code",
   "execution_count": 19,
   "id": "55cb79ee",
   "metadata": {},
   "outputs": [],
   "source": [
    "from sklearn.preprocessing import StandardScaler\n",
    "std_scaler = StandardScaler()\n",
    "std_scaler.fit(X_tn)\n",
    "X_tn_std = std_scaler.transform(X_tn)\n",
    "X_te_std = std_scaler.transform(X_te)"
   ]
  },
  {
   "cell_type": "code",
   "execution_count": 20,
   "id": "c1dfd530",
   "metadata": {},
   "outputs": [
    {
     "data": {
      "text/plain": [
       "DecisionTreeClassifier(random_state=0)"
      ]
     },
     "execution_count": 20,
     "metadata": {},
     "output_type": "execute_result"
    }
   ],
   "source": [
    "from sklearn import tree\n",
    "clf_tree = tree.DecisionTreeClassifier(random_state=0)\n",
    "clf_tree.fit(X_tn_std,y_tn)"
   ]
  },
  {
   "cell_type": "markdown",
   "id": "300a9ba9",
   "metadata": {},
   "source": [
    "__데이터 예측 및 평가__"
   ]
  },
  {
   "cell_type": "code",
   "execution_count": 21,
   "id": "106ef2c4",
   "metadata": {},
   "outputs": [
    {
     "name": "stdout",
     "output_type": "stream",
     "text": [
      "[0 2 1 0 1 1 0 2 1 1 2 2 0 1 2 1 0 0 2 0 1 0 1 1 1 1 1 1 1 2 0 0 1 0 0 0 2\n",
      " 1 1 2 1 0 1 1 1]\n"
     ]
    }
   ],
   "source": [
    "pred_tree = clf_tree.predict(X_te_std)\n",
    "print(pred_tree)"
   ]
  },
  {
   "cell_type": "code",
   "execution_count": 22,
   "id": "9ab5f3cd",
   "metadata": {},
   "outputs": [
    {
     "name": "stdout",
     "output_type": "stream",
     "text": [
      "f1 score:0.9349141206870346\n",
      "confusion matrix :\n",
      "[[14  2  0]\n",
      " [ 0 20  1]\n",
      " [ 0  0  8]]\n"
     ]
    }
   ],
   "source": [
    "#f1 score 평가\n",
    "from sklearn.metrics import f1_score\n",
    "f1 = f1_score(y_te,pred_tree,average='macro')\n",
    "print('f1 score:{}'.format(f1))\n",
    "\n",
    "#confusion_matrix 확인\n",
    "from sklearn.metrics import confusion_matrix\n",
    "conf_matrix = confusion_matrix(y_te,pred_tree)\n",
    "print('confusion matrix :\\n{}'.format(conf_matrix))"
   ]
  },
  {
   "cell_type": "code",
   "execution_count": 23,
   "id": "b9ac8a4e",
   "metadata": {},
   "outputs": [
    {
     "name": "stdout",
     "output_type": "stream",
     "text": [
      "              precision    recall  f1-score   support\n",
      "\n",
      "           0       1.00      0.88      0.93        16\n",
      "           1       0.91      0.95      0.93        21\n",
      "           2       0.89      1.00      0.94         8\n",
      "\n",
      "    accuracy                           0.93        45\n",
      "   macro avg       0.93      0.94      0.93        45\n",
      "weighted avg       0.94      0.93      0.93        45\n",
      "\n"
     ]
    }
   ],
   "source": [
    "from sklearn.metrics import classification_report\n",
    "class_report = classification_report(y_te,pred_tree)\n",
    "print(class_report)"
   ]
  },
  {
   "cell_type": "markdown",
   "id": "05cc4156",
   "metadata": {},
   "source": [
    "## 서포트 벡터 머신 SVC\n",
    "서포트 벡터를 기준으로 클래스를 판별.중심선과 경계선을 이용하여 구분하는데, 이 경계선을 서포트 벡터라고 함.    \n",
    "#### 소프트마진\n",
    "서포트 벡터 머신의 기준을 완화해 잘못 분류된 데이터를 어느 정도 허용하는 방법(슬랙 변수를 이용)\n",
    "#### 커널 서포트 벡터 머신\n",
    "피처 공간을 변경한 후 서포트 벡터 머신을 적용.(빳빳한 종이 -> 구부린 종이)\n",
    "#### 서포트 벡터 회귀\n",
    "서포트 벡터를 회귀 모형으로 만드는데 확용하는 방법. "
   ]
  },
  {
   "cell_type": "markdown",
   "id": "fec25795",
   "metadata": {},
   "source": [
    "__데이터 불러오기 및 분할__"
   ]
  },
  {
   "cell_type": "code",
   "execution_count": 1,
   "id": "f9385961",
   "metadata": {},
   "outputs": [],
   "source": [
    "from sklearn import datasets\n",
    "raw_wine = datasets.load_wine()\n",
    "X = raw_wine.data\n",
    "y = raw_wine.target\n",
    "\n",
    "from sklearn.model_selection import train_test_split\n",
    "X_tn, X_te, y_tn, y_te = train_test_split(X,y,random_state=0)"
   ]
  },
  {
   "cell_type": "markdown",
   "id": "fa5b59db",
   "metadata": {},
   "source": [
    "__데이터 표준화 및 학습__"
   ]
  },
  {
   "cell_type": "code",
   "execution_count": 2,
   "id": "ed7bf26a",
   "metadata": {},
   "outputs": [
    {
     "data": {
      "text/plain": [
       "SVC(kernel='linear', random_state=0)"
      ]
     },
     "execution_count": 2,
     "metadata": {},
     "output_type": "execute_result"
    }
   ],
   "source": [
    "from sklearn.preprocessing import StandardScaler\n",
    "std_scale = StandardScaler()\n",
    "std_scale.fit(X_tn)\n",
    "X_tn_std = std_scale.transform(X_tn)\n",
    "X_te_std = std_scale.transform(X_te)\n",
    "\n",
    "from sklearn import svm\n",
    "clf_svm_lr = svm.SVC(kernel='linear',random_state=0)\n",
    "clf_svm_lr.fit(X_tn_std,y_tn)\n",
    "# SVC : 분류문제 / SVR : 회귀문제\n",
    "# 커널종류 : linear, poly, rbf, sigmoid, precomputed"
   ]
  },
  {
   "cell_type": "markdown",
   "id": "7d07ac1d",
   "metadata": {},
   "source": [
    "__데이터 예측__"
   ]
  },
  {
   "cell_type": "code",
   "execution_count": 4,
   "id": "134eda6e",
   "metadata": {},
   "outputs": [
    {
     "name": "stdout",
     "output_type": "stream",
     "text": [
      "[0 2 1 0 1 1 0 2 1 1 2 2 0 1 2 1 0 0 1 0 1 0 0 1 1 1 1 1 1 2 0 0 1 0 0 0 2\n",
      " 1 1 2 0 0 1 1 1]\n"
     ]
    }
   ],
   "source": [
    "pred_svm = clf_svm_lr.predict(X_te_std)\n",
    "print(pred_svm)"
   ]
  },
  {
   "cell_type": "markdown",
   "id": "2c3407a4",
   "metadata": {},
   "source": [
    "__정확도 평가, confusion metrics, 분류 리포트 확인__"
   ]
  },
  {
   "cell_type": "code",
   "execution_count": 7,
   "id": "2314d19a",
   "metadata": {},
   "outputs": [
    {
     "name": "stdout",
     "output_type": "stream",
     "text": [
      "정확도 : 1.0\n",
      "\n",
      "confusion matrix : \n",
      "[[16  0  0]\n",
      " [ 0 21  0]\n",
      " [ 0  0  8]]\n",
      "\n",
      "분류 리포트 : \n",
      "              precision    recall  f1-score   support\n",
      "\n",
      "           0       1.00      1.00      1.00        16\n",
      "           1       1.00      1.00      1.00        21\n",
      "           2       1.00      1.00      1.00         8\n",
      "\n",
      "    accuracy                           1.00        45\n",
      "   macro avg       1.00      1.00      1.00        45\n",
      "weighted avg       1.00      1.00      1.00        45\n",
      "\n"
     ]
    }
   ],
   "source": [
    "from sklearn.metrics import accuracy_score\n",
    "accuracy = accuracy_score(y_te,pred_svm)\n",
    "print('정확도 : {}'.format(accuracy))\n",
    "\n",
    "from sklearn.metrics import confusion_matrix\n",
    "conf_matrix = confusion_matrix(y_te,pred_svm)\n",
    "print('\\nconfusion matrix : \\n{}'.format(conf_matrix))\n",
    "\n",
    "from sklearn.metrics import classification_report\n",
    "class_report = classification_report(y_te,pred_svm)\n",
    "print('\\n분류 리포트 : \\n{}'.format(class_report))"
   ]
  },
  {
   "cell_type": "markdown",
   "id": "39d7fbaf",
   "metadata": {},
   "source": [
    "## Cross Validation \n",
    "하이퍼 파라미터 튜닝을 통한 크로스 밸리데이션 기법"
   ]
  },
  {
   "cell_type": "code",
   "execution_count": 8,
   "id": "81fa5758",
   "metadata": {},
   "outputs": [],
   "source": [
    "from sklearn import datasets\n",
    "raw_wine = datasets.load_wine()\n",
    "\n",
    "X = raw_wine.data\n",
    "y = raw_wine.target\n",
    "\n",
    "from sklearn.model_selection import train_test_split\n",
    "X_tn, X_te, y_tn, y_te = train_test_split(X,y,random_state=0)\n",
    "\n",
    "from sklearn.preprocessing import StandardScaler\n",
    "std_scale = StandardScaler()\n",
    "std_scale.fit(X_tn)\n",
    "X_tn_std = std_scale.transform(X_tn)\n",
    "X_te_std = std_scale.transform(X_te)"
   ]
  },
  {
   "cell_type": "code",
   "execution_count": 10,
   "id": "5e970741",
   "metadata": {},
   "outputs": [
    {
     "data": {
      "text/plain": [
       "GridSearchCV(cv=StratifiedKFold(n_splits=5, random_state=0, shuffle=True),\n",
       "             estimator=SVC(random_state=0),\n",
       "             param_grid={'C': [0.5, 1, 10, 100], 'kernel': ('linear', 'rbf')},\n",
       "             scoring='accuracy')"
      ]
     },
     "execution_count": 10,
     "metadata": {},
     "output_type": "execute_result"
    }
   ],
   "source": [
    "from sklearn import svm\n",
    "from sklearn.model_selection import StratifiedKFold # 라벨링의 비율을 유지하며 데이터를 추출\n",
    "from sklearn.model_selection import GridSearchCV\n",
    "\n",
    "param_grid = {'kernel':('linear','rbf'),\n",
    "              'C':[0.5,1,10,100]}\n",
    "kfold = StratifiedKFold(n_splits=5,shuffle=True,random_state=0)\n",
    "svc = svm.SVC(random_state=0)\n",
    "grid_cv = GridSearchCV(svc, param_grid,cv=kfold,scoring='accuracy')\n",
    "grid_cv.fit(X_tn_std,y_tn)"
   ]
  },
  {
   "cell_type": "code",
   "execution_count": 11,
   "id": "399bb76d",
   "metadata": {},
   "outputs": [
    {
     "data": {
      "text/plain": [
       "{'mean_fit_time': array([0.00149064, 0.00170121, 0.00140681, 0.00100102, 0.00081921,\n",
       "        0.00200429, 0.00179949, 0.00179415]),\n",
       " 'std_fit_time': array([1.03138712e-03, 1.13354235e-03, 4.89861722e-04, 2.94246007e-05,\n",
       "        4.11996107e-04, 6.40980404e-04, 7.54956361e-04, 3.98659802e-04]),\n",
       " 'mean_score_time': array([0.00059743, 0.00092101, 0.        , 0.00062957, 0.        ,\n",
       "        0.00080671, 0.00079732, 0.00019927]),\n",
       " 'std_score_time': array([0.00048881, 0.00095741, 0.        , 0.00051757, 0.        ,\n",
       "        0.0004038 , 0.00039866, 0.00039854]),\n",
       " 'param_C': masked_array(data=[0.5, 0.5, 1, 1, 10, 10, 100, 100],\n",
       "              mask=[False, False, False, False, False, False, False, False],\n",
       "        fill_value='?',\n",
       "             dtype=object),\n",
       " 'param_kernel': masked_array(data=['linear', 'rbf', 'linear', 'rbf', 'linear', 'rbf',\n",
       "                    'linear', 'rbf'],\n",
       "              mask=[False, False, False, False, False, False, False, False],\n",
       "        fill_value='?',\n",
       "             dtype=object),\n",
       " 'params': [{'C': 0.5, 'kernel': 'linear'},\n",
       "  {'C': 0.5, 'kernel': 'rbf'},\n",
       "  {'C': 1, 'kernel': 'linear'},\n",
       "  {'C': 1, 'kernel': 'rbf'},\n",
       "  {'C': 10, 'kernel': 'linear'},\n",
       "  {'C': 10, 'kernel': 'rbf'},\n",
       "  {'C': 100, 'kernel': 'linear'},\n",
       "  {'C': 100, 'kernel': 'rbf'}],\n",
       " 'split0_test_score': array([0.88888889, 0.96296296, 0.88888889, 0.92592593, 0.88888889,\n",
       "        0.92592593, 0.88888889, 0.92592593]),\n",
       " 'split1_test_score': array([0.96296296, 1.        , 0.96296296, 0.96296296, 0.96296296,\n",
       "        0.96296296, 0.96296296, 0.96296296]),\n",
       " 'split2_test_score': array([0.92592593, 0.96296296, 0.92592593, 0.96296296, 0.92592593,\n",
       "        0.96296296, 0.92592593, 0.96296296]),\n",
       " 'split3_test_score': array([1.        , 0.96153846, 1.        , 0.96153846, 1.        ,\n",
       "        0.96153846, 1.        , 0.96153846]),\n",
       " 'split4_test_score': array([0.84615385, 1.        , 0.84615385, 1.        , 0.84615385,\n",
       "        1.        , 0.84615385, 1.        ]),\n",
       " 'mean_test_score': array([0.92478632, 0.97749288, 0.92478632, 0.96267806, 0.92478632,\n",
       "        0.96267806, 0.92478632, 0.96267806]),\n",
       " 'std_test_score': array([0.05401397, 0.01838435, 0.05401397, 0.02343121, 0.05401397,\n",
       "        0.02343121, 0.05401397, 0.02343121]),\n",
       " 'rank_test_score': array([5, 1, 5, 2, 5, 2, 5, 2])}"
      ]
     },
     "execution_count": 11,
     "metadata": {},
     "output_type": "execute_result"
    }
   ],
   "source": [
    "grid_cv.cv_results_"
   ]
  },
  {
   "cell_type": "code",
   "execution_count": 12,
   "id": "451aa16e",
   "metadata": {},
   "outputs": [
    {
     "data": {
      "text/html": [
       "<div>\n",
       "<style scoped>\n",
       "    .dataframe tbody tr th:only-of-type {\n",
       "        vertical-align: middle;\n",
       "    }\n",
       "\n",
       "    .dataframe tbody tr th {\n",
       "        vertical-align: top;\n",
       "    }\n",
       "\n",
       "    .dataframe thead th {\n",
       "        text-align: right;\n",
       "    }\n",
       "</style>\n",
       "<table border=\"1\" class=\"dataframe\">\n",
       "  <thead>\n",
       "    <tr style=\"text-align: right;\">\n",
       "      <th></th>\n",
       "      <th>0</th>\n",
       "      <th>1</th>\n",
       "      <th>2</th>\n",
       "      <th>3</th>\n",
       "      <th>4</th>\n",
       "      <th>5</th>\n",
       "      <th>6</th>\n",
       "      <th>7</th>\n",
       "    </tr>\n",
       "  </thead>\n",
       "  <tbody>\n",
       "    <tr>\n",
       "      <th>mean_fit_time</th>\n",
       "      <td>0.001491</td>\n",
       "      <td>0.001701</td>\n",
       "      <td>0.001407</td>\n",
       "      <td>0.001001</td>\n",
       "      <td>0.000819</td>\n",
       "      <td>0.002004</td>\n",
       "      <td>0.001799</td>\n",
       "      <td>0.001794</td>\n",
       "    </tr>\n",
       "    <tr>\n",
       "      <th>std_fit_time</th>\n",
       "      <td>0.001031</td>\n",
       "      <td>0.001134</td>\n",
       "      <td>0.00049</td>\n",
       "      <td>0.000029</td>\n",
       "      <td>0.000412</td>\n",
       "      <td>0.000641</td>\n",
       "      <td>0.000755</td>\n",
       "      <td>0.000399</td>\n",
       "    </tr>\n",
       "    <tr>\n",
       "      <th>mean_score_time</th>\n",
       "      <td>0.000597</td>\n",
       "      <td>0.000921</td>\n",
       "      <td>0.0</td>\n",
       "      <td>0.00063</td>\n",
       "      <td>0.0</td>\n",
       "      <td>0.000807</td>\n",
       "      <td>0.000797</td>\n",
       "      <td>0.000199</td>\n",
       "    </tr>\n",
       "    <tr>\n",
       "      <th>std_score_time</th>\n",
       "      <td>0.000489</td>\n",
       "      <td>0.000957</td>\n",
       "      <td>0.0</td>\n",
       "      <td>0.000518</td>\n",
       "      <td>0.0</td>\n",
       "      <td>0.000404</td>\n",
       "      <td>0.000399</td>\n",
       "      <td>0.000399</td>\n",
       "    </tr>\n",
       "    <tr>\n",
       "      <th>param_C</th>\n",
       "      <td>0.5</td>\n",
       "      <td>0.5</td>\n",
       "      <td>1</td>\n",
       "      <td>1</td>\n",
       "      <td>10</td>\n",
       "      <td>10</td>\n",
       "      <td>100</td>\n",
       "      <td>100</td>\n",
       "    </tr>\n",
       "    <tr>\n",
       "      <th>param_kernel</th>\n",
       "      <td>linear</td>\n",
       "      <td>rbf</td>\n",
       "      <td>linear</td>\n",
       "      <td>rbf</td>\n",
       "      <td>linear</td>\n",
       "      <td>rbf</td>\n",
       "      <td>linear</td>\n",
       "      <td>rbf</td>\n",
       "    </tr>\n",
       "    <tr>\n",
       "      <th>params</th>\n",
       "      <td>{'C': 0.5, 'kernel': 'linear'}</td>\n",
       "      <td>{'C': 0.5, 'kernel': 'rbf'}</td>\n",
       "      <td>{'C': 1, 'kernel': 'linear'}</td>\n",
       "      <td>{'C': 1, 'kernel': 'rbf'}</td>\n",
       "      <td>{'C': 10, 'kernel': 'linear'}</td>\n",
       "      <td>{'C': 10, 'kernel': 'rbf'}</td>\n",
       "      <td>{'C': 100, 'kernel': 'linear'}</td>\n",
       "      <td>{'C': 100, 'kernel': 'rbf'}</td>\n",
       "    </tr>\n",
       "    <tr>\n",
       "      <th>split0_test_score</th>\n",
       "      <td>0.888889</td>\n",
       "      <td>0.962963</td>\n",
       "      <td>0.888889</td>\n",
       "      <td>0.925926</td>\n",
       "      <td>0.888889</td>\n",
       "      <td>0.925926</td>\n",
       "      <td>0.888889</td>\n",
       "      <td>0.925926</td>\n",
       "    </tr>\n",
       "    <tr>\n",
       "      <th>split1_test_score</th>\n",
       "      <td>0.962963</td>\n",
       "      <td>1.0</td>\n",
       "      <td>0.962963</td>\n",
       "      <td>0.962963</td>\n",
       "      <td>0.962963</td>\n",
       "      <td>0.962963</td>\n",
       "      <td>0.962963</td>\n",
       "      <td>0.962963</td>\n",
       "    </tr>\n",
       "    <tr>\n",
       "      <th>split2_test_score</th>\n",
       "      <td>0.925926</td>\n",
       "      <td>0.962963</td>\n",
       "      <td>0.925926</td>\n",
       "      <td>0.962963</td>\n",
       "      <td>0.925926</td>\n",
       "      <td>0.962963</td>\n",
       "      <td>0.925926</td>\n",
       "      <td>0.962963</td>\n",
       "    </tr>\n",
       "    <tr>\n",
       "      <th>split3_test_score</th>\n",
       "      <td>1.0</td>\n",
       "      <td>0.961538</td>\n",
       "      <td>1.0</td>\n",
       "      <td>0.961538</td>\n",
       "      <td>1.0</td>\n",
       "      <td>0.961538</td>\n",
       "      <td>1.0</td>\n",
       "      <td>0.961538</td>\n",
       "    </tr>\n",
       "    <tr>\n",
       "      <th>split4_test_score</th>\n",
       "      <td>0.846154</td>\n",
       "      <td>1.0</td>\n",
       "      <td>0.846154</td>\n",
       "      <td>1.0</td>\n",
       "      <td>0.846154</td>\n",
       "      <td>1.0</td>\n",
       "      <td>0.846154</td>\n",
       "      <td>1.0</td>\n",
       "    </tr>\n",
       "    <tr>\n",
       "      <th>mean_test_score</th>\n",
       "      <td>0.924786</td>\n",
       "      <td>0.977493</td>\n",
       "      <td>0.924786</td>\n",
       "      <td>0.962678</td>\n",
       "      <td>0.924786</td>\n",
       "      <td>0.962678</td>\n",
       "      <td>0.924786</td>\n",
       "      <td>0.962678</td>\n",
       "    </tr>\n",
       "    <tr>\n",
       "      <th>std_test_score</th>\n",
       "      <td>0.054014</td>\n",
       "      <td>0.018384</td>\n",
       "      <td>0.054014</td>\n",
       "      <td>0.023431</td>\n",
       "      <td>0.054014</td>\n",
       "      <td>0.023431</td>\n",
       "      <td>0.054014</td>\n",
       "      <td>0.023431</td>\n",
       "    </tr>\n",
       "    <tr>\n",
       "      <th>rank_test_score</th>\n",
       "      <td>5</td>\n",
       "      <td>1</td>\n",
       "      <td>5</td>\n",
       "      <td>2</td>\n",
       "      <td>5</td>\n",
       "      <td>2</td>\n",
       "      <td>5</td>\n",
       "      <td>2</td>\n",
       "    </tr>\n",
       "  </tbody>\n",
       "</table>\n",
       "</div>"
      ],
      "text/plain": [
       "                                                0  \\\n",
       "mean_fit_time                            0.001491   \n",
       "std_fit_time                             0.001031   \n",
       "mean_score_time                          0.000597   \n",
       "std_score_time                           0.000489   \n",
       "param_C                                       0.5   \n",
       "param_kernel                               linear   \n",
       "params             {'C': 0.5, 'kernel': 'linear'}   \n",
       "split0_test_score                        0.888889   \n",
       "split1_test_score                        0.962963   \n",
       "split2_test_score                        0.925926   \n",
       "split3_test_score                             1.0   \n",
       "split4_test_score                        0.846154   \n",
       "mean_test_score                          0.924786   \n",
       "std_test_score                           0.054014   \n",
       "rank_test_score                                 5   \n",
       "\n",
       "                                             1                             2  \\\n",
       "mean_fit_time                         0.001701                      0.001407   \n",
       "std_fit_time                          0.001134                       0.00049   \n",
       "mean_score_time                       0.000921                           0.0   \n",
       "std_score_time                        0.000957                           0.0   \n",
       "param_C                                    0.5                             1   \n",
       "param_kernel                               rbf                        linear   \n",
       "params             {'C': 0.5, 'kernel': 'rbf'}  {'C': 1, 'kernel': 'linear'}   \n",
       "split0_test_score                     0.962963                      0.888889   \n",
       "split1_test_score                          1.0                      0.962963   \n",
       "split2_test_score                     0.962963                      0.925926   \n",
       "split3_test_score                     0.961538                           1.0   \n",
       "split4_test_score                          1.0                      0.846154   \n",
       "mean_test_score                       0.977493                      0.924786   \n",
       "std_test_score                        0.018384                      0.054014   \n",
       "rank_test_score                              1                             5   \n",
       "\n",
       "                                           3                              4  \\\n",
       "mean_fit_time                       0.001001                       0.000819   \n",
       "std_fit_time                        0.000029                       0.000412   \n",
       "mean_score_time                      0.00063                            0.0   \n",
       "std_score_time                      0.000518                            0.0   \n",
       "param_C                                    1                             10   \n",
       "param_kernel                             rbf                         linear   \n",
       "params             {'C': 1, 'kernel': 'rbf'}  {'C': 10, 'kernel': 'linear'}   \n",
       "split0_test_score                   0.925926                       0.888889   \n",
       "split1_test_score                   0.962963                       0.962963   \n",
       "split2_test_score                   0.962963                       0.925926   \n",
       "split3_test_score                   0.961538                            1.0   \n",
       "split4_test_score                        1.0                       0.846154   \n",
       "mean_test_score                     0.962678                       0.924786   \n",
       "std_test_score                      0.023431                       0.054014   \n",
       "rank_test_score                            2                              5   \n",
       "\n",
       "                                            5                               6  \\\n",
       "mean_fit_time                        0.002004                        0.001799   \n",
       "std_fit_time                         0.000641                        0.000755   \n",
       "mean_score_time                      0.000807                        0.000797   \n",
       "std_score_time                       0.000404                        0.000399   \n",
       "param_C                                    10                             100   \n",
       "param_kernel                              rbf                          linear   \n",
       "params             {'C': 10, 'kernel': 'rbf'}  {'C': 100, 'kernel': 'linear'}   \n",
       "split0_test_score                    0.925926                        0.888889   \n",
       "split1_test_score                    0.962963                        0.962963   \n",
       "split2_test_score                    0.962963                        0.925926   \n",
       "split3_test_score                    0.961538                             1.0   \n",
       "split4_test_score                         1.0                        0.846154   \n",
       "mean_test_score                      0.962678                        0.924786   \n",
       "std_test_score                       0.023431                        0.054014   \n",
       "rank_test_score                             2                               5   \n",
       "\n",
       "                                             7  \n",
       "mean_fit_time                         0.001794  \n",
       "std_fit_time                          0.000399  \n",
       "mean_score_time                       0.000199  \n",
       "std_score_time                        0.000399  \n",
       "param_C                                    100  \n",
       "param_kernel                               rbf  \n",
       "params             {'C': 100, 'kernel': 'rbf'}  \n",
       "split0_test_score                     0.925926  \n",
       "split1_test_score                     0.962963  \n",
       "split2_test_score                     0.962963  \n",
       "split3_test_score                     0.961538  \n",
       "split4_test_score                          1.0  \n",
       "mean_test_score                       0.962678  \n",
       "std_test_score                        0.023431  \n",
       "rank_test_score                              2  "
      ]
     },
     "execution_count": 12,
     "metadata": {},
     "output_type": "execute_result"
    }
   ],
   "source": [
    "import numpy as np\n",
    "import pandas as pd\n",
    "np.transpose(pd.DataFrame(grid_cv.cv_results_))"
   ]
  },
  {
   "cell_type": "code",
   "execution_count": 15,
   "id": "502f805b",
   "metadata": {},
   "outputs": [
    {
     "name": "stdout",
     "output_type": "stream",
     "text": [
      "0.9774928774928775\n",
      "{'C': 0.5, 'kernel': 'rbf'}\n"
     ]
    }
   ],
   "source": [
    "print(grid_cv.best_score_)\n",
    "print(grid_cv.best_params_)"
   ]
  },
  {
   "cell_type": "code",
   "execution_count": 16,
   "id": "69beff98",
   "metadata": {},
   "outputs": [
    {
     "name": "stdout",
     "output_type": "stream",
     "text": [
      "SVC(C=0.5, random_state=0)\n"
     ]
    }
   ],
   "source": [
    "clf = grid_cv.best_estimator_\n",
    "print(clf)"
   ]
  },
  {
   "cell_type": "code",
   "execution_count": 17,
   "id": "bfd14c6d",
   "metadata": {},
   "outputs": [
    {
     "data": {
      "text/plain": [
       "SVC(C=0.5, random_state=0)"
      ]
     },
     "execution_count": 17,
     "metadata": {},
     "output_type": "execute_result"
    }
   ],
   "source": [
    "grid_cv.best_estimator_"
   ]
  },
  {
   "cell_type": "markdown",
   "id": "e5b64bf2",
   "metadata": {},
   "source": [
    "__크로스 밸리데이션 스코어 확인(1)__"
   ]
  },
  {
   "cell_type": "code",
   "execution_count": 18,
   "id": "2219f9b9",
   "metadata": {},
   "outputs": [
    {
     "data": {
      "text/plain": [
       "{'fit_time': array([0.00301456, 0.00200462, 0.00098133, 0.00185299, 0.00130367]),\n",
       " 'score_time': array([0.00196218, 0.0019896 , 0.0019927 , 0.00250006, 0.00314784]),\n",
       " 'test_accuracy': array([0.96296296, 1.        , 0.96296296, 0.96153846, 1.        ]),\n",
       " 'test_precision_macro': array([0.96296296, 1.        , 0.96969697, 0.96969697, 1.        ]),\n",
       " 'test_recall_macro': array([0.96666667, 1.        , 0.96296296, 0.95833333, 1.        ]),\n",
       " 'test_f1_macro': array([0.9628483 , 1.        , 0.96451914, 0.96190476, 1.        ])}"
      ]
     },
     "execution_count": 18,
     "metadata": {},
     "output_type": "execute_result"
    }
   ],
   "source": [
    "# 첫번째 방법\n",
    "from sklearn.model_selection import cross_validate\n",
    "metrics = ['accuracy','precision_macro','recall_macro','f1_macro']\n",
    "cv_scores = cross_validate(clf, X_tn_std, y_tn, cv=kfold, scoring=metrics)\n",
    "cv_scores"
   ]
  },
  {
   "cell_type": "markdown",
   "id": "2c9ea760",
   "metadata": {},
   "source": [
    "__크로스 밸리데이션 스코어 확인(2)__"
   ]
  },
  {
   "cell_type": "code",
   "execution_count": 19,
   "id": "d86e80c8",
   "metadata": {},
   "outputs": [
    {
     "name": "stdout",
     "output_type": "stream",
     "text": [
      "[0.96296296 1.         0.96296296 0.96153846 1.        ]\n",
      "0.9774928774928775\n",
      "0.01838434849561446\n"
     ]
    }
   ],
   "source": [
    "# 두번째 방법\n",
    "from sklearn.model_selection import cross_val_score\n",
    "cv_score = cross_val_score(clf, X_tn_std, y_tn, cv=kfold, scoring='accuracy')\n",
    "print(cv_score) #split 별로 정확도 확인\n",
    "print(cv_score.mean()) #정확도의 평균\n",
    "print(cv_score.std()) #정확도의 표준편차"
   ]
  },
  {
   "cell_type": "markdown",
   "id": "725cf48c",
   "metadata": {},
   "source": [
    "__예측__"
   ]
  },
  {
   "cell_type": "code",
   "execution_count": 20,
   "id": "bf592484",
   "metadata": {},
   "outputs": [
    {
     "name": "stdout",
     "output_type": "stream",
     "text": [
      "[0 2 1 0 1 1 0 2 1 1 2 2 0 1 2 1 0 0 1 0 1 0 0 1 1 1 1 1 1 2 0 0 1 0 0 0 2\n",
      " 1 1 2 0 0 1 1 1]\n"
     ]
    }
   ],
   "source": [
    "pred_svm = clf.predict(X_te_std)\n",
    "print(pred_svm)"
   ]
  },
  {
   "cell_type": "markdown",
   "id": "204d316f",
   "metadata": {},
   "source": [
    "__정확도 및 confusion matrix, 분류리포트 확인__"
   ]
  },
  {
   "cell_type": "code",
   "execution_count": 21,
   "id": "5b6cf37c",
   "metadata": {},
   "outputs": [
    {
     "name": "stdout",
     "output_type": "stream",
     "text": [
      "정확도 : 1.0\n",
      "\n",
      "confusion matrix : \n",
      "[[16  0  0]\n",
      " [ 0 21  0]\n",
      " [ 0  0  8]]\n",
      "\n",
      "분류 리포트 : \n",
      "              precision    recall  f1-score   support\n",
      "\n",
      "           0       1.00      1.00      1.00        16\n",
      "           1       1.00      1.00      1.00        21\n",
      "           2       1.00      1.00      1.00         8\n",
      "\n",
      "    accuracy                           1.00        45\n",
      "   macro avg       1.00      1.00      1.00        45\n",
      "weighted avg       1.00      1.00      1.00        45\n",
      "\n"
     ]
    }
   ],
   "source": [
    "from sklearn.metrics import accuracy_score\n",
    "accuracy = accuracy_score(y_te,pred_svm)\n",
    "print('정확도 : {}'.format(accuracy))\n",
    "\n",
    "from sklearn.metrics import confusion_matrix\n",
    "conf_matrix = confusion_matrix(y_te,pred_svm)\n",
    "print('\\nconfusion matrix : \\n{}'.format(conf_matrix))\n",
    "\n",
    "from sklearn.metrics import classification_report\n",
    "class_report = classification_report(y_te,pred_svm)\n",
    "print('\\n분류 리포트 : \\n{}'.format(class_report))"
   ]
  },
  {
   "cell_type": "markdown",
   "id": "485a223f",
   "metadata": {},
   "source": [
    "## 앙상블 학습\n",
    "### 보팅\n",
    "여러 개의 분류 모형의 결과를 대상으로 투표를 통해 최종 클래스 라벨을 정하는 방법.(다수결 / 과반수 투표)"
   ]
  },
  {
   "cell_type": "markdown",
   "id": "d86e0c16",
   "metadata": {},
   "source": [
    "__데이터 불러오기. 피처, 타깃 데이터 지정. 데이터 분할__"
   ]
  },
  {
   "cell_type": "code",
   "execution_count": 1,
   "id": "0bd02083",
   "metadata": {},
   "outputs": [],
   "source": [
    "from sklearn import datasets\n",
    "raw_iris = datasets.load_iris()\n",
    "\n",
    "X = raw_iris.data\n",
    "y = raw_iris.target\n",
    "\n",
    "from sklearn.model_selection import train_test_split\n",
    "X_tn, X_te, y_tn, y_te = train_test_split(X,y,random_state=0)"
   ]
  },
  {
   "cell_type": "markdown",
   "id": "e00a0d50",
   "metadata": {},
   "source": [
    "__데이터 표준화__"
   ]
  },
  {
   "cell_type": "code",
   "execution_count": 2,
   "id": "9207d655",
   "metadata": {},
   "outputs": [],
   "source": [
    "from sklearn.preprocessing import StandardScaler\n",
    "std_scale = StandardScaler()\n",
    "std_scale.fit(X_tn)\n",
    "X_tn_std = std_scale.transform(X_tn)\n",
    "X_te_std = std_scale.transform(X_te)"
   ]
  },
  {
   "cell_type": "markdown",
   "id": "b3c4a7df",
   "metadata": {},
   "source": [
    "__데이터 학습__"
   ]
  },
  {
   "cell_type": "code",
   "execution_count": 3,
   "id": "18ec43d1",
   "metadata": {},
   "outputs": [
    {
     "data": {
      "text/plain": [
       "VotingClassifier(estimators=[('lr',\n",
       "                              LogisticRegression(multi_class='multinomial',\n",
       "                                                 random_state=1)),\n",
       "                             ('svm', SVC(kernel='linear', random_state=1)),\n",
       "                             ('gnb', GaussianNB())],\n",
       "                 weights=[1, 1, 1])"
      ]
     },
     "execution_count": 3,
     "metadata": {},
     "output_type": "execute_result"
    }
   ],
   "source": [
    "from sklearn.linear_model import LogisticRegression\n",
    "from sklearn import svm\n",
    "from sklearn.naive_bayes import GaussianNB\n",
    "from sklearn.ensemble import VotingClassifier #분류문제 : votingclassifier / 회귀문제 : VotingRegressor\n",
    "\n",
    "clf1 = LogisticRegression(multi_class='multinomial',\n",
    "                         random_state = 1)\n",
    "clf2 = svm.SVC(kernel='linear',\n",
    "              random_state=1)\n",
    "clf3 = GaussianNB()\n",
    "\n",
    "clf_voting = VotingClassifier(\n",
    "                estimators=[\n",
    "                    ('lr',clf1),\n",
    "                    ('svm',clf2),\n",
    "                    ('gnb',clf3)\n",
    "                ],\n",
    "                voting='hard', #hard : 투표 결과로 과반수가 넘는 라벨 설정 / soft : 확률이 가장 높은 라벨로 설정\n",
    "                weights=[1,1,1])\n",
    "clf_voting.fit(X_tn_std,y_tn)"
   ]
  },
  {
   "cell_type": "markdown",
   "id": "5a1d39e1",
   "metadata": {},
   "source": [
    "__데이터 예측__"
   ]
  },
  {
   "cell_type": "code",
   "execution_count": 4,
   "id": "ff8fe2a8",
   "metadata": {},
   "outputs": [
    {
     "name": "stdout",
     "output_type": "stream",
     "text": [
      "[2 1 0 2 0 2 0 1 1 1 2 1 1 1 1 0 1 1 0 0 2 1 0 0 2 0 0 1 1 0 2 1 0 2 2 1 0\n",
      " 2]\n"
     ]
    }
   ],
   "source": [
    "pred_voting  = clf_voting.predict(X_te_std)\n",
    "print(pred_voting)"
   ]
  },
  {
   "cell_type": "markdown",
   "id": "26dfbd54",
   "metadata": {},
   "source": [
    "__정확도 평가 및 confusion matrix, 분류 리포트 확인__"
   ]
  },
  {
   "cell_type": "code",
   "execution_count": 5,
   "id": "6a7cd7cf",
   "metadata": {},
   "outputs": [
    {
     "name": "stdout",
     "output_type": "stream",
     "text": [
      "0.9736842105263158\n",
      "[[13  0  0]\n",
      " [ 0 15  1]\n",
      " [ 0  0  9]]\n",
      "              precision    recall  f1-score   support\n",
      "\n",
      "           0       1.00      1.00      1.00        13\n",
      "           1       1.00      0.94      0.97        16\n",
      "           2       0.90      1.00      0.95         9\n",
      "\n",
      "    accuracy                           0.97        38\n",
      "   macro avg       0.97      0.98      0.97        38\n",
      "weighted avg       0.98      0.97      0.97        38\n",
      "\n"
     ]
    }
   ],
   "source": [
    "from sklearn.metrics import accuracy_score\n",
    "accuracy = accuracy_score(y_te,pred_voting)\n",
    "print(accuracy)\n",
    "\n",
    "from sklearn.metrics import confusion_matrix\n",
    "conf_matrix = confusion_matrix(y_te,pred_voting)\n",
    "print(conf_matrix)\n",
    "\n",
    "from sklearn.metrics import classification_report\n",
    "class_report = classification_report(y_te,pred_voting)\n",
    "print(class_report)"
   ]
  },
  {
   "cell_type": "markdown",
   "id": "384b897c",
   "metadata": {},
   "source": [
    "## 독립적 앙상블 방법 (배깅/랜덤 포레스트)\n",
    "### 배깅\n",
    "개별 분류기들의 분류 결과를 종합하여 최종 분류기의 성능을 향상하는 방법.     \n",
    "동일한 트레이닝 데이터로 학습하는 보팅과 달리 배깅은 오리지널 트레이닝 데이터 셋에서 부트스트랩 샘플을 뽑아 학습.    \n",
    "(부트스트랩 : 중복을 허용한 랜덤 샘플 방법)"
   ]
  },
  {
   "cell_type": "code",
   "execution_count": 15,
   "id": "6e8f428b",
   "metadata": {},
   "outputs": [
    {
     "name": "stdout",
     "output_type": "stream",
     "text": [
      "accuracy : 0.9555555555555556\n",
      "confusion matrix : \n",
      "[[16  0  0]\n",
      " [ 1 19  1]\n",
      " [ 0  0  8]]\n",
      "분류 리포트 : \n",
      "              precision    recall  f1-score   support\n",
      "\n",
      "           0       0.94      1.00      0.97        16\n",
      "           1       1.00      0.90      0.95        21\n",
      "           2       0.89      1.00      0.94         8\n",
      "\n",
      "    accuracy                           0.96        45\n",
      "   macro avg       0.94      0.97      0.95        45\n",
      "weighted avg       0.96      0.96      0.96        45\n",
      "\n"
     ]
    }
   ],
   "source": [
    "from sklearn import datasets\n",
    "raw_wine = datasets.load_wine()\n",
    "\n",
    "X = raw_wine.data\n",
    "y = raw_wine.target\n",
    "\n",
    "from sklearn.model_selection import train_test_split\n",
    "X_tn, X_te, y_tn, y_te = train_test_split(X,y,random_state=0)\n",
    "\n",
    "#데이터 표준화\n",
    "from sklearn.preprocessing import StandardScaler\n",
    "std_scale = StandardScaler()\n",
    "std_scale.fit(X_tn)\n",
    "X_tn_std = std_scale.transform(X_tn)\n",
    "X_te_std = std_scale.transform(X_te)\n",
    "\n",
    "#데이터 학습\n",
    "from sklearn.naive_bayes import GaussianNB\n",
    "from sklearn.ensemble import BaggingClassifier #분류 : BaggingClassifier / 회귀 : BaggingRegressor\n",
    "clf_bagging = BaggingClassifier(base_estimator=GaussianNB(), #개별 분류기로 사용할 함수 설정\n",
    "                               n_estimators=10, #개별 분류기의 개수\n",
    "                               random_state=0)\n",
    "clf_bagging.fit(X_tn_std,y_tn)\n",
    "\n",
    "#데이터 예측\n",
    "pred_bagging = clf_bagging.predict(X_te_std)\n",
    "\n",
    "#정확도 평가\n",
    "from sklearn.metrics import accuracy_score\n",
    "accuracy = accuracy_score(y_te,pred_bagging)\n",
    "print('accuracy : {}'.format(accuracy))\n",
    "\n",
    "#confusion matrix 확인\n",
    "from sklearn.metrics import confusion_matrix\n",
    "conf_matrix = confusion_matrix(y_te,pred_bagging)\n",
    "print('confusion matrix : \\n{}'.format(conf_matrix))\n",
    "\n",
    "#분류 리포트 확인\n",
    "from sklearn.metrics import classification_report\n",
    "class_report = classification_report(y_te,pred_bagging)\n",
    "print('분류 리포트 : \\n{}'.format(class_report))"
   ]
  },
  {
   "cell_type": "markdown",
   "id": "eaf167ce",
   "metadata": {},
   "source": [
    "### 랜덤 포레스트\n",
    "여러 개의 개별 분류기인 의사 결정 나무를 토대로 예측한 결과를 종합해 전체 예측 정확도를 높이는 방법."
   ]
  },
  {
   "cell_type": "code",
   "execution_count": 11,
   "id": "31e5e7d5",
   "metadata": {},
   "outputs": [
    {
     "name": "stdout",
     "output_type": "stream",
     "text": [
      "accuracy : 0.9555555555555556\n",
      "confusion matrix : \n",
      "[[16  0  0]\n",
      " [ 1 19  1]\n",
      " [ 0  0  8]]\n",
      "분류 리포트 : \n",
      "              precision    recall  f1-score   support\n",
      "\n",
      "           0       0.94      1.00      0.97        16\n",
      "           1       1.00      0.90      0.95        21\n",
      "           2       0.89      1.00      0.94         8\n",
      "\n",
      "    accuracy                           0.96        45\n",
      "   macro avg       0.94      0.97      0.95        45\n",
      "weighted avg       0.96      0.96      0.96        45\n",
      "\n"
     ]
    }
   ],
   "source": [
    "from sklearn import datasets\n",
    "raw_wine = datasets.load_wine()\n",
    "\n",
    "X = raw_wine.data\n",
    "y = raw_wine.target\n",
    "\n",
    "from sklearn.model_selection import train_test_split\n",
    "X_tn, X_te, y_tn, y_te = train_test_split(X,y,random_state=0)\n",
    "\n",
    "#데이터 표준화\n",
    "from sklearn.preprocessing import StandardScaler\n",
    "std_scale = StandardScaler()\n",
    "std_scale.fit(X_tn)\n",
    "X_tn_std = std_scale.transform(X_tn)\n",
    "X_te_std = std_scale.transform(X_te)\n",
    "\n",
    "#데이터 학습\n",
    "from sklearn.ensemble import RandomForestClassifier # 분류문제 : RandomForestClassifier/회귀문제 : RandomForestRegressor\n",
    "clf_rf = RandomForestClassifier(max_depth=2,\n",
    "                               random_state=0)\n",
    "clf_rf.fit(X_tn_std,y_tn)\n",
    "\n",
    "#데이터 예측\n",
    "pred_rf = clf_rf.predict(X_te_std)\n",
    "\n",
    "#정확도 평가\n",
    "from sklearn.metrics import accuracy_score\n",
    "accuracy = accuracy_score(y_te,pred_rf)\n",
    "print('accuracy : {}'.format(accuracy))\n",
    "\n",
    "#confusion matrix 확인\n",
    "from sklearn.metrics import confusion_matrix\n",
    "conf_matrix = confusion_matrix(y_te,pred_rf)\n",
    "print('confusion matrix : \\n{}'.format(conf_matrix))\n",
    "\n",
    "#분류 리포트 확인\n",
    "from sklearn.metrics import classification_report\n",
    "class_report = classification_report(y_te,pred_rf)\n",
    "print('분류 리포트 : \\n{}'.format(class_report))\n"
   ]
  },
  {
   "cell_type": "markdown",
   "id": "3a38cdc6",
   "metadata": {},
   "source": [
    "## 의존적 앙상블 방법\n",
    "### 부스팅\n",
    "약한 학습기 여러 개를 모아 하나의 강한 학습기를 만드는 방법.    \n",
    "분류하기 어려운 데이터에 집중함. 트레이닝 데이터에 포함되는 모든 데이터 포인트에 가중치를 할당함으로써 관심의 정도를 반영할 수 있음.    \n",
    "(잘못 분류된 데이터 포인트의 가중치 증가/올바르게 분류된 데이터의 가중치는 감소)\n",
    "### 에이다 부스트\n",
    "분류하기 어려운 트레이닝 데이터에 가중치를 더 높이는 것."
   ]
  },
  {
   "cell_type": "code",
   "execution_count": 14,
   "id": "89b9f3d9",
   "metadata": {},
   "outputs": [
    {
     "name": "stdout",
     "output_type": "stream",
     "text": [
      "accuracy : 0.9790209790209791\n",
      "confusion matrix : \n",
      "[[52  1]\n",
      " [ 2 88]]\n",
      "분류 리포트 : \n",
      "              precision    recall  f1-score   support\n",
      "\n",
      "           0       0.96      0.98      0.97        53\n",
      "           1       0.99      0.98      0.98        90\n",
      "\n",
      "    accuracy                           0.98       143\n",
      "   macro avg       0.98      0.98      0.98       143\n",
      "weighted avg       0.98      0.98      0.98       143\n",
      "\n"
     ]
    }
   ],
   "source": [
    "from sklearn import datasets\n",
    "raw_breast_cancer = datasets.load_breast_cancer()\n",
    "\n",
    "X = raw_breast_cancer.data\n",
    "y = raw_breast_cancer.target\n",
    "\n",
    "from sklearn.model_selection import train_test_split\n",
    "X_tn,X_te,y_tn,y_te = train_test_split(X,y,random_state=0)\n",
    "\n",
    "#데이터 표준화\n",
    "from sklearn.preprocessing import StandardScaler\n",
    "std_scale = StandardScaler()\n",
    "std_scale.fit(X_tn)\n",
    "X_tn_std = std_scale.transform(X_tn)\n",
    "X_te_std = std_scale.transform(X_te)\n",
    "\n",
    "#데이터 학습\n",
    "from sklearn.ensemble import AdaBoostClassifier # 분류문제 : AdaBoostClassifier/회귀문제 : AdaBoostRegressor\n",
    "clf_ada = AdaBoostClassifier(random_state=0)\n",
    "clf_ada.fit(X_tn_std,y_tn)\n",
    "\n",
    "#데이터 예측\n",
    "pred_ada = clf_ada.predict(X_te_std)\n",
    "\n",
    "#정확도 평가\n",
    "from sklearn.metrics import accuracy_score\n",
    "accuracy = accuracy_score(y_te,pred_ada)\n",
    "print('accuracy : {}'.format(accuracy))\n",
    "\n",
    "#confusion matrix 확인\n",
    "from sklearn.metrics import confusion_matrix\n",
    "conf_matrix = confusion_matrix(y_te,pred_ada)\n",
    "print('confusion matrix : \\n{}'.format(conf_matrix))\n",
    "\n",
    "#분류 리포트 확인\n",
    "from sklearn.metrics import classification_report\n",
    "class_report = classification_report(y_te,pred_ada)\n",
    "print('분류 리포트 : \\n{}'.format(class_report))\n"
   ]
  },
  {
   "cell_type": "markdown",
   "id": "d5f79813",
   "metadata": {},
   "source": [
    "### 그래디언트 부스팅\n",
    "비용 함수를 최적화시킴으로써 학습 능력을 향상하는 알고리즘."
   ]
  },
  {
   "cell_type": "code",
   "execution_count": 16,
   "id": "c9f9d8fb",
   "metadata": {},
   "outputs": [
    {
     "name": "stdout",
     "output_type": "stream",
     "text": [
      "accuracy : 0.965034965034965\n",
      "confusion matrix : \n",
      "[[49  4]\n",
      " [ 1 89]]\n",
      "분류 리포트 : \n",
      "              precision    recall  f1-score   support\n",
      "\n",
      "           0       0.98      0.92      0.95        53\n",
      "           1       0.96      0.99      0.97        90\n",
      "\n",
      "    accuracy                           0.97       143\n",
      "   macro avg       0.97      0.96      0.96       143\n",
      "weighted avg       0.97      0.97      0.96       143\n",
      "\n"
     ]
    }
   ],
   "source": [
    "from sklearn import datasets\n",
    "raw_breast_cancer = datasets.load_breast_cancer()\n",
    "\n",
    "X = raw_breast_cancer.data\n",
    "y = raw_breast_cancer.target\n",
    "\n",
    "from sklearn.model_selection import train_test_split\n",
    "X_tn,X_te,y_tn,y_te = train_test_split(X,y,random_state=0)\n",
    "\n",
    "#데이터 표준화\n",
    "from sklearn.preprocessing import StandardScaler\n",
    "std_scale = StandardScaler()\n",
    "std_scale.fit(X_tn)\n",
    "X_tn_std = std_scale.transform(X_tn)\n",
    "X_te_std = std_scale.transform(X_te)\n",
    "\n",
    "#데이터 학습\n",
    "from sklearn.ensemble import GradientBoostingClassifier\n",
    "clf_gbt = GradientBoostingClassifier(max_depth=2,\n",
    "                                    learning_rate=0.01,\n",
    "                                    random_state=0)\n",
    "clf_gbt.fit(X_tn_std,y_tn)\n",
    "\n",
    "#데이터 예측\n",
    "pred_gboost = clf_gbt.predict(X_te_std)\n",
    "\n",
    "#정확도 평가\n",
    "from sklearn.metrics import accuracy_score\n",
    "accuracy = accuracy_score(y_te,pred_gboost)\n",
    "print('accuracy : {}'.format(accuracy))\n",
    "\n",
    "#confusion matrix 확인\n",
    "from sklearn.metrics import confusion_matrix\n",
    "conf_matrix = confusion_matrix(y_te,pred_gboost)\n",
    "print('confusion matrix : \\n{}'.format(conf_matrix))\n",
    "\n",
    "#분류 리포트 확인\n",
    "from sklearn.metrics import classification_report\n",
    "class_report = classification_report(y_te,pred_gboost)\n",
    "print('분류 리포트 : \\n{}'.format(class_report))"
   ]
  },
  {
   "cell_type": "markdown",
   "id": "c7f0a346",
   "metadata": {},
   "source": [
    "### 스태킹\n",
    "베이스 학습기 + 메타 학습기로 구성되어 있음. 베이스 학습기의 예측값을 결합하여 이를 메타 학습기로 학습하고 이 학습기로 최종 예측을 함."
   ]
  },
  {
   "cell_type": "code",
   "execution_count": 20,
   "id": "145550b6",
   "metadata": {},
   "outputs": [
    {
     "name": "stdout",
     "output_type": "stream",
     "text": [
      "accuracy : 0.965034965034965\n",
      "confusion matrix : \n",
      "[[50  3]\n",
      " [ 2 88]]\n",
      "분류 리포트 : \n",
      "              precision    recall  f1-score   support\n",
      "\n",
      "           0       0.96      0.94      0.95        53\n",
      "           1       0.97      0.98      0.97        90\n",
      "\n",
      "    accuracy                           0.97       143\n",
      "   macro avg       0.96      0.96      0.96       143\n",
      "weighted avg       0.96      0.97      0.96       143\n",
      "\n"
     ]
    }
   ],
   "source": [
    "from sklearn import datasets\n",
    "raw_breast_cancer = datasets.load_breast_cancer()\n",
    "\n",
    "X = raw_breast_cancer.data\n",
    "y = raw_breast_cancer.target\n",
    "\n",
    "from sklearn.model_selection import train_test_split\n",
    "X_tn,X_te,y_tn,y_te = train_test_split(X,y,random_state=0)\n",
    "\n",
    "#데이터 표준화\n",
    "from sklearn.preprocessing import StandardScaler\n",
    "std_scale = StandardScaler()\n",
    "std_scale.fit(X_tn)\n",
    "X_tn_std = std_scale.transform(X_tn)\n",
    "X_te_std = std_scale.transform(X_te)\n",
    "\n",
    "#데이터 학습\n",
    "from sklearn import svm\n",
    "from sklearn.naive_bayes import GaussianNB\n",
    "from sklearn.linear_model import LogisticRegression\n",
    "from sklearn.ensemble import StackingClassifier\n",
    "\n",
    "clf1 = svm.SVC(kernel='linear',random_state=1)\n",
    "clf2 = GaussianNB()\n",
    "\n",
    "clf_stkg = StackingClassifier(\n",
    "            estimators=[\n",
    "                ('svm',clf1),\n",
    "                ('gnb',clf2)\n",
    "            ],\n",
    "            final_estimator=LogisticRegression())\n",
    "clf_stkg.fit(X_tn_std,y_tn)\n",
    "\n",
    "#데이터 예측\n",
    "pred_stkg = clf_stkg.predict(X_te_std)\n",
    "\n",
    "#정확도 평가\n",
    "from sklearn.metrics import accuracy_score\n",
    "accuracy = accuracy_score(y_te,pred_stkg)\n",
    "print('accuracy : {}'.format(accuracy))\n",
    "\n",
    "#confusion matrix 확인\n",
    "from sklearn.metrics import confusion_matrix\n",
    "conf_matrix = confusion_matrix(y_te,pred_stkg)\n",
    "print('confusion matrix : \\n{}'.format(conf_matrix))\n",
    "\n",
    "#분류 리포트 확인\n",
    "from sklearn.metrics import classification_report\n",
    "class_report = classification_report(y_te,pred_stkg)\n",
    "print('분류 리포트 : \\n{}'.format(class_report))"
   ]
  },
  {
   "cell_type": "markdown",
   "id": "e3bc5e7f",
   "metadata": {},
   "source": [
    "### 주성분분석\n",
    "차원 축소 방법의 하나로, 여러 피처가 통계적으로 서로 상관관계가 없도록 변환시키는 방법."
   ]
  },
  {
   "cell_type": "code",
   "execution_count": 6,
   "id": "a97dbdbd",
   "metadata": {},
   "outputs": [
    {
     "name": "stdout",
     "output_type": "stream",
     "text": [
      "(133, 2)\n",
      "(45, 2)\n",
      "공분산 행렬 :\n",
      "[[ 1.06244198  0.05588975  0.29643474 -0.14674317  0.38769443  0.25079577\n",
      "   0.19779094 -0.10070718  0.17126277  0.44742545 -0.12013532  0.02879752\n",
      "   0.50505224]\n",
      " [ 0.05588975  0.86510155  0.11906446  0.23837434  0.00721146 -0.39785163\n",
      "  -0.4503856   0.31716671 -0.30728109  0.30100181 -0.42357315 -0.45825394\n",
      "  -0.14345856]\n",
      " [ 0.29643474  0.11906446  0.72597065 -0.01380654  0.20891722  0.02618151\n",
      "  -0.01633577  0.03209892  0.00824227  0.32033554 -0.17879769 -0.10868048\n",
      "   0.2307792 ]\n",
      " [-0.14674317  0.23837434 -0.01380654  0.77557799 -0.13456582 -0.4028355\n",
      "  -0.42487887  0.28525095 -0.30301432  0.07431753 -0.28885443 -0.36992936\n",
      "  -0.2952175 ]\n",
      " [ 0.38769443  0.00721146  0.20891722 -0.13456582  0.82428285  0.22898335\n",
      "   0.19490044 -0.10843832  0.16009666  0.30262412 -0.0453494   0.06951315\n",
      "   0.39222323]\n",
      " [ 0.25079577 -0.39785163  0.02618151 -0.4028355   0.22898335  1.21144743\n",
      "   0.7122459  -0.47784458  0.50827447 -0.11953458  0.48155509  0.61862946\n",
      "   0.49873766]\n",
      " [ 0.19779094 -0.4503856  -0.01633577 -0.42487887  0.19490044  0.7122459\n",
      "   1.29615797 -0.51523054  0.53821522 -0.20128733  0.55318211  0.68259141\n",
      "   0.476491  ]\n",
      " [-0.10070718  0.31716671  0.03209892  0.28525095 -0.10843832 -0.47784458\n",
      "  -0.51523054  0.88680515 -0.36236459  0.17130085 -0.39315908 -0.47274872\n",
      "  -0.29608349]\n",
      " [ 0.17126277 -0.30728109  0.00824227 -0.30301432  0.16009666  0.50827447\n",
      "   0.53821522 -0.36236459  0.91837171 -0.10951144  0.37402456  0.4731808\n",
      "   0.36224473]\n",
      " [ 0.44742545  0.30100181  0.32033554  0.07431753  0.30262412 -0.11953458\n",
      "  -0.20128733  0.17130085 -0.10951144  1.11400146 -0.42381722 -0.3369003\n",
      "   0.27449782]\n",
      " [-0.12013532 -0.42357315 -0.17879769 -0.28885443 -0.0453494   0.48155509\n",
      "   0.55318211 -0.39315908  0.37402456 -0.42381722  1.0843246   0.57894667\n",
      "   0.13493049]\n",
      " [ 0.02879752 -0.45825394 -0.10868048 -0.36992936  0.06951315  0.61862946\n",
      "   0.68259141 -0.47274872  0.4731808  -0.3369003   0.57894667  1.19451641\n",
      "   0.30839956]\n",
      " [ 0.50505224 -0.14345856  0.2307792  -0.2952175   0.39222323  0.49873766\n",
      "   0.476491   -0.29608349  0.36224473  0.27449782  0.13493049  0.30839956\n",
      "   1.13948511]]\n",
      "고윳값 :\n",
      "[24.81797394 18.31760391]\n",
      "고유벡터 :\n",
      "[[-0.10418545  0.25670612  0.01387486  0.23907587 -0.10470229 -0.4007005\n",
      "  -0.42902734  0.29111343 -0.30307602  0.12127653 -0.31609521 -0.38729685\n",
      "  -0.26283936]\n",
      " [-0.49018724 -0.1691503  -0.30746987  0.04459018 -0.34837302 -0.07966456\n",
      "  -0.0133774  -0.02498633 -0.0415164  -0.50798383  0.26045807  0.14018631\n",
      "  -0.39850143]]\n",
      "설명되는 분산 :\n",
      "[4.66615023 2.54192889]\n",
      "설명되는 분산(전체 분산 대비 비율) :\n",
      "[0.35623588 0.19406282]\n"
     ]
    }
   ],
   "source": [
    "from sklearn import datasets\n",
    "raw_wine = datasets.load_wine()\n",
    "\n",
    "X = raw_wine.data\n",
    "y = raw_wine.target\n",
    "\n",
    "from sklearn.model_selection import train_test_split\n",
    "X_tn, X_te, y_tn, y_te = train_test_split(X,y,random_state=1)\n",
    "\n",
    "from sklearn.preprocessing import StandardScaler\n",
    "std_scale = StandardScaler()\n",
    "std_scale.fit(X_tn)\n",
    "X_tn_std = std_scale.transform(X_tn)\n",
    "X_te_std = std_scale.transform(X_te)\n",
    "\n",
    "#차원축소\n",
    "from sklearn.decomposition import PCA\n",
    "pca = PCA(n_components=2) #2차원으로 설정\n",
    "pca.fit(X_tn_std)\n",
    "X_tn_pca = pca.transform(X_tn_std)\n",
    "X_te_pca = pca.transform(X_te_std)\n",
    "\n",
    "#차원축소 확인\n",
    "print(X_tn_pca.shape)\n",
    "print(X_te_pca.shape)\n",
    "\n",
    "#공분산 행렬 확인\n",
    "print('공분산 행렬 :\\n{}'.format(pca.get_covariance()))\n",
    "\n",
    "#고윳값, 고유 벡터 확인\n",
    "print('고윳값 :\\n{}'.format(pca.singular_values_)) #주성분 벡터가 전체 분산 대비 설명하는 정도\n",
    "print('고유벡터 :\\n{}'.format(pca.components_))\n",
    "\n",
    "#설명되는 분산\n",
    "print('설명되는 분산 :\\n{}'.format(pca.explained_variance_))\n",
    "print('설명되는 분산(전체 분산 대비 비율) :\\n{}'.format(pca.explained_variance_ratio_))"
   ]
  },
  {
   "cell_type": "code",
   "execution_count": 7,
   "id": "5749fad8",
   "metadata": {},
   "outputs": [
    {
     "data": {
      "text/html": [
       "<div>\n",
       "<style scoped>\n",
       "    .dataframe tbody tr th:only-of-type {\n",
       "        vertical-align: middle;\n",
       "    }\n",
       "\n",
       "    .dataframe tbody tr th {\n",
       "        vertical-align: top;\n",
       "    }\n",
       "\n",
       "    .dataframe thead th {\n",
       "        text-align: right;\n",
       "    }\n",
       "</style>\n",
       "<table border=\"1\" class=\"dataframe\">\n",
       "  <thead>\n",
       "    <tr style=\"text-align: right;\">\n",
       "      <th></th>\n",
       "      <th>pca_comp1</th>\n",
       "      <th>pca_comp2</th>\n",
       "      <th>target</th>\n",
       "    </tr>\n",
       "  </thead>\n",
       "  <tbody>\n",
       "    <tr>\n",
       "      <th>0</th>\n",
       "      <td>-2.231848</td>\n",
       "      <td>-0.148603</td>\n",
       "      <td>0</td>\n",
       "    </tr>\n",
       "    <tr>\n",
       "      <th>1</th>\n",
       "      <td>-1.364444</td>\n",
       "      <td>0.422617</td>\n",
       "      <td>1</td>\n",
       "    </tr>\n",
       "    <tr>\n",
       "      <th>2</th>\n",
       "      <td>-1.918072</td>\n",
       "      <td>-2.014682</td>\n",
       "      <td>0</td>\n",
       "    </tr>\n",
       "    <tr>\n",
       "      <th>3</th>\n",
       "      <td>-3.539272</td>\n",
       "      <td>-2.878394</td>\n",
       "      <td>0</td>\n",
       "    </tr>\n",
       "    <tr>\n",
       "      <th>4</th>\n",
       "      <td>-3.182320</td>\n",
       "      <td>-2.020041</td>\n",
       "      <td>0</td>\n",
       "    </tr>\n",
       "  </tbody>\n",
       "</table>\n",
       "</div>"
      ],
      "text/plain": [
       "   pca_comp1  pca_comp2  target\n",
       "0  -2.231848  -0.148603       0\n",
       "1  -1.364444   0.422617       1\n",
       "2  -1.918072  -2.014682       0\n",
       "3  -3.539272  -2.878394       0\n",
       "4  -3.182320  -2.020041       0"
      ]
     },
     "execution_count": 7,
     "metadata": {},
     "output_type": "execute_result"
    }
   ],
   "source": [
    "#차원 축소 데이터 확인\n",
    "import pandas as pd\n",
    "pca_columns = ['pca_comp1','pca_comp2']\n",
    "X_tn_pca_df = pd.DataFrame(X_tn_pca, columns=pca_columns)\n",
    "X_tn_pca_df['target'] = y_tn\n",
    "X_tn_pca_df.head(5)"
   ]
  },
  {
   "cell_type": "code",
   "execution_count": 8,
   "id": "c245be47",
   "metadata": {},
   "outputs": [
    {
     "data": {
      "image/png": "[encoded data removed]",
      "text/plain": [
       "<Figure size 432x288 with 1 Axes>"
      ]
     },
     "metadata": {
      "needs_background": "light"
     },
     "output_type": "display_data"
    }
   ],
   "source": [
    "#라벨 미적용 PCA 데이터\n",
    "import matplotlib.pyplot as plt\n",
    "plt.scatter(X_tn_pca_df['pca_comp1'],\n",
    "           X_tn_pca_df['pca_comp2'],\n",
    "           marker='o')\n",
    "plt.xlabel('pca_component1')\n",
    "plt.ylabel('pca_component2')\n",
    "plt.show()"
   ]
  },
  {
   "cell_type": "code",
   "execution_count": 10,
   "id": "eb7c2665",
   "metadata": {},
   "outputs": [
    {
     "data": {
      "image/png": "[encoded data removed]",
      "text/plain": [
       "<Figure size 432x288 with 1 Axes>"
      ]
     },
     "metadata": {
      "needs_background": "light"
     },
     "output_type": "display_data"
    }
   ],
   "source": [
    "#반복문을 이용한 PCA 데이터\n",
    "df = X_tn_pca_df\n",
    "markers = ['o','x','^']\n",
    "\n",
    "for i, mark in enumerate(markers):\n",
    "    df_i = df[df['target']==i]\n",
    "    target_i = raw_wine.target_names[i]\n",
    "    X1 = df_i['pca_comp1']\n",
    "    X2 = df_i['pca_comp2']\n",
    "    plt.scatter(X1,X2,\n",
    "               marker=mark,\n",
    "               label = target_i)\n",
    "plt.xlabel('pca_component1')\n",
    "plt.ylabel('pca_component2')\n",
    "plt.legend()\n",
    "plt.show()"
   ]
  },
  {
   "cell_type": "code",
   "execution_count": 12,
   "id": "af244c73",
   "metadata": {},
   "outputs": [
    {
     "name": "stdout",
     "output_type": "stream",
     "text": [
      "0.9777777777777777\n"
     ]
    }
   ],
   "source": [
    "# pca 적용 이전 데이터 학습\n",
    "from sklearn.ensemble import RandomForestClassifier\n",
    "clf_rf = RandomForestClassifier(max_depth=2,\n",
    "                               random_state=0)\n",
    "clf_rf.fit(X_tn_std,y_tn)\n",
    "pred_rf = clf_rf.predict(X_te_std)\n",
    "\n",
    "# pca 적용 이전 데이터 예측 정확도\n",
    "from sklearn.metrics import accuracy_score\n",
    "accuracy = accuracy_score(y_te,pred_rf)\n",
    "print(accuracy)"
   ]
  },
  {
   "cell_type": "code",
   "execution_count": 13,
   "id": "b8187aab",
   "metadata": {},
   "outputs": [
    {
     "name": "stdout",
     "output_type": "stream",
     "text": [
      "0.9555555555555556\n"
     ]
    }
   ],
   "source": [
    "# pca 적용 후 데이터 학습\n",
    "from sklearn.ensemble import RandomForestClassifier\n",
    "clf_rf_pca = RandomForestClassifier(max_depth=2,\n",
    "                                   random_state=0)\n",
    "clf_rf_pca.fit(X_tn_pca,y_tn)\n",
    "pred_rf_pca = clf_rf_pca.predict(X_te_pca)\n",
    "\n",
    "# 데이터 예측 정확도\n",
    "from sklearn.metrics import accuracy_score\n",
    "accuracy_pca = accuracy_score(y_te,pred_rf_pca)\n",
    "print(accuracy_pca)\n"
   ]
  },
  {
   "cell_type": "markdown",
   "id": "36e61c47",
   "metadata": {},
   "source": [
    "13차원의 데이터를 2차원의 데이터로 줄였는데도 정확도가 2%밖에 감소하지 않아, 효율적이다."
   ]
  },
  {
   "cell_type": "markdown",
   "id": "ef1ad78e",
   "metadata": {},
   "source": [
    "### LDA (선형 판별 분석)\n",
    "지도 학습적인 접근 방법을 통한 차원 축소 알고리즘. 데이터 셋의 기존 공간으로부터 집단 간 분산과 집단 내 분산의 비율을 최대화하는 기존공간보다 더 작은 차원의 공간으로 원래 데이터를 투영시킴으로써 차원 축소함. 즉, 데이터를 최대한 분리해 주는 기능."
   ]
  },
  {
   "cell_type": "code",
   "execution_count": 1,
   "id": "a492a77d",
   "metadata": {},
   "outputs": [
    {
     "name": "stdout",
     "output_type": "stream",
     "text": [
      "LDA 전 데이터 값 : (133, 13)\n",
      "LDA 후 데이터 값 : (133, 2)\n"
     ]
    }
   ],
   "source": [
    "from sklearn import datasets\n",
    "raw_wine = datasets.load_wine()\n",
    "\n",
    "X = raw_wine.data\n",
    "y = raw_wine.target\n",
    "\n",
    "# 트레이닝/테스트 데이터 분할\n",
    "from sklearn.model_selection import train_test_split\n",
    "X_tn, X_te, y_tn, y_te = train_test_split(X,y,random_state=1)\n",
    "\n",
    "#데이터 표준화\n",
    "from sklearn.preprocessing import StandardScaler\n",
    "std_scale = StandardScaler()\n",
    "std_scale.fit(X_tn)\n",
    "X_tn_std = std_scale.transform(X_tn)\n",
    "X_te_std = std_scale.transform(X_te)\n",
    "\n",
    "# LDA\n",
    "from sklearn.discriminant_analysis import LinearDiscriminantAnalysis\n",
    "lda = LinearDiscriminantAnalysis()\n",
    "lda.fit(X_tn_std,y_tn)\n",
    "X_tn_lda = lda.transform(X_tn_std)\n",
    "X_te_lda = lda.transform(X_te_std)\n",
    "\n",
    "#전후 데이터 차원 비교\n",
    "print('LDA 전 데이터 값 : {}'.format(X_tn_std.shape))\n",
    "print('LDA 후 데이터 값 : {}'.format(X_tn_lda.shape))"
   ]
  },
  {
   "cell_type": "code",
   "execution_count": 3,
   "id": "62e8871a",
   "metadata": {},
   "outputs": [
    {
     "name": "stdout",
     "output_type": "stream",
     "text": [
      "LDA 상수항 : [ -9.49063922  -3.6792656  -10.65310672]\n",
      "LDA 가중벡터 : [[ 2.11536841  0.34171834  1.60756274 -2.62777005 -0.02954383 -1.92461007\n",
      "   5.43612614  0.30142527 -0.66723405 -2.08948728  0.53569108  3.06011656\n",
      "   5.45318503]\n",
      " [-1.18707715 -0.97635273 -1.64104916  1.19614378  0.22114803  0.2969019\n",
      "   1.13721801  0.4338713   0.33425086 -1.57541361  0.56544507 -0.17730553\n",
      "  -2.34856045]\n",
      " [-0.59547207  1.01875252  0.59754164  1.13544231 -0.28238675  1.65463974\n",
      "  -7.48134065 -0.94177595  0.24492236  4.49319245 -1.38150969 -3.04974421\n",
      "  -2.54627163]]\n"
     ]
    }
   ],
   "source": [
    "# LDA 상수항, 가중벡터 확인\n",
    "print(f'LDA 상수항 : {lda.intercept_}')\n",
    "print(f'LDA 가중벡터 : {lda.coef_}')"
   ]
  },
  {
   "cell_type": "code",
   "execution_count": 4,
   "id": "3df3da12",
   "metadata": {},
   "outputs": [
    {
     "data": {
      "text/html": [
       "<div>\n",
       "<style scoped>\n",
       "    .dataframe tbody tr th:only-of-type {\n",
       "        vertical-align: middle;\n",
       "    }\n",
       "\n",
       "    .dataframe tbody tr th {\n",
       "        vertical-align: top;\n",
       "    }\n",
       "\n",
       "    .dataframe thead th {\n",
       "        text-align: right;\n",
       "    }\n",
       "</style>\n",
       "<table border=\"1\" class=\"dataframe\">\n",
       "  <thead>\n",
       "    <tr style=\"text-align: right;\">\n",
       "      <th></th>\n",
       "      <th>lda_comp1</th>\n",
       "      <th>lda_comp2</th>\n",
       "      <th>target</th>\n",
       "    </tr>\n",
       "  </thead>\n",
       "  <tbody>\n",
       "    <tr>\n",
       "      <th>0</th>\n",
       "      <td>2.563293</td>\n",
       "      <td>-0.503212</td>\n",
       "      <td>0</td>\n",
       "    </tr>\n",
       "    <tr>\n",
       "      <th>1</th>\n",
       "      <td>0.646015</td>\n",
       "      <td>-2.169761</td>\n",
       "      <td>1</td>\n",
       "    </tr>\n",
       "    <tr>\n",
       "      <th>2</th>\n",
       "      <td>3.981901</td>\n",
       "      <td>1.621584</td>\n",
       "      <td>0</td>\n",
       "    </tr>\n",
       "    <tr>\n",
       "      <th>3</th>\n",
       "      <td>5.956216</td>\n",
       "      <td>3.878140</td>\n",
       "      <td>0</td>\n",
       "    </tr>\n",
       "    <tr>\n",
       "      <th>4</th>\n",
       "      <td>4.047839</td>\n",
       "      <td>2.335699</td>\n",
       "      <td>0</td>\n",
       "    </tr>\n",
       "  </tbody>\n",
       "</table>\n",
       "</div>"
      ],
      "text/plain": [
       "   lda_comp1  lda_comp2  target\n",
       "0   2.563293  -0.503212       0\n",
       "1   0.646015  -2.169761       1\n",
       "2   3.981901   1.621584       0\n",
       "3   5.956216   3.878140       0\n",
       "4   4.047839   2.335699       0"
      ]
     },
     "execution_count": 4,
     "metadata": {},
     "output_type": "execute_result"
    }
   ],
   "source": [
    "# LDA 적용 후 데이터 셋\n",
    "import pandas as pd\n",
    "lda_columns = ['lda_comp1','lda_comp2']\n",
    "X_tn_lda_df = pd.DataFrame(X_tn_lda,\n",
    "                          columns=lda_columns)\n",
    "X_tn_lda_df['target'] = y_tn\n",
    "X_tn_lda_df.head(5)"
   ]
  },
  {
   "cell_type": "code",
   "execution_count": 5,
   "id": "3b5a9e54",
   "metadata": {},
   "outputs": [
    {
     "data": {
      "image/png": "[encoded data removed]",
      "text/plain": [
       "<Figure size 432x288 with 1 Axes>"
      ]
     },
     "metadata": {
      "needs_background": "light"
     },
     "output_type": "display_data"
    }
   ],
   "source": [
    "# LDA 시각화\n",
    "import matplotlib.pyplot as plt\n",
    "df = X_tn_lda_df\n",
    "markers = ['o','x','^']\n",
    "\n",
    "for i, mark in enumerate(markers):\n",
    "    X_i = df[df['target']==i]\n",
    "    target_i = raw_wine.target_names[i]\n",
    "    X1 = X_i['lda_comp1']\n",
    "    X2 = X_i['lda_comp2']\n",
    "    plt.scatter(X1,X2,\n",
    "               marker=mark,\n",
    "               label=target_i)\n",
    "plt.xlabel('lda_component1')\n",
    "plt.ylabel('lda_component2')\n",
    "plt.legend()\n",
    "plt.show()"
   ]
  },
  {
   "cell_type": "code",
   "execution_count": 6,
   "id": "c40d7853",
   "metadata": {},
   "outputs": [
    {
     "name": "stdout",
     "output_type": "stream",
     "text": [
      "1.0\n"
     ]
    }
   ],
   "source": [
    "# LDA 적용 후 랜덤 포레스트 학습 및 예측\n",
    "from sklearn.ensemble import RandomForestClassifier\n",
    "clf_rf_lda = RandomForestClassifier(max_depth=2,\n",
    "                                   random_state=0)\n",
    "clf_rf_lda.fit(X_tn_lda,y_tn)\n",
    "pred_rf_lda = clf_rf_lda.predict(X_te_lda)\n",
    "\n",
    "#정확도 평가\n",
    "from sklearn.metrics import accuracy_score\n",
    "accuracy_lda = accuracy_score(y_te,pred_rf_lda)\n",
    "print(accuracy_lda)"
   ]
  },
  {
   "cell_type": "markdown",
   "id": "1b5e5d2c",
   "metadata": {},
   "source": [
    "### LLE\n",
    "각 데이터 포인트의 이웃 데이터 중 K개 이웃 데이터를 선정하고 데이터 자신과 K개의 이웃 데이터를 마치 하나의 덩어리라고 가정하고 데이터를 재구성함.    \n",
    "기존 데이터를 자신의 이웃 데이터를 기준으로 재구성하는 방법. 즉, 해당 데이터 자체보다 주변의 이웃 데이터들이 중요함."
   ]
  },
  {
   "cell_type": "markdown",
   "id": "06505350",
   "metadata": {},
   "source": [
    "### 비음수 행렬 분해(NMF)\n",
    "데이터 행렬 내 모든 원소값이 0보다 큰 경우에 사용할 수 있는 행렬 분해 방법. 차원이 작은 두 행렬로 분해한다는 의미. "
   ]
  },
  {
   "cell_type": "markdown",
   "id": "d606fbbd",
   "metadata": {},
   "source": [
    "# 비지도 학습\n",
    "라벨링 되어있지 않은 데이터를 이용하는 학습 방법. 지도 학습에서 데이터 분류하는 것을 분류라고 했지만, 비지도 학습에서는 군집(클러스터링)이라고 함."
   ]
  },
  {
   "cell_type": "markdown",
   "id": "30923afd",
   "metadata": {},
   "source": [
    "## K-평균 클러스터링\n",
    "N개의 데이터를 K개의 클러스터로 나누는 클러스터링 기법.    \n",
    "각 데이터 포인트와 각 그룹 평균 간의 거리를 구한 후 가장 가까운 클러스터로 배정하는 방법. 각 클러스터의 평균은 해당 그룹에 속하는 데이터 포인트의 평균값을 구함으로써 계산할 수 있음. (거리 = 유클리드 거리)    \n",
    "* 단점 : 가중치를 주지 않아 데이터간 밀도 차이가 있을 경우 클러스터링이 잘되지 않음.    \n",
    "클러스터링의 모양을 고려하지 않으면, 초기 K값을 사용자가 정해야함."
   ]
  },
  {
   "cell_type": "code",
   "execution_count": 7,
   "id": "60250d79",
   "metadata": {},
   "outputs": [
    {
     "name": "stdout",
     "output_type": "stream",
     "text": [
      "X:(100, 2)\n",
      "y:(100,)\n"
     ]
    }
   ],
   "source": [
    "from sklearn.datasets import make_blobs\n",
    "X,y = make_blobs(n_samples=100,\n",
    "                n_features=2,\n",
    "                centers=5,\n",
    "                random_state=10)\n",
    "\n",
    "# 데이터 차원 확인\n",
    "print(f'X:{X.shape}')\n",
    "print(f'y:{y.shape}')"
   ]
  },
  {
   "cell_type": "code",
   "execution_count": 8,
   "id": "f748ca8b",
   "metadata": {},
   "outputs": [
    {
     "data": {
      "image/png": "[encoded data removed]",
      "text/plain": [
       "<Figure size 432x288 with 1 Axes>"
      ]
     },
     "metadata": {
      "needs_background": "light"
     },
     "output_type": "display_data"
    }
   ],
   "source": [
    "# 라벨링되지 않은 데이터 플롯 확인\n",
    "import matplotlib.pyplot as plt\n",
    "plt.scatter(X[:,0],X[:,1],\n",
    "           c='gray',\n",
    "           edgecolor='black',\n",
    "           marker='o')\n",
    "plt.show()"
   ]
  },
  {
   "cell_type": "markdown",
   "id": "672b5144",
   "metadata": {},
   "source": [
    "크게 5개의 그룹으로 분리되어 있다고 생각할 수 있으므로 K=5라고 설정"
   ]
  },
  {
   "cell_type": "code",
   "execution_count": 10,
   "id": "464ebf2f",
   "metadata": {},
   "outputs": [
    {
     "data": {
      "text/plain": [
       "array([2, 4, 3, 1, 0, 2, 2, 3, 0, 2, 3, 2, 0, 1, 0, 2, 4, 1, 0, 2, 2, 1,\n",
       "       4, 3, 2, 2, 1, 0, 3, 4, 1, 1, 0, 1, 2, 0, 3, 1, 3, 4, 1, 1, 1, 0,\n",
       "       3, 3, 2, 0, 4, 0, 4, 0, 2, 3, 0, 0, 1, 4, 1, 3, 0, 4, 4, 1, 2, 4,\n",
       "       0, 4, 0, 3, 3, 2, 4, 0, 1, 1, 3, 4, 2, 2, 0, 0, 4, 1, 4, 3, 1, 3,\n",
       "       1, 3, 4, 3, 2, 4, 4, 4, 3, 2, 2, 3])"
      ]
     },
     "execution_count": 10,
     "metadata": {},
     "output_type": "execute_result"
    }
   ],
   "source": [
    "# K-평균 클러스터링\n",
    "from sklearn.cluster import KMeans\n",
    "kmc = KMeans(n_clusters=5,\n",
    "            init='random', #첫번째 평균값을 정하는 방법 'k-means++'가 보통의 경우임\n",
    "            max_iter=100, #알고리즘의 최대 반복 횟수\n",
    "            random_state=0)\n",
    "kmc.fit(X)\n",
    "label_kmc = kmc.labels_\n",
    "label_kmc"
   ]
  },
  {
   "cell_type": "code",
   "execution_count": 11,
   "id": "fe050f90",
   "metadata": {},
   "outputs": [
    {
     "data": {
      "text/html": [
       "<div>\n",
       "<style scoped>\n",
       "    .dataframe tbody tr th:only-of-type {\n",
       "        vertical-align: middle;\n",
       "    }\n",
       "\n",
       "    .dataframe tbody tr th {\n",
       "        vertical-align: top;\n",
       "    }\n",
       "\n",
       "    .dataframe thead th {\n",
       "        text-align: right;\n",
       "    }\n",
       "</style>\n",
       "<table border=\"1\" class=\"dataframe\">\n",
       "  <thead>\n",
       "    <tr style=\"text-align: right;\">\n",
       "      <th></th>\n",
       "      <th>kmc_comp1</th>\n",
       "      <th>kmc_comp2</th>\n",
       "      <th>target</th>\n",
       "      <th>label_kmc</th>\n",
       "    </tr>\n",
       "  </thead>\n",
       "  <tbody>\n",
       "    <tr>\n",
       "      <th>0</th>\n",
       "      <td>-5.577854</td>\n",
       "      <td>5.872988</td>\n",
       "      <td>3</td>\n",
       "      <td>2</td>\n",
       "    </tr>\n",
       "    <tr>\n",
       "      <th>1</th>\n",
       "      <td>1.627832</td>\n",
       "      <td>4.178069</td>\n",
       "      <td>1</td>\n",
       "      <td>4</td>\n",
       "    </tr>\n",
       "    <tr>\n",
       "      <th>2</th>\n",
       "      <td>-6.950884</td>\n",
       "      <td>-9.024594</td>\n",
       "      <td>4</td>\n",
       "      <td>3</td>\n",
       "    </tr>\n",
       "    <tr>\n",
       "      <th>3</th>\n",
       "      <td>-0.952769</td>\n",
       "      <td>-5.034316</td>\n",
       "      <td>2</td>\n",
       "      <td>1</td>\n",
       "    </tr>\n",
       "    <tr>\n",
       "      <th>4</th>\n",
       "      <td>6.550104</td>\n",
       "      <td>-7.912339</td>\n",
       "      <td>0</td>\n",
       "      <td>0</td>\n",
       "    </tr>\n",
       "  </tbody>\n",
       "</table>\n",
       "</div>"
      ],
      "text/plain": [
       "   kmc_comp1  kmc_comp2  target  label_kmc\n",
       "0  -5.577854   5.872988       3          2\n",
       "1   1.627832   4.178069       1          4\n",
       "2  -6.950884  -9.024594       4          3\n",
       "3  -0.952769  -5.034316       2          1\n",
       "4   6.550104  -7.912339       0          0"
      ]
     },
     "execution_count": 11,
     "metadata": {},
     "output_type": "execute_result"
    }
   ],
   "source": [
    "# 시각화를 위한 DF 생성\n",
    "import pandas as pd\n",
    "kmc_columns = ['kmc_comp1','kmc_comp2']\n",
    "X_kmc_df = pd.DataFrame(X,columns=kmc_columns)\n",
    "X_kmc_df['target'] = y\n",
    "X_kmc_df['label_kmc'] = label_kmc\n",
    "X_kmc_df.head(5)"
   ]
  },
  {
   "cell_type": "code",
   "execution_count": 13,
   "id": "8a8e8431",
   "metadata": {},
   "outputs": [
    {
     "name": "stdout",
     "output_type": "stream",
     "text": [
      "{0, 1, 2, 3, 4}\n",
      "{0, 1, 2, 3, 4}\n"
     ]
    }
   ],
   "source": [
    "# 타깃 클래스 종류 확인\n",
    "print(set(X_kmc_df['target']))\n",
    "print(set(X_kmc_df['label_kmc']))"
   ]
  },
  {
   "cell_type": "code",
   "execution_count": 17,
   "id": "ff88e074",
   "metadata": {},
   "outputs": [
    {
     "data": {
      "image/png": "[encoded data removed]",
      "text/plain": [
       "<Figure size 432x288 with 1 Axes>"
      ]
     },
     "metadata": {
      "needs_background": "light"
     },
     "output_type": "display_data"
    }
   ],
   "source": [
    "# K평균 클러스터링을 이용한 데이터 플롯\n",
    "df = X_kmc_df\n",
    "markers = ['o','x','^','s','*']\n",
    "\n",
    "for i, mark in enumerate(markers):\n",
    "    df_i = df[df['label_kmc']==i]\n",
    "    target_i = i\n",
    "    X1 = df_i['kmc_comp1']\n",
    "    X2 = df_i['kmc_comp2']\n",
    "    plt.scatter(X1, X2,\n",
    "               marker = mark,\n",
    "               label=target_i)\n",
    "plt.xlabel('kmc_component1')\n",
    "plt.ylabel('kmc_component2')\n",
    "plt.legend()\n",
    "plt.show()"
   ]
  },
  {
   "cell_type": "code",
   "execution_count": 18,
   "id": "dd3ea4ea",
   "metadata": {},
   "outputs": [
    {
     "data": {
      "image/png": "[encoded data removed]",
      "text/plain": [
       "<Figure size 432x288 with 1 Axes>"
      ]
     },
     "metadata": {
      "needs_background": "light"
     },
     "output_type": "display_data"
    }
   ],
   "source": [
    "# 실제 타깃 데이터 플롯\n",
    "df = X_kmc_df\n",
    "markers = ['o','x','^','s','*']\n",
    "\n",
    "for i, mark in enumerate(markers):\n",
    "    df_i = df[df['target']==i]\n",
    "    target_i = i\n",
    "    X1 = df_i['kmc_comp1']\n",
    "    X2 = df_i['kmc_comp2']\n",
    "    plt.scatter(X1, X2,\n",
    "               marker = mark,\n",
    "               label=target_i)\n",
    "plt.xlabel('kmc_component1')\n",
    "plt.ylabel('kmc_component2')\n",
    "plt.legend()\n",
    "plt.show()"
   ]
  },
  {
   "cell_type": "code",
   "execution_count": 19,
   "id": "ff7bc0aa",
   "metadata": {},
   "outputs": [
    {
     "name": "stdout",
     "output_type": "stream",
     "text": [
      "0.7598181300128782\n"
     ]
    }
   ],
   "source": [
    "# 모형 평가\n",
    "from sklearn.metrics import silhouette_score #실루엣 분석 : 각 군집 간의 거리가 얼마나 효율적으로 분리 돼있는지 나타냄.\n",
    "sil_score = silhouette_score(X,label_kmc)\n",
    "print(sil_score)"
   ]
  },
  {
   "cell_type": "markdown",
   "id": "45d25d3a",
   "metadata": {},
   "source": [
    "### 계층 클러스터링\n",
    "데이터 간 계층을 기반으로 데이터 간 병합 또는 분할을 통해 해당 데이터 포인트가 속할 그룹을 결정함.\n",
    "\n",
    "#### 병합 계층 클러스터링\n",
    "개별 데이터 포인트를 하나의 클러스터로 설정하고 시작하는 방법. 처음에는 다수의 클러스터 -> 그 후 유사도가 높은 두 개의 클러스터를 하나로 합쳐 데이터 셋 전체가 하나의 클러스터로 묶이는 방법    \n",
    "단일연결 / 완전 연결\n",
    "\n",
    "#### 분할 계층 클러스터링\n",
    "전체 데이터 셋을 하나의 클러스터로 놓고 시작하는 방법. 처음에는 한 개의 클러스터 -> 가장 멀리 떨어진 데이터를 다른 클러스터로 분리해서 마지막에는 데이터 개수만큼 분리되는 방법\n",
    "\n",
    "시각화 -> 덴드로그램    \n",
    "장점 : 클러스터의 개수를 미리 지정할 필요가 없음"
   ]
  },
  {
   "cell_type": "markdown",
   "id": "415d7c6b",
   "metadata": {},
   "source": [
    "##### 단일 연결 병합 계층 클러스터링\n",
    "거리 행렬에서 가장 가까운 클러스터 쌍을 찾고, 클러스터 간 최소 거리를 구함.\n",
    "##### 완전 연결 병합 계층 클러스터링\n",
    "거리 행렬에서 가장 가까운 클러스터 쌍을 찾고, 클러스터 간 최대 거리를 구함.\n",
    "##### Ward's 계층 클러스터링\n",
    "정보의 손실을 최소화하는 방향으로 오차 제곱합을 최소화함.    \n",
    "클러스터의 개수대로 오차 제곱합이 존재하며, 5개의 오차 제곱합을 모두 더한 것이 전체 데이터에 대한 오차 제곱함이 됨."
   ]
  },
  {
   "cell_type": "code",
   "execution_count": 20,
   "id": "9dd2f860",
   "metadata": {},
   "outputs": [
    {
     "name": "stdout",
     "output_type": "stream",
     "text": [
      "(10, 2)\n",
      "(10,)\n"
     ]
    }
   ],
   "source": [
    "from sklearn.datasets import make_blobs\n",
    "X,y = make_blobs(n_samples=10,\n",
    "                n_features=2,\n",
    "                random_state=0)\n",
    "print(X.shape)\n",
    "print(y.shape)"
   ]
  },
  {
   "cell_type": "code",
   "execution_count": 21,
   "id": "1c9ab65b",
   "metadata": {},
   "outputs": [
    {
     "name": "stdout",
     "output_type": "stream",
     "text": [
      "[8 9 6 4 5 2 7 3 1 0]\n"
     ]
    }
   ],
   "source": [
    "# 병합 계층 클러스터링\n",
    "from sklearn.cluster import AgglomerativeClustering\n",
    "aggc = AgglomerativeClustering(n_clusters=None, #구하려는 클러스터의 개수, 하나의 클러스터를 보기위해 none으로 설정\n",
    "                              distance_threshold=0,\n",
    "                              linkage='complete') #완전 연결방법\n",
    "label_aggc = aggc.fit_predict(X)\n",
    "print(label_aggc)"
   ]
  },
  {
   "cell_type": "code",
   "execution_count": 22,
   "id": "dbafe4c1",
   "metadata": {},
   "outputs": [
    {
     "name": "stdout",
     "output_type": "stream",
     "text": [
      "[0 0 0 0 0 0 1 0 0 0]\n"
     ]
    }
   ],
   "source": [
    "# 클러스터 2개로 병합\n",
    "aggc2 = AgglomerativeClustering(n_clusters=2,\n",
    "                               linkage='complete')\n",
    "label_aggc2 = aggc2.fit_predict(X)\n",
    "print(label_aggc2)"
   ]
  },
  {
   "cell_type": "code",
   "execution_count": 23,
   "id": "f7108c58",
   "metadata": {},
   "outputs": [
    {
     "name": "stdout",
     "output_type": "stream",
     "text": [
      "[0 0 2 0 0 0 1 2 2 0]\n"
     ]
    }
   ],
   "source": [
    "# 클러스터 3개로 병합\n",
    "aggc3 = AgglomerativeClustering(n_clusters=3,\n",
    "                               linkage='complete')\n",
    "label_aggc3 = aggc3.fit_predict(X)\n",
    "print(label_aggc3)"
   ]
  },
  {
   "cell_type": "code",
   "execution_count": 24,
   "id": "6a17362c",
   "metadata": {},
   "outputs": [
    {
     "data": {
      "image/png": "[encoded data removed]",
      "text/plain": [
       "<Figure size 432x288 with 1 Axes>"
      ]
     },
     "metadata": {
      "needs_background": "light"
     },
     "output_type": "display_data"
    }
   ],
   "source": [
    "# 덴드로그램 시각화\n",
    "from scipy.cluster.hierarchy import dendrogram\n",
    "from scipy.cluster.hierarchy import linkage\n",
    "import matplotlib.pyplot as plt\n",
    "\n",
    "linked = linkage(X,'complete')\n",
    "labels = label_aggc\n",
    "dendrogram(linked,\n",
    "          orientation='top',\n",
    "          labels=labels,\n",
    "          show_leaf_counts=True)\n",
    "plt.show()"
   ]
  },
  {
   "cell_type": "markdown",
   "id": "e512654f",
   "metadata": {},
   "source": [
    "### DBSCAN\n",
    "전체 공간에서 데이터가 가장 밀집된 영역을 찾아서 밀집된 영역이 하나의 클러스터가 되고, 밀집 정도가 낮은 영역을 클러스터 외부 영역으로 구분함.    \n",
    "데이터 포인트 간 거리를 어떤 방법으로 측정하느냐에 따라 클러스터링 형태가 달라짐. 기본값은 유클리드 거리.    \n",
    "사전에 클러스터 개수를 정하지 않아도 된다는 장점이 있음."
   ]
  },
  {
   "cell_type": "code",
   "execution_count": null,
   "id": "d6f50032",
   "metadata": {},
   "outputs": [],
   "source": []
  },
  {
   "cell_type": "code",
   "execution_count": null,
   "id": "2509c371",
   "metadata": {},
   "outputs": [],
   "source": []
  }
 ],
 "metadata": {
  "kernelspec": {
   "display_name": "Python 3 (ipykernel)",
   "language": "python",
   "name": "python3"
  },
  "language_info": {
   "codemirror_mode": {
    "name": "ipython",
    "version": 3
   },
   "file_extension": ".py",
   "mimetype": "text/x-python",
   "name": "python",
   "nbconvert_exporter": "python",
   "pygments_lexer": "ipython3",
   "version": "3.9.7"
  }
 },
 "nbformat": 4,
 "nbformat_minor": 5
}
