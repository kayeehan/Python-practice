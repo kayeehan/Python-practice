{
 "cells": [
  {
   "cell_type": "markdown",
   "id": "74eedb3e",
   "metadata": {},
   "source": [
    "# Cookie Cats Dataset with A/B Testing"
   ]
  },
  {
   "cell_type": "code",
   "execution_count": 9,
   "id": "2e15ac39",
   "metadata": {},
   "outputs": [],
   "source": [
    "# -----------------------------------\n",
    "import numpy as np\n",
    "import pandas as pd \n",
    "import seaborn as sns\n",
    "import matplotlib.pyplot as plt\n",
    "import os\n",
    "from pandas import DataFrame\n",
    "\n",
    "# Hypothesis Testing\n",
    "# -----------------------------------\n",
    "from scipy.stats import shapiro\n",
    "import scipy.stats as stats\n",
    "\n",
    "# Configuration\n",
    "# -----------------------------------\n",
    "import warnings\n",
    "warnings.filterwarnings(\"ignore\")\n",
    "warnings.simplefilter(action='ignore', category=FutureWarning)\n",
    "\n",
    "pd.set_option('display.max_columns', None)\n",
    "pd.options.display.float_format = '{:.4f}'.format"
   ]
  },
  {
   "cell_type": "code",
   "execution_count": 3,
   "id": "7bd0e233",
   "metadata": {},
   "outputs": [
    {
     "data": {
      "text/html": [
       "<div>\n",
       "<style scoped>\n",
       "    .dataframe tbody tr th:only-of-type {\n",
       "        vertical-align: middle;\n",
       "    }\n",
       "\n",
       "    .dataframe tbody tr th {\n",
       "        vertical-align: top;\n",
       "    }\n",
       "\n",
       "    .dataframe thead th {\n",
       "        text-align: right;\n",
       "    }\n",
       "</style>\n",
       "<table border=\"1\" class=\"dataframe\">\n",
       "  <thead>\n",
       "    <tr style=\"text-align: right;\">\n",
       "      <th></th>\n",
       "      <th>userid</th>\n",
       "      <th>version</th>\n",
       "      <th>sum_gamerounds</th>\n",
       "      <th>retention_1</th>\n",
       "      <th>retention_7</th>\n",
       "    </tr>\n",
       "  </thead>\n",
       "  <tbody>\n",
       "    <tr>\n",
       "      <th>0</th>\n",
       "      <td>116</td>\n",
       "      <td>gate_30</td>\n",
       "      <td>3</td>\n",
       "      <td>False</td>\n",
       "      <td>False</td>\n",
       "    </tr>\n",
       "    <tr>\n",
       "      <th>1</th>\n",
       "      <td>337</td>\n",
       "      <td>gate_30</td>\n",
       "      <td>38</td>\n",
       "      <td>True</td>\n",
       "      <td>False</td>\n",
       "    </tr>\n",
       "    <tr>\n",
       "      <th>2</th>\n",
       "      <td>377</td>\n",
       "      <td>gate_40</td>\n",
       "      <td>165</td>\n",
       "      <td>True</td>\n",
       "      <td>False</td>\n",
       "    </tr>\n",
       "    <tr>\n",
       "      <th>3</th>\n",
       "      <td>483</td>\n",
       "      <td>gate_40</td>\n",
       "      <td>1</td>\n",
       "      <td>False</td>\n",
       "      <td>False</td>\n",
       "    </tr>\n",
       "    <tr>\n",
       "      <th>4</th>\n",
       "      <td>488</td>\n",
       "      <td>gate_40</td>\n",
       "      <td>179</td>\n",
       "      <td>True</td>\n",
       "      <td>True</td>\n",
       "    </tr>\n",
       "  </tbody>\n",
       "</table>\n",
       "</div>"
      ],
      "text/plain": [
       "   userid  version  sum_gamerounds  retention_1  retention_7\n",
       "0     116  gate_30               3        False        False\n",
       "1     337  gate_30              38         True        False\n",
       "2     377  gate_40             165         True        False\n",
       "3     483  gate_40               1        False        False\n",
       "4     488  gate_40             179         True         True"
      ]
     },
     "execution_count": 3,
     "metadata": {},
     "output_type": "execute_result"
    }
   ],
   "source": [
    "data = pd.read_csv('c:/data/Mobile_Games/cookie_cats.csv')\n",
    "data.head()"
   ]
  },
  {
   "cell_type": "code",
   "execution_count": 5,
   "id": "f90e00ef",
   "metadata": {},
   "outputs": [
    {
     "name": "stdout",
     "output_type": "stream",
     "text": [
      "<class 'pandas.core.frame.DataFrame'>\n",
      "RangeIndex: 90189 entries, 0 to 90188\n",
      "Data columns (total 5 columns):\n",
      " #   Column          Non-Null Count  Dtype \n",
      "---  ------          --------------  ----- \n",
      " 0   userid          90189 non-null  int64 \n",
      " 1   version         90189 non-null  object\n",
      " 2   sum_gamerounds  90189 non-null  int64 \n",
      " 3   retention_1     90189 non-null  bool  \n",
      " 4   retention_7     90189 non-null  bool  \n",
      "dtypes: bool(2), int64(2), object(1)\n",
      "memory usage: 2.2+ MB\n"
     ]
    }
   ],
   "source": [
    "data.info()"
   ]
  },
  {
   "cell_type": "code",
   "execution_count": 7,
   "id": "50a1d648",
   "metadata": {},
   "outputs": [
    {
     "data": {
      "text/plain": [
       "<AxesSubplot:ylabel='Density'>"
      ]
     },
     "execution_count": 7,
     "metadata": {},
     "output_type": "execute_result"
    },
    {
     "data": {
      "image/png": "[encoded data removed]",
      "text/plain": [
       "<Figure size 432x288 with 1 Axes>"
      ]
     },
     "metadata": {
      "needs_background": "light"
     },
     "output_type": "display_data"
    }
   ],
   "source": [
    "boot_1d = []\n",
    "for i in range(1000):\n",
    "    boot_mean = data.sample(frac = 1,replace = True).groupby('version')['retention_1'].mean()\n",
    "    boot_1d.append(boot_mean)\n",
    "\n",
    "boot_1d = pd.DataFrame(boot_1d)\n",
    "boot_1d.plot(kind='density')"
   ]
  },
  {
   "cell_type": "code",
   "execution_count": 8,
   "id": "d3a8578d",
   "metadata": {},
   "outputs": [
    {
     "data": {
      "text/html": [
       "<div>\n",
       "<style scoped>\n",
       "    .dataframe tbody tr th:only-of-type {\n",
       "        vertical-align: middle;\n",
       "    }\n",
       "\n",
       "    .dataframe tbody tr th {\n",
       "        vertical-align: top;\n",
       "    }\n",
       "\n",
       "    .dataframe thead th {\n",
       "        text-align: right;\n",
       "    }\n",
       "</style>\n",
       "<table border=\"1\" class=\"dataframe\">\n",
       "  <thead>\n",
       "    <tr style=\"text-align: right;\">\n",
       "      <th>version</th>\n",
       "      <th>gate_30</th>\n",
       "      <th>gate_40</th>\n",
       "    </tr>\n",
       "  </thead>\n",
       "  <tbody>\n",
       "    <tr>\n",
       "      <th>retention_1</th>\n",
       "      <td>0.447801</td>\n",
       "      <td>0.444565</td>\n",
       "    </tr>\n",
       "    <tr>\n",
       "      <th>retention_1</th>\n",
       "      <td>0.449716</td>\n",
       "      <td>0.444569</td>\n",
       "    </tr>\n",
       "    <tr>\n",
       "      <th>retention_1</th>\n",
       "      <td>0.450128</td>\n",
       "      <td>0.441613</td>\n",
       "    </tr>\n",
       "    <tr>\n",
       "      <th>retention_1</th>\n",
       "      <td>0.446940</td>\n",
       "      <td>0.441288</td>\n",
       "    </tr>\n",
       "    <tr>\n",
       "      <th>retention_1</th>\n",
       "      <td>0.448282</td>\n",
       "      <td>0.443249</td>\n",
       "    </tr>\n",
       "    <tr>\n",
       "      <th>...</th>\n",
       "      <td>...</td>\n",
       "      <td>...</td>\n",
       "    </tr>\n",
       "    <tr>\n",
       "      <th>retention_1</th>\n",
       "      <td>0.450610</td>\n",
       "      <td>0.440752</td>\n",
       "    </tr>\n",
       "    <tr>\n",
       "      <th>retention_1</th>\n",
       "      <td>0.448991</td>\n",
       "      <td>0.441225</td>\n",
       "    </tr>\n",
       "    <tr>\n",
       "      <th>retention_1</th>\n",
       "      <td>0.448451</td>\n",
       "      <td>0.442894</td>\n",
       "    </tr>\n",
       "    <tr>\n",
       "      <th>retention_1</th>\n",
       "      <td>0.453054</td>\n",
       "      <td>0.445134</td>\n",
       "    </tr>\n",
       "    <tr>\n",
       "      <th>retention_1</th>\n",
       "      <td>0.447798</td>\n",
       "      <td>0.439671</td>\n",
       "    </tr>\n",
       "  </tbody>\n",
       "</table>\n",
       "<p>1000 rows × 2 columns</p>\n",
       "</div>"
      ],
      "text/plain": [
       "version       gate_30   gate_40\n",
       "retention_1  0.447801  0.444565\n",
       "retention_1  0.449716  0.444569\n",
       "retention_1  0.450128  0.441613\n",
       "retention_1  0.446940  0.441288\n",
       "retention_1  0.448282  0.443249\n",
       "...               ...       ...\n",
       "retention_1  0.450610  0.440752\n",
       "retention_1  0.448991  0.441225\n",
       "retention_1  0.448451  0.442894\n",
       "retention_1  0.453054  0.445134\n",
       "retention_1  0.447798  0.439671\n",
       "\n",
       "[1000 rows x 2 columns]"
      ]
     },
     "execution_count": 8,
     "metadata": {},
     "output_type": "execute_result"
    }
   ],
   "source": [
    "boot_1d"
   ]
  },
  {
   "cell_type": "code",
   "execution_count": 21,
   "id": "933cccb2",
   "metadata": {},
   "outputs": [],
   "source": [
    "path = \"c:/data/Mobile_Games/cookie_cats.csv\""
   ]
  },
  {
   "cell_type": "code",
   "execution_count": 11,
   "id": "c2cbf7c2",
   "metadata": {},
   "outputs": [
    {
     "data": {
      "text/plain": [
       "['../input/mobile-games-ab-testing/cookie_cats', '']"
      ]
     },
     "execution_count": 11,
     "metadata": {},
     "output_type": "execute_result"
    }
   ],
   "source": [
    "path.split(\".csv\")"
   ]
  },
  {
   "cell_type": "code",
   "execution_count": 17,
   "id": "2d0a3542",
   "metadata": {},
   "outputs": [
    {
     "data": {
      "text/plain": [
       "['version']"
      ]
     },
     "execution_count": 17,
     "metadata": {},
     "output_type": "execute_result"
    }
   ],
   "source": [
    "data.select_dtypes('O').columns.tolist()"
   ]
  },
  {
   "cell_type": "code",
   "execution_count": 20,
   "id": "4321065d",
   "metadata": {},
   "outputs": [
    {
     "data": {
      "text/plain": [
       "False"
      ]
     },
     "execution_count": 20,
     "metadata": {},
     "output_type": "execute_result"
    }
   ],
   "source": [
    "data.isnull().values.any()"
   ]
  },
  {
   "cell_type": "code",
   "execution_count": 25,
   "id": "6790443f",
   "metadata": {},
   "outputs": [
    {
     "ename": "NameError",
     "evalue": "name 'load' is not defined",
     "output_type": "error",
     "traceback": [
      "\u001b[1;31m---------------------------------------------------------------------------\u001b[0m",
      "\u001b[1;31mNameError\u001b[0m                                 Traceback (most recent call last)",
      "\u001b[1;32m~\\AppData\\Local\\Temp/ipykernel_20448/3244556937.py\u001b[0m in \u001b[0;36m<module>\u001b[1;34m\u001b[0m\n\u001b[1;32m----> 1\u001b[1;33m \u001b[0mab\u001b[0m \u001b[1;33m=\u001b[0m \u001b[0mload\u001b[0m\u001b[1;33m(\u001b[0m\u001b[0mpath\u001b[0m\u001b[1;33m,\u001b[0m\u001b[0minfo\u001b[0m\u001b[1;33m=\u001b[0m\u001b[1;32mTrue\u001b[0m\u001b[1;33m)\u001b[0m\u001b[1;33m\u001b[0m\u001b[1;33m\u001b[0m\u001b[0m\n\u001b[0m",
      "\u001b[1;31mNameError\u001b[0m: name 'load' is not defined"
     ]
    }
   ],
   "source": [
    "ab = load(path,info=True)"
   ]
  },
  {
   "cell_type": "code",
   "execution_count": 48,
   "id": "6125f44b",
   "metadata": {},
   "outputs": [
    {
     "name": "stdout",
     "output_type": "stream",
     "text": [
      "# MEMORY USAGE ---------------------- \n",
      " 2.2+ MB\n"
     ]
    }
   ],
   "source": [
    "import io\n",
    "buf = io.StringIO()\n",
    "data.info(buf=buf)\n",
    "info = buf.getvalue().split('\\n')[-2].split(\":\")[1].strip()\n",
    "print(\"# MEMORY USAGE ---------------------- \\n\", info)"
   ]
  },
  {
   "cell_type": "code",
   "execution_count": 109,
   "id": "6afa9b5c",
   "metadata": {},
   "outputs": [
    {
     "name": "stdout",
     "output_type": "stream",
     "text": [
      "# Data imported!\n",
      "# ------------------------------------ \n",
      "\n",
      "# DIMENSIONS -------------------------\n",
      "Observation: 90189 Column: 5 \n",
      "\n",
      "# DTYPES -----------------------------\n",
      "Object Variables: \n",
      " # of Variables: 1 \n",
      " ['version'] \n",
      "\n",
      "Integer Variables: \n",
      " # of Variables: 2 \n",
      " ['userid', 'sum_gamerounds'] \n",
      "\n",
      "Bool Variables: \n",
      " # of Variables: 2 \n",
      " ['retention_1', 'retention_7'] \n",
      "\n",
      "# MISSING VALUE ---------------------\n",
      "Are there any missing values? \n",
      "  No missing value! \n",
      "\n",
      "# MEMORY USAGE ---------------------- \n",
      " 2.2+ MB\n"
     ]
    },
    {
     "data": {
      "text/html": [
       "<div>\n",
       "<style scoped>\n",
       "    .dataframe tbody tr th:only-of-type {\n",
       "        vertical-align: middle;\n",
       "    }\n",
       "\n",
       "    .dataframe tbody tr th {\n",
       "        vertical-align: top;\n",
       "    }\n",
       "\n",
       "    .dataframe thead th {\n",
       "        text-align: right;\n",
       "    }\n",
       "</style>\n",
       "<table border=\"1\" class=\"dataframe\">\n",
       "  <thead>\n",
       "    <tr style=\"text-align: right;\">\n",
       "      <th></th>\n",
       "      <th>userid</th>\n",
       "      <th>version</th>\n",
       "      <th>sum_gamerounds</th>\n",
       "      <th>retention_1</th>\n",
       "      <th>retention_7</th>\n",
       "    </tr>\n",
       "  </thead>\n",
       "  <tbody>\n",
       "    <tr>\n",
       "      <th>0</th>\n",
       "      <td>116</td>\n",
       "      <td>gate_30</td>\n",
       "      <td>3</td>\n",
       "      <td>False</td>\n",
       "      <td>False</td>\n",
       "    </tr>\n",
       "    <tr>\n",
       "      <th>1</th>\n",
       "      <td>337</td>\n",
       "      <td>gate_30</td>\n",
       "      <td>38</td>\n",
       "      <td>True</td>\n",
       "      <td>False</td>\n",
       "    </tr>\n",
       "    <tr>\n",
       "      <th>2</th>\n",
       "      <td>377</td>\n",
       "      <td>gate_40</td>\n",
       "      <td>165</td>\n",
       "      <td>True</td>\n",
       "      <td>False</td>\n",
       "    </tr>\n",
       "    <tr>\n",
       "      <th>3</th>\n",
       "      <td>483</td>\n",
       "      <td>gate_40</td>\n",
       "      <td>1</td>\n",
       "      <td>False</td>\n",
       "      <td>False</td>\n",
       "    </tr>\n",
       "    <tr>\n",
       "      <th>4</th>\n",
       "      <td>488</td>\n",
       "      <td>gate_40</td>\n",
       "      <td>179</td>\n",
       "      <td>True</td>\n",
       "      <td>True</td>\n",
       "    </tr>\n",
       "  </tbody>\n",
       "</table>\n",
       "</div>"
      ],
      "text/plain": [
       "   userid  version  sum_gamerounds  retention_1  retention_7\n",
       "0     116  gate_30               3        False        False\n",
       "1     337  gate_30              38         True        False\n",
       "2     377  gate_40             165         True        False\n",
       "3     483  gate_40               1        False        False\n",
       "4     488  gate_40             179         True         True"
      ]
     },
     "execution_count": 109,
     "metadata": {},
     "output_type": "execute_result"
    }
   ],
   "source": [
    "def load(path, info = True):\n",
    "    \n",
    "    import pandas as pd\n",
    "    import io\n",
    "    \n",
    "    if len(path.split(\".csv\")) > 1:\n",
    "        read = pd.read_csv(path)\n",
    "    elif len(path.split(\".xlsx\")) > 1:\n",
    "        read = pd.read_excel(path)\n",
    "    \n",
    "    if info:\n",
    "        if len(read) > 0:\n",
    "            print(\"# Data imported!\")\n",
    "            print(\"# ------------------------------------\", \"\\n\")\n",
    "        \n",
    "            print(\"# DIMENSIONS -------------------------\")\n",
    "            print(\"Observation:\", read.shape[0], \"Column:\", read.shape[1], \"\\n\")\n",
    "    \n",
    "            print(\"# DTYPES -----------------------------\")\n",
    "            if len(read.select_dtypes(\"object\").columns) > 0:\n",
    "                print(\"Object Variables:\", \"\\n\", \"# of Variables:\", \n",
    "                      len(read.select_dtypes(\"object\").columns), \"\\n\", \n",
    "                      read.select_dtypes(\"object\").columns.tolist(), \"\\n\")\n",
    "    \n",
    "            if len(read.select_dtypes(\"integer\").columns) > 0:\n",
    "                print(\"Integer Variables:\", \"\\n\", \"# of Variables:\", \n",
    "                      len(read.select_dtypes(\"integer\").columns), \"\\n\", \n",
    "                      read.select_dtypes(\"integer\").columns.tolist(), \"\\n\")\n",
    "    \n",
    "            if len(read.select_dtypes(\"float\").columns) > 0:\n",
    "                print(\"Float Variables:\", \"\\n\", \"# of Variables:\", \n",
    "                      len(read.select_dtypes(\"float\").columns), \"\\n\", \n",
    "                      read.select_dtypes(\"float\").columns.tolist(), \"\\n\")\n",
    "    \n",
    "            if len(read.select_dtypes(\"bool\").columns) > 0:\n",
    "                print(\"Bool Variables:\", \"\\n\", \"# of Variables:\", \n",
    "                      len(read.select_dtypes(\"bool\").columns), \"\\n\", \n",
    "                      read.select_dtypes(\"bool\").columns.tolist(), \"\\n\")\n",
    "    \n",
    "            print(\"# MISSING VALUE ---------------------\")\n",
    "            print(\"Are there any missing values? \\n \", np.where(read.isnull().values.any() == False, \n",
    "                                                            \"No missing value!\", \"Data includes missing value!\"), \"\\n\")\n",
    "            \n",
    "            buf = io.StringIO()\n",
    "            read.info(buf=buf)\n",
    "            info = buf.getvalue().split('\\n')[-2].split(\":\")[1].strip()\n",
    "            print(\"# MEMORY USAGE ---------------------- \\n\", info)\n",
    "          \n",
    "        else:\n",
    "            print(\"# Data did not import!\")\n",
    "    \n",
    "    return read\n",
    "    \n",
    "ab = load(path, info = True)\n",
    "ab.head()"
   ]
  },
  {
   "cell_type": "code",
   "execution_count": 50,
   "id": "5fe8fd93",
   "metadata": {},
   "outputs": [
    {
     "name": "stdout",
     "output_type": "stream",
     "text": [
      "True\n"
     ]
    }
   ],
   "source": [
    "print(ab.userid.nunique() == ab.shape[0])"
   ]
  },
  {
   "cell_type": "code",
   "execution_count": 57,
   "id": "204e659a",
   "metadata": {},
   "outputs": [
    {
     "data": {
      "text/html": [
       "<div>\n",
       "<style scoped>\n",
       "    .dataframe tbody tr th:only-of-type {\n",
       "        vertical-align: middle;\n",
       "    }\n",
       "\n",
       "    .dataframe tbody tr th {\n",
       "        vertical-align: top;\n",
       "    }\n",
       "\n",
       "    .dataframe thead th {\n",
       "        text-align: right;\n",
       "    }\n",
       "</style>\n",
       "<table border=\"1\" class=\"dataframe\">\n",
       "  <thead>\n",
       "    <tr style=\"text-align: right;\">\n",
       "      <th></th>\n",
       "      <th>count</th>\n",
       "      <th>mean</th>\n",
       "      <th>std</th>\n",
       "      <th>min</th>\n",
       "      <th>1%</th>\n",
       "      <th>5%</th>\n",
       "      <th>10%</th>\n",
       "      <th>20%</th>\n",
       "      <th>50%</th>\n",
       "      <th>80%</th>\n",
       "      <th>90%</th>\n",
       "      <th>95%</th>\n",
       "      <th>99%</th>\n",
       "      <th>max</th>\n",
       "    </tr>\n",
       "  </thead>\n",
       "  <tbody>\n",
       "    <tr>\n",
       "      <th>sum_gamerounds</th>\n",
       "      <td>90189.0000</td>\n",
       "      <td>51.8725</td>\n",
       "      <td>195.0509</td>\n",
       "      <td>0.0000</td>\n",
       "      <td>0.0000</td>\n",
       "      <td>1.0000</td>\n",
       "      <td>1.0000</td>\n",
       "      <td>3.0000</td>\n",
       "      <td>16.0000</td>\n",
       "      <td>67.0000</td>\n",
       "      <td>134.0000</td>\n",
       "      <td>221.0000</td>\n",
       "      <td>493.0000</td>\n",
       "      <td>49854.0000</td>\n",
       "    </tr>\n",
       "  </tbody>\n",
       "</table>\n",
       "</div>"
      ],
      "text/plain": [
       "                    count    mean      std    min     1%     5%    10%    20%  \\\n",
       "sum_gamerounds 90189.0000 51.8725 195.0509 0.0000 0.0000 1.0000 1.0000 3.0000   \n",
       "\n",
       "                   50%     80%      90%      95%      99%        max  \n",
       "sum_gamerounds 16.0000 67.0000 134.0000 221.0000 493.0000 49854.0000  "
      ]
     },
     "execution_count": 57,
     "metadata": {},
     "output_type": "execute_result"
    }
   ],
   "source": [
    "ab.describe([0.01, 0.05, 0.10, 0.20, 0.80, 0.90, 0.95, 0.99])[[\"sum_gamerounds\"]].T"
   ]
  },
  {
   "cell_type": "code",
   "execution_count": 58,
   "id": "486c6d9a",
   "metadata": {},
   "outputs": [
    {
     "data": {
      "text/html": [
       "<div>\n",
       "<style scoped>\n",
       "    .dataframe tbody tr th:only-of-type {\n",
       "        vertical-align: middle;\n",
       "    }\n",
       "\n",
       "    .dataframe tbody tr th {\n",
       "        vertical-align: top;\n",
       "    }\n",
       "\n",
       "    .dataframe thead th {\n",
       "        text-align: right;\n",
       "    }\n",
       "</style>\n",
       "<table border=\"1\" class=\"dataframe\">\n",
       "  <thead>\n",
       "    <tr style=\"text-align: right;\">\n",
       "      <th></th>\n",
       "      <th>count</th>\n",
       "      <th>median</th>\n",
       "      <th>mean</th>\n",
       "      <th>std</th>\n",
       "      <th>max</th>\n",
       "    </tr>\n",
       "    <tr>\n",
       "      <th>version</th>\n",
       "      <th></th>\n",
       "      <th></th>\n",
       "      <th></th>\n",
       "      <th></th>\n",
       "      <th></th>\n",
       "    </tr>\n",
       "  </thead>\n",
       "  <tbody>\n",
       "    <tr>\n",
       "      <th>gate_30</th>\n",
       "      <td>44700</td>\n",
       "      <td>17.0000</td>\n",
       "      <td>52.4563</td>\n",
       "      <td>256.7164</td>\n",
       "      <td>49854</td>\n",
       "    </tr>\n",
       "    <tr>\n",
       "      <th>gate_40</th>\n",
       "      <td>45489</td>\n",
       "      <td>16.0000</td>\n",
       "      <td>51.2988</td>\n",
       "      <td>103.2944</td>\n",
       "      <td>2640</td>\n",
       "    </tr>\n",
       "  </tbody>\n",
       "</table>\n",
       "</div>"
      ],
      "text/plain": [
       "         count  median    mean      std    max\n",
       "version                                       \n",
       "gate_30  44700 17.0000 52.4563 256.7164  49854\n",
       "gate_40  45489 16.0000 51.2988 103.2944   2640"
      ]
     },
     "execution_count": 58,
     "metadata": {},
     "output_type": "execute_result"
    }
   ],
   "source": [
    "ab.groupby(\"version\").sum_gamerounds.agg([\"count\", \"median\", \"mean\", \"std\", \"max\"])"
   ]
  },
  {
   "cell_type": "code",
   "execution_count": 62,
   "id": "42f3e847",
   "metadata": {
    "scrolled": true
   },
   "outputs": [
    {
     "data": {
      "image/png": "[encoded data removed]",
      "text/plain": [
       "<Figure size 1296x360 with 3 Axes>"
      ]
     },
     "metadata": {
      "needs_background": "light"
     },
     "output_type": "display_data"
    }
   ],
   "source": [
    "fig, axes = plt.subplots(1, 3, figsize = (18,5))\n",
    "ab[(ab.version == \"gate_30\")].hist(\"sum_gamerounds\", ax = axes[0], color = \"steelblue\")\n",
    "ab[(ab.version == \"gate_40\")].hist(\"sum_gamerounds\", ax = axes[1], color = \"steelblue\")\n",
    "sns.boxplot(x = ab.version, y = ab.sum_gamerounds, ax = axes[2])\n",
    "\n",
    "plt.suptitle(\"Before Removing The Extreme Value\", fontsize = 20)\n",
    "axes[0].set_title(\"Distribution of Gate 30 (A)\", fontsize = 15)\n",
    "axes[1].set_title(\"Distribution of Gate 40 (B)\", fontsize = 15)\n",
    "axes[2].set_title(\"Distribution of Two Groups\", fontsize = 15)\n",
    "\n",
    "plt.tight_layout(pad = 4);"
   ]
  },
  {
   "cell_type": "code",
   "execution_count": 76,
   "id": "a7212988",
   "metadata": {},
   "outputs": [
    {
     "data": {
      "image/png": "[encoded data removed]",
      "text/plain": [
       "<Figure size 1440x360 with 1 Axes>"
      ]
     },
     "metadata": {
      "needs_background": "light"
     },
     "output_type": "display_data"
    }
   ],
   "source": [
    "ab[ab.version == \"gate_30\"].reset_index().set_index(\"index\").sum_gamerounds.plot(legend = True, label = \"Gate 30\", figsize = (20,5))\n",
    "ab[ab.version == \"gate_40\"].reset_index().set_index(\"index\").sum_gamerounds.plot(legend = True, label = \"Gate 40\")\n",
    "plt.suptitle(\"Before Removing The Extreme Value\", fontsize = 20);"
   ]
  },
  {
   "cell_type": "code",
   "execution_count": 110,
   "id": "5ba41987",
   "metadata": {},
   "outputs": [
    {
     "data": {
      "text/html": [
       "<div>\n",
       "<style scoped>\n",
       "    .dataframe tbody tr th:only-of-type {\n",
       "        vertical-align: middle;\n",
       "    }\n",
       "\n",
       "    .dataframe tbody tr th {\n",
       "        vertical-align: top;\n",
       "    }\n",
       "\n",
       "    .dataframe thead th {\n",
       "        text-align: right;\n",
       "    }\n",
       "</style>\n",
       "<table border=\"1\" class=\"dataframe\">\n",
       "  <thead>\n",
       "    <tr style=\"text-align: right;\">\n",
       "      <th></th>\n",
       "      <th>count</th>\n",
       "      <th>mean</th>\n",
       "      <th>std</th>\n",
       "      <th>min</th>\n",
       "      <th>1%</th>\n",
       "      <th>5%</th>\n",
       "      <th>10%</th>\n",
       "      <th>20%</th>\n",
       "      <th>50%</th>\n",
       "      <th>80%</th>\n",
       "      <th>90%</th>\n",
       "      <th>95%</th>\n",
       "      <th>99%</th>\n",
       "      <th>max</th>\n",
       "    </tr>\n",
       "  </thead>\n",
       "  <tbody>\n",
       "    <tr>\n",
       "      <th>sum_gamerounds</th>\n",
       "      <td>90188.0000</td>\n",
       "      <td>51.3203</td>\n",
       "      <td>102.6827</td>\n",
       "      <td>0.0000</td>\n",
       "      <td>0.0000</td>\n",
       "      <td>1.0000</td>\n",
       "      <td>1.0000</td>\n",
       "      <td>3.0000</td>\n",
       "      <td>16.0000</td>\n",
       "      <td>67.0000</td>\n",
       "      <td>134.0000</td>\n",
       "      <td>221.0000</td>\n",
       "      <td>493.0000</td>\n",
       "      <td>2961.0000</td>\n",
       "    </tr>\n",
       "  </tbody>\n",
       "</table>\n",
       "</div>"
      ],
      "text/plain": [
       "                    count    mean      std    min     1%     5%    10%    20%  \\\n",
       "sum_gamerounds 90188.0000 51.3203 102.6827 0.0000 0.0000 1.0000 1.0000 3.0000   \n",
       "\n",
       "                   50%     80%      90%      95%      99%       max  \n",
       "sum_gamerounds 16.0000 67.0000 134.0000 221.0000 493.0000 2961.0000  "
      ]
     },
     "execution_count": 110,
     "metadata": {},
     "output_type": "execute_result"
    }
   ],
   "source": [
    "ab = ab[ab.sum_gamerounds < ab.sum_gamerounds.max()]\n",
    "\n",
    "# Summary Stats: sum_gamerounds\n",
    "ab.describe([0.01, 0.05, 0.10, 0.20, 0.80, 0.90, 0.95, 0.99])[[\"sum_gamerounds\"]].T"
   ]
  },
  {
   "cell_type": "code",
   "execution_count": 82,
   "id": "ea7127af",
   "metadata": {},
   "outputs": [
    {
     "data": {
      "text/plain": [
       "sum_gamerounds\n",
       "30    642\n",
       "40    505\n",
       "Name: userid, dtype: int64"
      ]
     },
     "execution_count": 82,
     "metadata": {},
     "output_type": "execute_result"
    }
   ],
   "source": [
    "# How many users reached gate 30 & gate 40 levels?\n",
    "ab.groupby(\"sum_gamerounds\").userid.count().loc[[30,40]]"
   ]
  },
  {
   "cell_type": "markdown",
   "id": "73d14506",
   "metadata": {},
   "source": [
    "Looking at the summary statistics, the control and Test groups seem similar, but are the two groups statistically significant? We will investigate this statistically."
   ]
  },
  {
   "cell_type": "code",
   "execution_count": 83,
   "id": "ed61e571",
   "metadata": {},
   "outputs": [
    {
     "data": {
      "text/html": [
       "<div>\n",
       "<style scoped>\n",
       "    .dataframe tbody tr th:only-of-type {\n",
       "        vertical-align: middle;\n",
       "    }\n",
       "\n",
       "    .dataframe tbody tr th {\n",
       "        vertical-align: top;\n",
       "    }\n",
       "\n",
       "    .dataframe thead th {\n",
       "        text-align: right;\n",
       "    }\n",
       "</style>\n",
       "<table border=\"1\" class=\"dataframe\">\n",
       "  <thead>\n",
       "    <tr style=\"text-align: right;\">\n",
       "      <th></th>\n",
       "      <th>count</th>\n",
       "      <th>median</th>\n",
       "      <th>mean</th>\n",
       "      <th>std</th>\n",
       "      <th>max</th>\n",
       "    </tr>\n",
       "    <tr>\n",
       "      <th>version</th>\n",
       "      <th></th>\n",
       "      <th></th>\n",
       "      <th></th>\n",
       "      <th></th>\n",
       "      <th></th>\n",
       "    </tr>\n",
       "  </thead>\n",
       "  <tbody>\n",
       "    <tr>\n",
       "      <th>gate_30</th>\n",
       "      <td>44699</td>\n",
       "      <td>17.0000</td>\n",
       "      <td>51.3421</td>\n",
       "      <td>102.0576</td>\n",
       "      <td>2961</td>\n",
       "    </tr>\n",
       "    <tr>\n",
       "      <th>gate_40</th>\n",
       "      <td>45489</td>\n",
       "      <td>16.0000</td>\n",
       "      <td>51.2988</td>\n",
       "      <td>103.2944</td>\n",
       "      <td>2640</td>\n",
       "    </tr>\n",
       "  </tbody>\n",
       "</table>\n",
       "</div>"
      ],
      "text/plain": [
       "         count  median    mean      std   max\n",
       "version                                      \n",
       "gate_30  44699 17.0000 51.3421 102.0576  2961\n",
       "gate_40  45489 16.0000 51.2988 103.2944  2640"
      ]
     },
     "execution_count": 83,
     "metadata": {},
     "output_type": "execute_result"
    }
   ],
   "source": [
    "# A/B Groups & Target Summary Stats\n",
    "ab.groupby(\"version\").sum_gamerounds.agg([\"count\", \"median\", \"mean\", \"std\", \"max\"])"
   ]
  },
  {
   "cell_type": "markdown",
   "id": "915a0ab7",
   "metadata": {},
   "source": [
    "##### Retention variables gives us player retention details.\n",
    "\n",
    "* retention_1 - did the player come back and play 1 day after installing?    \n",
    "* retention_7 - did the player come back and play 7 days after installing?     \n",
    "Also players tend not to play the game! There are many players who quit the game.     \n",
    "\n",
    "* 55 percent of the players didn't play the game 1 day after insalling     \n",
    "* 81 percent of the players didn't play the game 7 day after insalling"
   ]
  },
  {
   "cell_type": "code",
   "execution_count": 111,
   "id": "65db5737",
   "metadata": {},
   "outputs": [
    {
     "data": {
      "text/html": [
       "<div>\n",
       "<style scoped>\n",
       "    .dataframe tbody tr th:only-of-type {\n",
       "        vertical-align: middle;\n",
       "    }\n",
       "\n",
       "    .dataframe tbody tr th {\n",
       "        vertical-align: top;\n",
       "    }\n",
       "\n",
       "    .dataframe thead th {\n",
       "        text-align: right;\n",
       "    }\n",
       "</style>\n",
       "<table border=\"1\" class=\"dataframe\">\n",
       "  <thead>\n",
       "    <tr style=\"text-align: right;\">\n",
       "      <th></th>\n",
       "      <th>RET1_COUNT</th>\n",
       "      <th>RET7_COUNT</th>\n",
       "      <th>RET1_RATIO</th>\n",
       "      <th>RET7_RATIO</th>\n",
       "    </tr>\n",
       "  </thead>\n",
       "  <tbody>\n",
       "    <tr>\n",
       "      <th>False</th>\n",
       "      <td>50035</td>\n",
       "      <td>73408</td>\n",
       "      <td>0.5548</td>\n",
       "      <td>0.8139</td>\n",
       "    </tr>\n",
       "    <tr>\n",
       "      <th>True</th>\n",
       "      <td>40153</td>\n",
       "      <td>16780</td>\n",
       "      <td>0.4452</td>\n",
       "      <td>0.1861</td>\n",
       "    </tr>\n",
       "  </tbody>\n",
       "</table>\n",
       "</div>"
      ],
      "text/plain": [
       "       RET1_COUNT  RET7_COUNT  RET1_RATIO  RET7_RATIO\n",
       "False       50035       73408      0.5548      0.8139\n",
       "True        40153       16780      0.4452      0.1861"
      ]
     },
     "execution_count": 111,
     "metadata": {},
     "output_type": "execute_result"
    }
   ],
   "source": [
    "# Retention Problem\n",
    "pd.DataFrame({\"RET1_COUNT\": ab[\"retention_1\"].value_counts(),\n",
    "              \"RET7_COUNT\": ab[\"retention_7\"].value_counts(),\n",
    "              \"RET1_RATIO\": ab[\"retention_1\"].value_counts() / len(ab),\n",
    "              \"RET7_RATIO\": ab[\"retention_7\"].value_counts() / len(ab)})"
   ]
  },
  {
   "cell_type": "markdown",
   "id": "f689c8bb",
   "metadata": {},
   "source": [
    "Looking at the summary statistics of retention variables by version and comparing with sum_gamerounds, there are similarities between groups. However, it will be more helpful to see if there is a statistically significant difference."
   ]
  },
  {
   "cell_type": "code",
   "execution_count": 85,
   "id": "e120543e",
   "metadata": {},
   "outputs": [
    {
     "data": {
      "text/html": [
       "<div>\n",
       "<style scoped>\n",
       "    .dataframe tbody tr th:only-of-type {\n",
       "        vertical-align: middle;\n",
       "    }\n",
       "\n",
       "    .dataframe tbody tr th {\n",
       "        vertical-align: top;\n",
       "    }\n",
       "\n",
       "    .dataframe thead th {\n",
       "        text-align: right;\n",
       "    }\n",
       "</style>\n",
       "<table border=\"1\" class=\"dataframe\">\n",
       "  <thead>\n",
       "    <tr style=\"text-align: right;\">\n",
       "      <th></th>\n",
       "      <th></th>\n",
       "      <th>count</th>\n",
       "      <th>median</th>\n",
       "      <th>mean</th>\n",
       "      <th>std</th>\n",
       "      <th>max</th>\n",
       "    </tr>\n",
       "    <tr>\n",
       "      <th>version</th>\n",
       "      <th>retention_1</th>\n",
       "      <th></th>\n",
       "      <th></th>\n",
       "      <th></th>\n",
       "      <th></th>\n",
       "      <th></th>\n",
       "    </tr>\n",
       "  </thead>\n",
       "  <tbody>\n",
       "    <tr>\n",
       "      <th rowspan=\"2\" valign=\"top\">gate_30</th>\n",
       "      <th>False</th>\n",
       "      <td>24665</td>\n",
       "      <td>6.0000</td>\n",
       "      <td>16.3591</td>\n",
       "      <td>36.5284</td>\n",
       "      <td>1072</td>\n",
       "    </tr>\n",
       "    <tr>\n",
       "      <th>True</th>\n",
       "      <td>20034</td>\n",
       "      <td>48.0000</td>\n",
       "      <td>94.4117</td>\n",
       "      <td>135.0377</td>\n",
       "      <td>2961</td>\n",
       "    </tr>\n",
       "    <tr>\n",
       "      <th rowspan=\"2\" valign=\"top\">gate_40</th>\n",
       "      <th>False</th>\n",
       "      <td>25370</td>\n",
       "      <td>6.0000</td>\n",
       "      <td>16.3404</td>\n",
       "      <td>35.9258</td>\n",
       "      <td>1241</td>\n",
       "    </tr>\n",
       "    <tr>\n",
       "      <th>True</th>\n",
       "      <td>20119</td>\n",
       "      <td>49.0000</td>\n",
       "      <td>95.3812</td>\n",
       "      <td>137.8873</td>\n",
       "      <td>2640</td>\n",
       "    </tr>\n",
       "  </tbody>\n",
       "</table>\n",
       "</div>"
      ],
      "text/plain": [
       "                     count  median    mean      std   max\n",
       "version retention_1                                      \n",
       "gate_30 False        24665  6.0000 16.3591  36.5284  1072\n",
       "        True         20034 48.0000 94.4117 135.0377  2961\n",
       "gate_40 False        25370  6.0000 16.3404  35.9258  1241\n",
       "        True         20119 49.0000 95.3812 137.8873  2640"
      ]
     },
     "execution_count": 85,
     "metadata": {},
     "output_type": "execute_result"
    }
   ],
   "source": [
    "ab.groupby([\"version\", \"retention_1\"]).sum_gamerounds.agg([\"count\", \"median\", \"mean\", \"std\", \"max\"])"
   ]
  },
  {
   "cell_type": "code",
   "execution_count": 87,
   "id": "d574842b",
   "metadata": {},
   "outputs": [
    {
     "data": {
      "text/html": [
       "<div>\n",
       "<style scoped>\n",
       "    .dataframe tbody tr th:only-of-type {\n",
       "        vertical-align: middle;\n",
       "    }\n",
       "\n",
       "    .dataframe tbody tr th {\n",
       "        vertical-align: top;\n",
       "    }\n",
       "\n",
       "    .dataframe thead th {\n",
       "        text-align: right;\n",
       "    }\n",
       "</style>\n",
       "<table border=\"1\" class=\"dataframe\">\n",
       "  <thead>\n",
       "    <tr style=\"text-align: right;\">\n",
       "      <th></th>\n",
       "      <th></th>\n",
       "      <th>count</th>\n",
       "      <th>median</th>\n",
       "      <th>mean</th>\n",
       "      <th>std</th>\n",
       "      <th>max</th>\n",
       "    </tr>\n",
       "    <tr>\n",
       "      <th>version</th>\n",
       "      <th>retention_7</th>\n",
       "      <th></th>\n",
       "      <th></th>\n",
       "      <th></th>\n",
       "      <th></th>\n",
       "      <th></th>\n",
       "    </tr>\n",
       "  </thead>\n",
       "  <tbody>\n",
       "    <tr>\n",
       "      <th rowspan=\"2\" valign=\"top\">gate_30</th>\n",
       "      <th>False</th>\n",
       "      <td>36198</td>\n",
       "      <td>11.0000</td>\n",
       "      <td>25.7965</td>\n",
       "      <td>43.3162</td>\n",
       "      <td>981</td>\n",
       "    </tr>\n",
       "    <tr>\n",
       "      <th>True</th>\n",
       "      <td>8501</td>\n",
       "      <td>105.0000</td>\n",
       "      <td>160.1175</td>\n",
       "      <td>179.3586</td>\n",
       "      <td>2961</td>\n",
       "    </tr>\n",
       "    <tr>\n",
       "      <th rowspan=\"2\" valign=\"top\">gate_40</th>\n",
       "      <th>False</th>\n",
       "      <td>37210</td>\n",
       "      <td>11.0000</td>\n",
       "      <td>25.8564</td>\n",
       "      <td>44.4061</td>\n",
       "      <td>2640</td>\n",
       "    </tr>\n",
       "    <tr>\n",
       "      <th>True</th>\n",
       "      <td>8279</td>\n",
       "      <td>111.0000</td>\n",
       "      <td>165.6498</td>\n",
       "      <td>183.7925</td>\n",
       "      <td>2294</td>\n",
       "    </tr>\n",
       "  </tbody>\n",
       "</table>\n",
       "</div>"
      ],
      "text/plain": [
       "                     count   median     mean      std   max\n",
       "version retention_7                                        \n",
       "gate_30 False        36198  11.0000  25.7965  43.3162   981\n",
       "        True          8501 105.0000 160.1175 179.3586  2961\n",
       "gate_40 False        37210  11.0000  25.8564  44.4061  2640\n",
       "        True          8279 111.0000 165.6498 183.7925  2294"
      ]
     },
     "execution_count": 87,
     "metadata": {},
     "output_type": "execute_result"
    }
   ],
   "source": [
    "ab.groupby([\"version\", \"retention_7\"]).sum_gamerounds.agg([\"count\", \"median\", \"mean\", \"std\", \"max\"])"
   ]
  },
  {
   "cell_type": "markdown",
   "id": "2fb083f4",
   "metadata": {},
   "source": [
    "Similar results are seen when the number of users who came and did not come 1 day and 7 days after the game was installing. Approximately 12.000 users among the total users played the game both 1 day and 7 days after installing the game. 14% of the total users include people who will continue the game in the future."
   ]
  },
  {
   "cell_type": "code",
   "execution_count": 112,
   "id": "97acb900",
   "metadata": {},
   "outputs": [
    {
     "data": {
      "text/html": [
       "<div>\n",
       "<style scoped>\n",
       "    .dataframe tbody tr th:only-of-type {\n",
       "        vertical-align: middle;\n",
       "    }\n",
       "\n",
       "    .dataframe tbody tr th {\n",
       "        vertical-align: top;\n",
       "    }\n",
       "\n",
       "    .dataframe thead th {\n",
       "        text-align: right;\n",
       "    }\n",
       "</style>\n",
       "<table border=\"1\" class=\"dataframe\">\n",
       "  <thead>\n",
       "    <tr style=\"text-align: right;\">\n",
       "      <th></th>\n",
       "      <th></th>\n",
       "      <th>count</th>\n",
       "      <th>median</th>\n",
       "      <th>mean</th>\n",
       "      <th>std</th>\n",
       "      <th>max</th>\n",
       "    </tr>\n",
       "    <tr>\n",
       "      <th>version</th>\n",
       "      <th>Retention</th>\n",
       "      <th></th>\n",
       "      <th></th>\n",
       "      <th></th>\n",
       "      <th></th>\n",
       "      <th></th>\n",
       "    </tr>\n",
       "  </thead>\n",
       "  <tbody>\n",
       "    <tr>\n",
       "      <th rowspan=\"2\" valign=\"top\">gate_30</th>\n",
       "      <th>0</th>\n",
       "      <td>38023</td>\n",
       "      <td>12.0000</td>\n",
       "      <td>28.0703</td>\n",
       "      <td>48.0175</td>\n",
       "      <td>1072</td>\n",
       "    </tr>\n",
       "    <tr>\n",
       "      <th>1</th>\n",
       "      <td>6676</td>\n",
       "      <td>127.0000</td>\n",
       "      <td>183.8863</td>\n",
       "      <td>189.6264</td>\n",
       "      <td>2961</td>\n",
       "    </tr>\n",
       "    <tr>\n",
       "      <th rowspan=\"2\" valign=\"top\">gate_40</th>\n",
       "      <th>0</th>\n",
       "      <td>38983</td>\n",
       "      <td>12.0000</td>\n",
       "      <td>28.1034</td>\n",
       "      <td>48.9278</td>\n",
       "      <td>2640</td>\n",
       "    </tr>\n",
       "    <tr>\n",
       "      <th>1</th>\n",
       "      <td>6506</td>\n",
       "      <td>133.0000</td>\n",
       "      <td>190.2824</td>\n",
       "      <td>194.2201</td>\n",
       "      <td>2294</td>\n",
       "    </tr>\n",
       "  </tbody>\n",
       "</table>\n",
       "</div>"
      ],
      "text/plain": [
       "                   count   median     mean      std   max\n",
       "version Retention                                        \n",
       "gate_30 0          38023  12.0000  28.0703  48.0175  1072\n",
       "        1           6676 127.0000 183.8863 189.6264  2961\n",
       "gate_40 0          38983  12.0000  28.1034  48.9278  2640\n",
       "        1           6506 133.0000 190.2824 194.2201  2294"
      ]
     },
     "execution_count": 112,
     "metadata": {},
     "output_type": "execute_result"
    }
   ],
   "source": [
    "ab[\"Retention\"] = np.where((ab.retention_1 == True) & (ab.retention_7 == True), 1,0)\n",
    "ab.groupby([\"version\", \"Retention\"])[\"sum_gamerounds\"].agg([\"count\", \"median\", \"mean\", \"std\", \"max\"])"
   ]
  },
  {
   "cell_type": "code",
   "execution_count": 89,
   "id": "8fd6573e",
   "metadata": {},
   "outputs": [
    {
     "data": {
      "text/html": [
       "<div>\n",
       "<style scoped>\n",
       "    .dataframe tbody tr th:only-of-type {\n",
       "        vertical-align: middle;\n",
       "    }\n",
       "\n",
       "    .dataframe tbody tr th {\n",
       "        vertical-align: top;\n",
       "    }\n",
       "\n",
       "    .dataframe thead th {\n",
       "        text-align: right;\n",
       "    }\n",
       "</style>\n",
       "<table border=\"1\" class=\"dataframe\">\n",
       "  <thead>\n",
       "    <tr style=\"text-align: right;\">\n",
       "      <th></th>\n",
       "      <th>RET_RATIO</th>\n",
       "    </tr>\n",
       "  </thead>\n",
       "  <tbody>\n",
       "    <tr>\n",
       "      <th>0</th>\n",
       "      <td>0.8538</td>\n",
       "    </tr>\n",
       "    <tr>\n",
       "      <th>1</th>\n",
       "      <td>0.1462</td>\n",
       "    </tr>\n",
       "  </tbody>\n",
       "</table>\n",
       "</div>"
      ],
      "text/plain": [
       "   RET_RATIO\n",
       "0     0.8538\n",
       "1     0.1462"
      ]
     },
     "execution_count": 89,
     "metadata": {},
     "output_type": "execute_result"
    }
   ],
   "source": [
    "pd.DataFrame({\"RET_RATIO\": ab[\"Retention\"].value_counts() / len(ab)})"
   ]
  },
  {
   "cell_type": "markdown",
   "id": "b4b21153",
   "metadata": {},
   "source": [
    "When the retention variables are combined and the two groups are compared, the summary statistics are similar here as well."
   ]
  },
  {
   "cell_type": "code",
   "execution_count": 113,
   "id": "94ff61e2",
   "metadata": {},
   "outputs": [
    {
     "data": {
      "text/html": [
       "<div>\n",
       "<style scoped>\n",
       "    .dataframe tbody tr th:only-of-type {\n",
       "        vertical-align: middle;\n",
       "    }\n",
       "\n",
       "    .dataframe tbody tr th {\n",
       "        vertical-align: top;\n",
       "    }\n",
       "\n",
       "    .dataframe thead th {\n",
       "        text-align: right;\n",
       "    }\n",
       "</style>\n",
       "<table border=\"1\" class=\"dataframe\">\n",
       "  <thead>\n",
       "    <tr style=\"text-align: right;\">\n",
       "      <th></th>\n",
       "      <th>version</th>\n",
       "      <th>NewRetention</th>\n",
       "      <th>count</th>\n",
       "      <th>median</th>\n",
       "      <th>mean</th>\n",
       "      <th>std</th>\n",
       "      <th>max</th>\n",
       "    </tr>\n",
       "  </thead>\n",
       "  <tbody>\n",
       "    <tr>\n",
       "      <th>0</th>\n",
       "      <td>gate_30</td>\n",
       "      <td>False-False</td>\n",
       "      <td>22840</td>\n",
       "      <td>6.0000</td>\n",
       "      <td>11.8197</td>\n",
       "      <td>21.6426</td>\n",
       "      <td>981</td>\n",
       "    </tr>\n",
       "    <tr>\n",
       "      <th>1</th>\n",
       "      <td>gate_30</td>\n",
       "      <td>False-True</td>\n",
       "      <td>1825</td>\n",
       "      <td>43.0000</td>\n",
       "      <td>73.1693</td>\n",
       "      <td>93.2223</td>\n",
       "      <td>1072</td>\n",
       "    </tr>\n",
       "    <tr>\n",
       "      <th>2</th>\n",
       "      <td>gate_30</td>\n",
       "      <td>True-False</td>\n",
       "      <td>13358</td>\n",
       "      <td>33.0000</td>\n",
       "      <td>49.6945</td>\n",
       "      <td>58.1254</td>\n",
       "      <td>918</td>\n",
       "    </tr>\n",
       "    <tr>\n",
       "      <th>3</th>\n",
       "      <td>gate_30</td>\n",
       "      <td>True-True</td>\n",
       "      <td>6676</td>\n",
       "      <td>127.0000</td>\n",
       "      <td>183.8863</td>\n",
       "      <td>189.6264</td>\n",
       "      <td>2961</td>\n",
       "    </tr>\n",
       "    <tr>\n",
       "      <th>4</th>\n",
       "      <td>gate_40</td>\n",
       "      <td>False-False</td>\n",
       "      <td>23597</td>\n",
       "      <td>6.0000</td>\n",
       "      <td>11.9133</td>\n",
       "      <td>20.9010</td>\n",
       "      <td>547</td>\n",
       "    </tr>\n",
       "    <tr>\n",
       "      <th>5</th>\n",
       "      <td>gate_40</td>\n",
       "      <td>False-True</td>\n",
       "      <td>1773</td>\n",
       "      <td>47.0000</td>\n",
       "      <td>75.2611</td>\n",
       "      <td>94.4780</td>\n",
       "      <td>1241</td>\n",
       "    </tr>\n",
       "    <tr>\n",
       "      <th>6</th>\n",
       "      <td>gate_40</td>\n",
       "      <td>True-False</td>\n",
       "      <td>13613</td>\n",
       "      <td>32.0000</td>\n",
       "      <td>50.0255</td>\n",
       "      <td>60.9246</td>\n",
       "      <td>2640</td>\n",
       "    </tr>\n",
       "    <tr>\n",
       "      <th>7</th>\n",
       "      <td>gate_40</td>\n",
       "      <td>True-True</td>\n",
       "      <td>6506</td>\n",
       "      <td>133.0000</td>\n",
       "      <td>190.2824</td>\n",
       "      <td>194.2201</td>\n",
       "      <td>2294</td>\n",
       "    </tr>\n",
       "  </tbody>\n",
       "</table>\n",
       "</div>"
      ],
      "text/plain": [
       "   version NewRetention  count   median     mean      std   max\n",
       "0  gate_30  False-False  22840   6.0000  11.8197  21.6426   981\n",
       "1  gate_30   False-True   1825  43.0000  73.1693  93.2223  1072\n",
       "2  gate_30   True-False  13358  33.0000  49.6945  58.1254   918\n",
       "3  gate_30    True-True   6676 127.0000 183.8863 189.6264  2961\n",
       "4  gate_40  False-False  23597   6.0000  11.9133  20.9010   547\n",
       "5  gate_40   False-True   1773  47.0000  75.2611  94.4780  1241\n",
       "6  gate_40   True-False  13613  32.0000  50.0255  60.9246  2640\n",
       "7  gate_40    True-True   6506 133.0000 190.2824 194.2201  2294"
      ]
     },
     "execution_count": 113,
     "metadata": {},
     "output_type": "execute_result"
    }
   ],
   "source": [
    "ab[\"NewRetention\"] = list(map(lambda x,y: str(x)+\"-\"+str(y), ab.retention_1, ab.retention_7))\n",
    "ab.groupby([\"version\", \"NewRetention\"]).sum_gamerounds.agg([\"count\", \"median\", \"mean\", \"std\", \"max\"]).reset_index()"
   ]
  },
  {
   "cell_type": "markdown",
   "id": "463663ff",
   "metadata": {},
   "source": [
    "## A/B Testing"
   ]
  },
  {
   "cell_type": "markdown",
   "id": "a56cfee1",
   "metadata": {},
   "source": [
    "#### Assumptions:\n",
    " * Check normality\n",
    " * If Normal Distribution, check homogeneity"
   ]
  },
  {
   "cell_type": "markdown",
   "id": "cd2bc6fb",
   "metadata": {},
   "source": [
    " #### Steps:\n",
    " * Split & Define Control Group & Test Group\n",
    " * Apply Shapiro Test for normality\n",
    " * If parametric apply Levene Test for homogeneity of variances\n",
    " * If Parametric + homogeneity of variances apply T-Test\n",
    " * If Parametric - homogeneity of variances apply Welch Test\n",
    " * If Non-parametric apply Mann Whitney U Test directly"
   ]
  },
  {
   "cell_type": "code",
   "execution_count": 114,
   "id": "2ab026a1",
   "metadata": {},
   "outputs": [
    {
     "data": {
      "text/html": [
       "<div>\n",
       "<style scoped>\n",
       "    .dataframe tbody tr th:only-of-type {\n",
       "        vertical-align: middle;\n",
       "    }\n",
       "\n",
       "    .dataframe tbody tr th {\n",
       "        vertical-align: top;\n",
       "    }\n",
       "\n",
       "    .dataframe thead th {\n",
       "        text-align: right;\n",
       "    }\n",
       "</style>\n",
       "<table border=\"1\" class=\"dataframe\">\n",
       "  <thead>\n",
       "    <tr style=\"text-align: right;\">\n",
       "      <th></th>\n",
       "      <th>userid</th>\n",
       "      <th>version</th>\n",
       "      <th>sum_gamerounds</th>\n",
       "      <th>retention_1</th>\n",
       "      <th>retention_7</th>\n",
       "      <th>Retention</th>\n",
       "      <th>NewRetention</th>\n",
       "    </tr>\n",
       "  </thead>\n",
       "  <tbody>\n",
       "    <tr>\n",
       "      <th>0</th>\n",
       "      <td>116</td>\n",
       "      <td>A</td>\n",
       "      <td>3</td>\n",
       "      <td>False</td>\n",
       "      <td>False</td>\n",
       "      <td>0</td>\n",
       "      <td>False-False</td>\n",
       "    </tr>\n",
       "    <tr>\n",
       "      <th>1</th>\n",
       "      <td>337</td>\n",
       "      <td>A</td>\n",
       "      <td>38</td>\n",
       "      <td>True</td>\n",
       "      <td>False</td>\n",
       "      <td>0</td>\n",
       "      <td>True-False</td>\n",
       "    </tr>\n",
       "    <tr>\n",
       "      <th>2</th>\n",
       "      <td>377</td>\n",
       "      <td>B</td>\n",
       "      <td>165</td>\n",
       "      <td>True</td>\n",
       "      <td>False</td>\n",
       "      <td>0</td>\n",
       "      <td>True-False</td>\n",
       "    </tr>\n",
       "    <tr>\n",
       "      <th>3</th>\n",
       "      <td>483</td>\n",
       "      <td>B</td>\n",
       "      <td>1</td>\n",
       "      <td>False</td>\n",
       "      <td>False</td>\n",
       "      <td>0</td>\n",
       "      <td>False-False</td>\n",
       "    </tr>\n",
       "    <tr>\n",
       "      <th>4</th>\n",
       "      <td>488</td>\n",
       "      <td>B</td>\n",
       "      <td>179</td>\n",
       "      <td>True</td>\n",
       "      <td>True</td>\n",
       "      <td>1</td>\n",
       "      <td>True-True</td>\n",
       "    </tr>\n",
       "  </tbody>\n",
       "</table>\n",
       "</div>"
      ],
      "text/plain": [
       "   userid version  sum_gamerounds  retention_1  retention_7  Retention  \\\n",
       "0     116       A               3        False        False          0   \n",
       "1     337       A              38         True        False          0   \n",
       "2     377       B             165         True        False          0   \n",
       "3     483       B               1        False        False          0   \n",
       "4     488       B             179         True         True          1   \n",
       "\n",
       "  NewRetention  \n",
       "0  False-False  \n",
       "1   True-False  \n",
       "2   True-False  \n",
       "3  False-False  \n",
       "4    True-True  "
      ]
     },
     "execution_count": 114,
     "metadata": {},
     "output_type": "execute_result"
    }
   ],
   "source": [
    "# Define A/B groups\n",
    "ab[\"version\"] = np.where(ab.version == \"gate_30\", \"A\", \"B\")\n",
    "ab.head()"
   ]
  },
  {
   "cell_type": "code",
   "execution_count": 96,
   "id": "d206548f",
   "metadata": {},
   "outputs": [
    {
     "data": {
      "text/plain": [
       "True"
      ]
     },
     "execution_count": 96,
     "metadata": {},
     "output_type": "execute_result"
    }
   ],
   "source": [
    "shapiro(ab[ab['version'] == \"A\"]['sum_gamerounds'])[1] < 0.05"
   ]
  },
  {
   "cell_type": "code",
   "execution_count": 102,
   "id": "c00cc926",
   "metadata": {},
   "outputs": [
    {
     "data": {
      "text/plain": [
       "True"
      ]
     },
     "execution_count": 102,
     "metadata": {},
     "output_type": "execute_result"
    }
   ],
   "source": [
    "shapiro(ab[ab['version'] == \"B\"]['sum_gamerounds'])[1] < 0.05"
   ]
  },
  {
   "cell_type": "code",
   "execution_count": 99,
   "id": "84499bcc",
   "metadata": {},
   "outputs": [
    {
     "data": {
      "text/plain": [
       "Ttest_indResult(statistic=0.0633675766982082, pvalue=0.9494739458256001)"
      ]
     },
     "execution_count": 99,
     "metadata": {},
     "output_type": "execute_result"
    }
   ],
   "source": [
    "stats.ttest_ind(ab[ab['version'] == \"A\"]['sum_gamerounds'], ab[ab['version'] == \"B\"]['sum_gamerounds'], equal_var=True)"
   ]
  },
  {
   "cell_type": "code",
   "execution_count": 104,
   "id": "54bd04cc",
   "metadata": {},
   "outputs": [
    {
     "data": {
      "text/plain": [
       "0.05089155279145376"
      ]
     },
     "execution_count": 104,
     "metadata": {},
     "output_type": "execute_result"
    }
   ],
   "source": [
    "stats.mannwhitneyu(ab[ab['version'] == \"A\"]['sum_gamerounds'], ab[ab['version'] == \"B\"]['sum_gamerounds'])[1] "
   ]
  },
  {
   "cell_type": "code",
   "execution_count": 115,
   "id": "fffdeaa2",
   "metadata": {},
   "outputs": [
    {
     "name": "stdout",
     "output_type": "stream",
     "text": [
      "# A/B Testing Hypothesis\n",
      "H0: A == B\n",
      "H1: A != B \n",
      "\n"
     ]
    },
    {
     "data": {
      "text/html": [
       "<div>\n",
       "<style scoped>\n",
       "    .dataframe tbody tr th:only-of-type {\n",
       "        vertical-align: middle;\n",
       "    }\n",
       "\n",
       "    .dataframe tbody tr th {\n",
       "        vertical-align: top;\n",
       "    }\n",
       "\n",
       "    .dataframe thead th {\n",
       "        text-align: right;\n",
       "    }\n",
       "</style>\n",
       "<table border=\"1\" class=\"dataframe\">\n",
       "  <thead>\n",
       "    <tr style=\"text-align: right;\">\n",
       "      <th></th>\n",
       "      <th>Test Type</th>\n",
       "      <th>AB Hypothesis</th>\n",
       "      <th>p-value</th>\n",
       "      <th>Comment</th>\n",
       "    </tr>\n",
       "  </thead>\n",
       "  <tbody>\n",
       "    <tr>\n",
       "      <th>0</th>\n",
       "      <td>Non-Parametric</td>\n",
       "      <td>Fail to Reject H0</td>\n",
       "      <td>0.0509</td>\n",
       "      <td>A/B groups are similar!</td>\n",
       "    </tr>\n",
       "  </tbody>\n",
       "</table>\n",
       "</div>"
      ],
      "text/plain": [
       "        Test Type      AB Hypothesis  p-value                  Comment\n",
       "0  Non-Parametric  Fail to Reject H0   0.0509  A/B groups are similar!"
      ]
     },
     "execution_count": 115,
     "metadata": {},
     "output_type": "execute_result"
    }
   ],
   "source": [
    "# A/B Testing Function - Quick Solution\n",
    "def AB_Test(dataframe, group, target):\n",
    "    \n",
    "    # Packages\n",
    "    from scipy.stats import shapiro\n",
    "    import scipy.stats as stats\n",
    "    \n",
    "    # Split A/B\n",
    "    groupA = dataframe[dataframe[group] == \"A\"][target]\n",
    "    groupB = dataframe[dataframe[group] == \"B\"][target]\n",
    "    \n",
    "    # Assumption: Normality\n",
    "    ntA = shapiro(groupA)[1] < 0.05\n",
    "    ntB = shapiro(groupB)[1] < 0.05\n",
    "    # H0: Distribution is Normal! - False\n",
    "    # H1: Distribution is not Normal! - True\n",
    "    \n",
    "    if (ntA == False) & (ntB == False): # \"H0: Normal Distribution\"\n",
    "        # Parametric Test\n",
    "        # Assumption: Homogeneity of variances\n",
    "        leveneTest = stats.levene(groupA, groupB)[1] < 0.05\n",
    "        # H0: Homogeneity: False\n",
    "        # H1: Heterogeneous: True\n",
    "        \n",
    "        if leveneTest == False:\n",
    "            # Homogeneity\n",
    "            ttest = stats.ttest_ind(groupA, groupB, equal_var=True)[1]\n",
    "            # H0: M1 == M2 - False\n",
    "            # H1: M1 != M2 - True\n",
    "        else:\n",
    "            # Heterogeneous\n",
    "            ttest = stats.ttest_ind(groupA, groupB, equal_var=False)[1]\n",
    "            # H0: M1 == M2 - False\n",
    "            # H1: M1 != M2 - True\n",
    "    else:\n",
    "        # Non-Parametric Test\n",
    "        ttest = stats.mannwhitneyu(groupA, groupB)[1] \n",
    "        # H0: M1 == M2 - False\n",
    "        # H1: M1 != M2 - True\n",
    "        \n",
    "    # Result\n",
    "    temp = pd.DataFrame({\n",
    "        \"AB Hypothesis\":[ttest < 0.05], \n",
    "        \"p-value\":[ttest]\n",
    "    })\n",
    "    temp[\"Test Type\"] = np.where((ntA == False) & (ntB == False), \"Parametric\", \"Non-Parametric\")\n",
    "    temp[\"AB Hypothesis\"] = np.where(temp[\"AB Hypothesis\"] == False, \"Fail to Reject H0\", \"Reject H0\")\n",
    "    temp[\"Comment\"] = np.where(temp[\"AB Hypothesis\"] == \"Fail to Reject H0\", \"A/B groups are similar!\", \"A/B groups are not similar!\")\n",
    "    \n",
    "    # Columns\n",
    "    if (ntA == False) & (ntB == False):\n",
    "        temp[\"Homogeneity\"] = np.where(leveneTest == False, \"Yes\", \"No\")\n",
    "        temp = temp[[\"Test Type\", \"Homogeneity\",\"AB Hypothesis\", \"p-value\", \"Comment\"]]\n",
    "    else:\n",
    "        temp = temp[[\"Test Type\",\"AB Hypothesis\", \"p-value\", \"Comment\"]]\n",
    "    \n",
    "    # Print Hypothesis\n",
    "    print(\"# A/B Testing Hypothesis\")\n",
    "    print(\"H0: A == B\")\n",
    "    print(\"H1: A != B\", \"\\n\")\n",
    "    \n",
    "    return temp\n",
    "    \n",
    "    \n",
    "    \n",
    "# Apply A/B Testing\n",
    "AB_Test(dataframe=ab, group = \"version\", target = \"sum_gamerounds\")\n"
   ]
  },
  {
   "cell_type": "code",
   "execution_count": 123,
   "id": "df6ceee9",
   "metadata": {},
   "outputs": [
    {
     "data": {
      "text/plain": [
       "(version\n",
       " A   0.4482\n",
       " B   0.4423\n",
       " Name: retention_1, dtype: float64,\n",
       " version\n",
       " A   0.1902\n",
       " B   0.1820\n",
       " Name: retention_7, dtype: float64)"
      ]
     },
     "execution_count": 123,
     "metadata": {},
     "output_type": "execute_result"
    }
   ],
   "source": [
    "ab.groupby(\"version\").retention_1.mean(), ab.groupby(\"version\").retention_7.mean()"
   ]
  },
  {
   "cell_type": "code",
   "execution_count": null,
   "id": "cc819298",
   "metadata": {},
   "outputs": [],
   "source": [
    "# A/B Testing Function - Quick Solution\n",
    "def AB_Test(dataframe, group, target):\n",
    "    \n",
    "    # Packages\n",
    "    from scipy.stats import shapiro\n",
    "    import scipy.stats as stats\n",
    "    \n",
    "    # Split A/B\n",
    "    groupA = dataframe[dataframe[group] == \"A\"][target]\n",
    "    groupB = dataframe[dataframe[group] == \"B\"][target]\n",
    "    \n",
    "    # Assumption: Normality\n",
    "    ntA = shapiro(groupA)[1] < 0.05\n",
    "    ntB = shapiro(groupB)[1] < 0.05\n",
    "    # H0: Distribution is Normal! - False\n",
    "    # H1: Distribution is not Normal! - True\n",
    "    \n",
    "    if (ntA == False) & (ntB == False): # \"H0: Normal Distribution\"\n",
    "        # Parametric Test\n",
    "        # Assumption: Homogeneity of variances\n",
    "        leveneTest = stats.levene(groupA, groupB)[1] < 0.05\n",
    "        # H0: Homogeneity: False\n",
    "        # H1: Heterogeneous: True\n",
    "        \n",
    "        if leveneTest == False:\n",
    "            # Homogeneity\n",
    "            ttest = stats.ttest_ind(groupA, groupB, equal_var=True)[1]\n",
    "            # H0: M1 == M2 - False\n",
    "            # H1: M1 != M2 - True\n",
    "        else:\n",
    "            # Heterogeneous\n",
    "            ttest = stats.ttest_ind(groupA, groupB, equal_var=False)[1]\n",
    "            # H0: M1 == M2 - False\n",
    "            # H1: M1 != M2 - True\n",
    "    else:\n",
    "        # Non-Parametric Test\n",
    "        ttest = stats.mannwhitneyu(groupA, groupB)[1] \n",
    "        # H0: M1 == M2 - False\n",
    "        # H1: M1 != M2 - True\n",
    "        \n",
    "    # Result\n",
    "    temp = pd.DataFrame({\n",
    "        \"AB Hypothesis\":[ttest < 0.05], \n",
    "        \"p-value\":[ttest]\n",
    "    })\n",
    "    temp[\"Test Type\"] = np.where((ntA == False) & (ntB == False), \"Parametric\", \"Non-Parametric\")\n",
    "    temp[\"AB Hypothesis\"] = np.where(temp[\"AB Hypothesis\"] == False, \"Fail to Reject H0\", \"Reject H0\")\n",
    "    temp[\"Comment\"] = np.where(temp[\"AB Hypothesis\"] == \"Fail to Reject H0\", \"A/B groups are similar!\", \"A/B groups are not similar!\")\n",
    "    \n",
    "    # Columns\n",
    "    if (ntA == False) & (ntB == False):\n",
    "        temp[\"Homogeneity\"] = np.where(leveneTest == False, \"Yes\", \"No\")\n",
    "        temp = temp[[\"Test Type\", \"Homogeneity\",\"AB Hypothesis\", \"p-value\", \"Comment\"]]\n",
    "    else:\n",
    "        temp = temp[[\"Test Type\",\"AB Hypothesis\", \"p-value\", \"Comment\"]]\n",
    "    \n",
    "    # Print Hypothesis\n",
    "    print(\"# A/B Testing Hypothesis\")\n",
    "    print(\"H0: A == B\")\n",
    "    print(\"H1: A != B\", \"\\n\")\n",
    "    \n",
    "    return temp\n",
    "    \n",
    "    \n",
    "    \n",
    "# Apply A/B Testing\n",
    "AB_Test(dataframe=ab, group = \"version\", target = \"sum_gamerounds\")"
   ]
  },
  {
   "cell_type": "code",
   "execution_count": 116,
   "id": "bec24167",
   "metadata": {},
   "outputs": [
    {
     "name": "stdout",
     "output_type": "stream",
     "text": [
      "True\n",
      "True\n"
     ]
    }
   ],
   "source": [
    "groupA = ab[ab[\"version\"] == \"A\"][\"sum_gamerounds\"]\n",
    "groupB = ab[ab[\"version\"] == \"B\"][\"sum_gamerounds\"]\n",
    "\n",
    "ntA = shapiro(groupA)[1] < 0.05\n",
    "ntB = shapiro(groupB)[1] < 0.05\n",
    "print(ntA)\n",
    "print(ntB)"
   ]
  },
  {
   "cell_type": "code",
   "execution_count": 119,
   "id": "7be836a1",
   "metadata": {},
   "outputs": [
    {
     "data": {
      "text/plain": [
       "0.05089155279145376"
      ]
     },
     "execution_count": 119,
     "metadata": {},
     "output_type": "execute_result"
    }
   ],
   "source": [
    "if (ntA == False) & (ntB == False): # \"H0: Normal Distribution\"\n",
    "        # Parametric Test\n",
    "        # Assumption: Homogeneity of variances\n",
    "        leveneTest = stats.levene(groupA, groupB)[1] < 0.05\n",
    "        # H0: Homogeneity: False\n",
    "        # H1: Heterogeneous: True\n",
    "        \n",
    "        if leveneTest == False:\n",
    "            # Homogeneity\n",
    "            ttest = stats.ttest_ind(groupA, groupB, equal_var=True)[1]\n",
    "            # H0: M1 == M2 - False\n",
    "            # H1: M1 != M2 - True\n",
    "        else:\n",
    "            # Heterogeneous\n",
    "            ttest = stats.ttest_ind(groupA, groupB, equal_var=False)[1]\n",
    "            # H0: M1 == M2 - False\n",
    "            # H1: M1 != M2 - True\n",
    "else:\n",
    "    # Non-Parametric Test\n",
    "    ttest = stats.mannwhitneyu(groupA, groupB)[1] \n",
    "    # H0: M1 == M2 - False\n",
    "    # H1: M1 != M2 - True\n",
    "        \n",
    "ttest"
   ]
  },
  {
   "cell_type": "code",
   "execution_count": 121,
   "id": "1bb1f8b1",
   "metadata": {},
   "outputs": [
    {
     "data": {
      "text/plain": [
       "LeveneResult(statistic=0.07510153837481241, pvalue=0.7840494387892463)"
      ]
     },
     "execution_count": 121,
     "metadata": {},
     "output_type": "execute_result"
    }
   ],
   "source": [
    "stats.levene(groupA, groupB)"
   ]
  },
  {
   "cell_type": "code",
   "execution_count": 122,
   "id": "a7826921",
   "metadata": {},
   "outputs": [
    {
     "data": {
      "text/plain": [
       "0.9494739458256001"
      ]
     },
     "execution_count": 122,
     "metadata": {},
     "output_type": "execute_result"
    }
   ],
   "source": [
    "stats.ttest_ind(groupA, groupB, equal_var=True)[1]"
   ]
  },
  {
   "cell_type": "code",
   "execution_count": null,
   "id": "89b2c9ec",
   "metadata": {},
   "outputs": [],
   "source": []
  }
 ],
 "metadata": {
  "kernelspec": {
   "display_name": "Python 3 (ipykernel)",
   "language": "python",
   "name": "python3"
  },
  "language_info": {
   "codemirror_mode": {
    "name": "ipython",
    "version": 3
   },
   "file_extension": ".py",
   "mimetype": "text/x-python",
   "name": "python",
   "nbconvert_exporter": "python",
   "pygments_lexer": "ipython3",
   "version": "3.9.7"
  }
 },
 "nbformat": 4,
 "nbformat_minor": 5
}
