{
 "cells": [
  {
   "cell_type": "markdown",
   "id": "9e0ed7be",
   "metadata": {},
   "source": [
    "# 충치 이미지 구분 프로젝트"
   ]
  },
  {
   "cell_type": "markdown",
   "id": "04d4a9f1",
   "metadata": {},
   "source": [
    "### 사용 패키지"
   ]
  },
  {
   "cell_type": "code",
   "execution_count": 3,
   "id": "4f92d309",
   "metadata": {},
   "outputs": [],
   "source": [
    "import pandas as pd\n",
    "from bs4 import BeautifulSoup\n",
    "from selenium import webdriver #동적 웹페이지 패키지\n",
    "from selenium.webdriver.common.keys import Keys # 동적 웹페이지 스크롤 패키지\n",
    "import time # 동적 웹페이지 시간 지연 설정 패키지\n",
    "from selenium.webdriver.common.by import By #동적 웹페이지 By 클래스\n",
    "import urllib.request as req # 웹페이지 사진 다운로드\n",
    "from pandas import DataFrame, Series\n",
    "import os #폴더 생성 패키지\n",
    "from PIL import Image #사진 불러오기\n",
    "from tensorflow.keras.layers import Input, Flatten, Dense #CNN 사진 학습\n",
    "from tensorflow.keras.models import Model, Sequential #CNN 사진 학습\n",
    "from sklearn.model_selection import train_test_split #train, test 데이터셋 분리"
   ]
  },
  {
   "cell_type": "markdown",
   "id": "a36f7ee1",
   "metadata": {},
   "source": [
    "### 충치사진 스크래핑을 통해 수집 (구글)"
   ]
  },
  {
   "cell_type": "code",
   "execution_count": 2,
   "id": "61db5ed3",
   "metadata": {},
   "outputs": [],
   "source": [
    "url1='https://www.google.com/search?q='\n",
    "url2='&source=lnms&tbm=isch&sa=X'\n",
    "lst = ['충치','충치 사진','유아 충치','dental caries'] #충치 한글, 영문으로 검색"
   ]
  },
  {
   "cell_type": "code",
   "execution_count": null,
   "id": "635ac5e3",
   "metadata": {},
   "outputs": [],
   "source": [
    "driver = webdriver.Chrome('c:/data_bigdata/chromedriver.exe')\n",
    "for j in lst:\n",
    "    pic_link=[]\n",
    "    driver.get(url1+j+url2) # 충치 이미지 주소로 이동\n",
    "    # 스크롤 페이지 최하단까지 내리기\n",
    "    for i in range(10): # 스크롤 후 결과 더보기가 뜨면 클릭\n",
    "        driver.find_element(By.TAG_NAME,'body').send_keys(Keys.END)\n",
    "        time.sleep(1)\n",
    "        try: \n",
    "            driver.find_element(By.CLASS_NAME,'r0zKGf').click()   \n",
    "            time.sleep(1)\n",
    "        except:\n",
    "            try:\n",
    "                driver.find_element(By.CLASS_NAME,'YstHxe').click()\n",
    "                time.sleep(1)\n",
    "            except:\n",
    "                pass\n",
    "    html = driver.page_source # 현재 페이지 소스 변수 저장\n",
    "    soup = BeautifulSoup(html, 'html.parser') # 페이지 소스 beautiful soup 변수 저장\n",
    "    for i in soup.select_one('div.OcgH4b').select('img'):\n",
    "        try: #사진 저장(2가지attrs에 저장되어 try문 사용)\n",
    "            pic_link.append(i.attrs['src'])\n",
    "        except:\n",
    "            try:\n",
    "                pic_link.append(i.attrs['data-src'])\n",
    "            except:\n",
    "                pass\n",
    "   \n",
    "    # 사진 다운로드\n",
    "    for i in range(len(pic_link)):\n",
    "        path = 'c:/data_bigdata/dental_caries/pic/dental_caries/'\n",
    "        if not os.path.isdir(path): #폴더가 존재하지 않는다면 폴더 생성\n",
    "            os.makedirs(path)\n",
    "        try:\n",
    "            req.urlretrieve(pic_link[i],path+f'충치_{i}.jpg')\n",
    "        except:\n",
    "            pass\n",
    "\n",
    "driver.close()"
   ]
  },
  {
   "cell_type": "markdown",
   "id": "de2c9bc5",
   "metadata": {},
   "source": [
    "#### 수집된 데이터를 수기로 구분하여 정제함\n",
    "정제 후 파일 이름 공통되게 수정"
   ]
  },
  {
   "cell_type": "code",
   "execution_count": null,
   "id": "70cdde78",
   "metadata": {},
   "outputs": [],
   "source": [
    "path = \"c:/data_bigdata/dental_caries/pic/dental_caries/\"\n",
    "files = os.listdir(path)\n",
    "for index, file in enumerate(files):\n",
    "    os.rename(path+file, path +'detal_caries_' + str(index)+ '.jpg')"
   ]
  },
  {
   "cell_type": "markdown",
   "id": "66af5e22",
   "metadata": {},
   "source": [
    "### 수집된 사진으로 모델 학습"
   ]
  },
  {
   "cell_type": "code",
   "execution_count": null,
   "id": "ce242ea7",
   "metadata": {},
   "outputs": [],
   "source": [
    "pic_dir = 'c:/data_bigdata/dental_caries/pic_total/'\n",
    "categories = ['caires','no_caries']\n"
   ]
  }
 ],
 "metadata": {
  "kernelspec": {
   "display_name": "Python 3 (ipykernel)",
   "language": "python",
   "name": "python3"
  },
  "language_info": {
   "codemirror_mode": {
    "name": "ipython",
    "version": 3
   },
   "file_extension": ".py",
   "mimetype": "text/x-python",
   "name": "python",
   "nbconvert_exporter": "python",
   "pygments_lexer": "ipython3",
   "version": "3.9.7"
  }
 },
 "nbformat": 4,
 "nbformat_minor": 5
}
