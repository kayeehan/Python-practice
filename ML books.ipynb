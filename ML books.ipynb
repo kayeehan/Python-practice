{
 "cells": [
  {
   "cell_type": "markdown",
   "id": "048f0916",
   "metadata": {},
   "source": [
    "# 지도학습 (Supervised learning)\n",
    "- 라벨링이 된 데이터를 학습시키는 것을 의미\n",
    "- 타깃의 형태에 따라 세부적으로 두 가지 종류로 나눌 수 있음.\n",
    " * 타깃=범주형 : 분류(Classification)\n",
    " * 타깃=연속형 : 회귀(Regression)"
   ]
  },
  {
   "cell_type": "markdown",
   "id": "a6281ea1",
   "metadata": {},
   "source": [
    "## KNN\n",
    "- 비교 대상이 되는 데이터 포인트 주변에 가장 가까이 존재하는 k개의 데이터와 비교해 가장 가까운 데이터 종류로 판별.    \n",
    "- 타깃이 연속형 숫자라면 주변 k개의 데이터의 평균값으로 예측하는 방법을 사용.\n",
    "- 게으른 학습(Lazy learning) : 트레이닝 데이터 전체를 메모리상에 보관하면서 테스트 데이터가 새로 들어왔을 때 바로 학습하는 것을 의미함.    \n",
    " - 장점:추가적인 학습시간 없이 곧바로 학습 결과를 얻을 수 있음.    \n",
    " - 단점:예측 시 메모리상에 학습용 데이터를 항상 보관하고 있어야 하므로 메모리 용량보다 데이터가 지나치게 큼."
   ]
  },
  {
   "cell_type": "markdown",
   "id": "d30b8b4f",
   "metadata": {},
   "source": [
    "__데이터 불러오기. 피처와 타깃 데이터 지정하기__"
   ]
  },
  {
   "cell_type": "code",
   "execution_count": 50,
   "id": "a3e1c691",
   "metadata": {},
   "outputs": [],
   "source": [
    "from sklearn import datasets\n",
    "raw_iris=datasets.load_iris() #꽃 분류\n",
    "X = raw_iris.data\n",
    "y = raw_iris.target"
   ]
  },
  {
   "cell_type": "markdown",
   "id": "11c0813d",
   "metadata": {},
   "source": [
    "__트레이닝, 테스트 데이터 분할__"
   ]
  },
  {
   "cell_type": "code",
   "execution_count": 4,
   "id": "06714ec5",
   "metadata": {},
   "outputs": [],
   "source": [
    "from sklearn.model_selection import train_test_split\n",
    "X_tn, X_te, y_tn, y_te = train_test_split(X,y,random_state=0) #random seed 정하기"
   ]
  },
  {
   "cell_type": "markdown",
   "id": "8f549e0c",
   "metadata": {},
   "source": [
    "__데이터 표준화__"
   ]
  },
  {
   "cell_type": "code",
   "execution_count": 6,
   "id": "df7b54f2",
   "metadata": {},
   "outputs": [],
   "source": [
    "from sklearn.preprocessing import StandardScaler\n",
    "std_scale = StandardScaler()\n",
    "std_scale.fit(X_tn)\n",
    "X_tn_std = std_scale.transform(X_tn)\n",
    "X_te_std = std_scale.transform(X_te)"
   ]
  },
  {
   "cell_type": "markdown",
   "id": "d58b1f4b",
   "metadata": {},
   "source": [
    "__데이터 학습__"
   ]
  },
  {
   "cell_type": "code",
   "execution_count": 16,
   "id": "187c218e",
   "metadata": {},
   "outputs": [
    {
     "data": {
      "text/plain": [
       "KNeighborsClassifier(n_neighbors=2)"
      ]
     },
     "execution_count": 16,
     "metadata": {},
     "output_type": "execute_result"
    }
   ],
   "source": [
    "from sklearn.neighbors import KNeighborsClassifier\n",
    "clf_knn = KNeighborsClassifier(n_neighbors=2)\n",
    "clf_knn.fit(X_tn_std,y_tn)"
   ]
  },
  {
   "cell_type": "markdown",
   "id": "e9040587",
   "metadata": {},
   "source": [
    "__데이터 예측__"
   ]
  },
  {
   "cell_type": "code",
   "execution_count": 17,
   "id": "026feb0a",
   "metadata": {},
   "outputs": [
    {
     "name": "stdout",
     "output_type": "stream",
     "text": [
      "[2 1 0 2 0 2 0 1 1 1 1 1 1 1 1 0 1 1 0 0 2 1 0 0 2 0 0 1 1 0 2 1 0 2 2 1 0\n",
      " 2]\n"
     ]
    }
   ],
   "source": [
    "knn_pred = clf_knn.predict(X_te_std)\n",
    "print(knn_pred)"
   ]
  },
  {
   "cell_type": "markdown",
   "id": "84047983",
   "metadata": {},
   "source": [
    "__정확도 평가__"
   ]
  },
  {
   "cell_type": "code",
   "execution_count": 18,
   "id": "b931cbe0",
   "metadata": {},
   "outputs": [
    {
     "name": "stdout",
     "output_type": "stream",
     "text": [
      "0.9473684210526315\n"
     ]
    }
   ],
   "source": [
    "from sklearn.metrics import accuracy_score\n",
    "accuracy = accuracy_score(y_te,knn_pred)\n",
    "print(accuracy)"
   ]
  },
  {
   "cell_type": "markdown",
   "id": "67ec2f86",
   "metadata": {},
   "source": [
    "__confusion matrix 확인__"
   ]
  },
  {
   "cell_type": "code",
   "execution_count": 19,
   "id": "15fe2d5e",
   "metadata": {},
   "outputs": [
    {
     "name": "stdout",
     "output_type": "stream",
     "text": [
      "[[13  0  0]\n",
      " [ 0 15  1]\n",
      " [ 0  1  8]]\n"
     ]
    }
   ],
   "source": [
    "from sklearn.metrics import confusion_matrix\n",
    "conf_matrix = confusion_matrix(y_te,knn_pred)\n",
    "print(conf_matrix)"
   ]
  },
  {
   "cell_type": "markdown",
   "id": "fe5326b6",
   "metadata": {},
   "source": [
    "__분류 리포트 확인__"
   ]
  },
  {
   "cell_type": "code",
   "execution_count": 20,
   "id": "bcd696b2",
   "metadata": {},
   "outputs": [
    {
     "name": "stdout",
     "output_type": "stream",
     "text": [
      "              precision    recall  f1-score   support\n",
      "\n",
      "           0       1.00      1.00      1.00        13\n",
      "           1       0.94      0.94      0.94        16\n",
      "           2       0.89      0.89      0.89         9\n",
      "\n",
      "    accuracy                           0.95        38\n",
      "   macro avg       0.94      0.94      0.94        38\n",
      "weighted avg       0.95      0.95      0.95        38\n",
      "\n"
     ]
    }
   ],
   "source": [
    "from sklearn.metrics import classification_report\n",
    "class_report = classification_report(y_te,knn_pred)\n",
    "print(class_report)"
   ]
  },
  {
   "cell_type": "markdown",
   "id": "67e65274",
   "metadata": {},
   "source": [
    "## 선형 회귀 분석(linear regression)\n",
    "- Lasso 회귀분석(L1제약식)\n",
    "- Ridge 회귀분석(L2제약식)\n",
    "- Elastic net(L1제약식 + L2제약식)"
   ]
  },
  {
   "cell_type": "markdown",
   "id": "37d13dbe",
   "metadata": {},
   "source": [
    "__데이터 불러오기. 피처와 타깃 데이터 지정하기__"
   ]
  },
  {
   "cell_type": "code",
   "execution_count": 25,
   "id": "a5f227d2",
   "metadata": {},
   "outputs": [],
   "source": [
    "from sklearn import datasets\n",
    "raw_boston = datasets.load_boston() #집값 예측\n",
    "X = raw_boston.data\n",
    "y = raw_boston.target"
   ]
  },
  {
   "cell_type": "markdown",
   "id": "72e25ade",
   "metadata": {},
   "source": [
    "__데이터 분할 및 표준화__"
   ]
  },
  {
   "cell_type": "code",
   "execution_count": 27,
   "id": "b7c52e7a",
   "metadata": {},
   "outputs": [],
   "source": [
    "from sklearn.model_selection import train_test_split\n",
    "X_tn, X_te, y_tn, y_te = train_test_split(X,y,random_state=1)\n",
    "\n",
    "from sklearn.preprocessing import StandardScaler\n",
    "std_scale = StandardScaler()\n",
    "std_scale.fit(X_tn)\n",
    "X_tn_std = std_scale.transform(X_tn)\n",
    "X_te_std = std_scale.transform(X_te)"
   ]
  },
  {
   "cell_type": "markdown",
   "id": "8f8d842d",
   "metadata": {},
   "source": [
    "__데이터학습 (선형회귀분석)__"
   ]
  },
  {
   "cell_type": "code",
   "execution_count": 29,
   "id": "b9e805a3",
   "metadata": {},
   "outputs": [
    {
     "name": "stdout",
     "output_type": "stream",
     "text": [
      "[-1.07145146  1.34036243  0.26298069  0.66554537 -2.49842551  1.97524314\n",
      "  0.19516605 -3.14274974  2.66736136 -1.80685572 -2.13034748  0.56172933\n",
      " -4.03223518]\n",
      "22.344591029023768\n"
     ]
    }
   ],
   "source": [
    "from sklearn.linear_model import LinearRegression\n",
    "clf_lr = LinearRegression()\n",
    "clf_lr.fit(X_tn_std,y_tn)\n",
    "print(clf_lr.coef_)\n",
    "print(clf_lr.intercept_)"
   ]
  },
  {
   "cell_type": "markdown",
   "id": "b802c3c9",
   "metadata": {},
   "source": [
    "__데이터 학습 (L2 제약식 적용, 릿지 회귀분석)__"
   ]
  },
  {
   "cell_type": "code",
   "execution_count": 31,
   "id": "40ce8f84",
   "metadata": {},
   "outputs": [
    {
     "name": "stdout",
     "output_type": "stream",
     "text": [
      "[-1.05933451  1.31050717  0.23022789  0.66955241 -2.45607567  1.99086611\n",
      "  0.18119169 -3.09919804  2.56480813 -1.71116799 -2.12002592  0.56264409\n",
      " -4.00942448]\n",
      "22.344591029023768\n"
     ]
    }
   ],
   "source": [
    "from sklearn.linear_model import Ridge\n",
    "clf_ridge = Ridge(alpha=1)\n",
    "clf_ridge.fit(X_tn_std,y_tn)\n",
    "print(clf_ridge.coef_)\n",
    "print(clf_ridge.intercept_)"
   ]
  },
  {
   "cell_type": "markdown",
   "id": "37d9f54a",
   "metadata": {},
   "source": [
    "__데이터 학습 (L1 제약식 적용, 라쏘 회귀분석)__"
   ]
  },
  {
   "cell_type": "code",
   "execution_count": 32,
   "id": "de5cdbc0",
   "metadata": {},
   "outputs": [
    {
     "name": "stdout",
     "output_type": "stream",
     "text": [
      "[-1.04326518  1.27752711  0.1674367   0.66758228 -2.41559964  1.99244179\n",
      "  0.14733958 -3.09473711  2.46431135 -1.60552274 -2.11046422  0.55200229\n",
      " -4.00809905]\n",
      "22.344591029023768\n"
     ]
    }
   ],
   "source": [
    "from sklearn.linear_model import Lasso\n",
    "clf_lasso = Lasso(alpha=0.01)\n",
    "clf_lasso.fit(X_tn_std,y_tn)\n",
    "print(clf_lasso.coef_)\n",
    "print(clf_lasso.intercept_)"
   ]
  },
  {
   "cell_type": "markdown",
   "id": "ec6c80b7",
   "metadata": {},
   "source": [
    "__데이터 학습 (엘라스틱 넷)__"
   ]
  },
  {
   "cell_type": "code",
   "execution_count": 33,
   "id": "ac1b926d",
   "metadata": {},
   "outputs": [
    {
     "name": "stdout",
     "output_type": "stream",
     "text": [
      "[-1.02916603  1.23681955  0.15236504  0.67859622 -2.34646781  2.02965524\n",
      "  0.14575132 -2.98592423  2.32013379 -1.48829485 -2.09271972  0.56506801\n",
      " -3.9495281 ]\n",
      "22.344591029023768\n"
     ]
    }
   ],
   "source": [
    "from sklearn.linear_model import ElasticNet\n",
    "clf_elastic = ElasticNet(alpha=0.01,l1_ratio=0.01)\n",
    "clf_elastic.fit(X_tn_std,y_tn)\n",
    "print(clf_elastic.coef_)\n",
    "print(clf_elastic.intercept_)"
   ]
  },
  {
   "cell_type": "markdown",
   "id": "72b61665",
   "metadata": {},
   "source": [
    "__데이터 예측__"
   ]
  },
  {
   "cell_type": "code",
   "execution_count": 34,
   "id": "702c92ac",
   "metadata": {},
   "outputs": [],
   "source": [
    "pred_lr = clf_lr.predict(X_te_std)\n",
    "pred_ridge = clf_ridge.predict(X_te_std)\n",
    "pred_lasso = clf_lasso.predict(X_te_std)\n",
    "pred_elastic = clf_elastic.predict(X_te_std)"
   ]
  },
  {
   "cell_type": "markdown",
   "id": "c60f5f9d",
   "metadata": {},
   "source": [
    "__모형 평가 - R 제곱값__"
   ]
  },
  {
   "cell_type": "code",
   "execution_count": 36,
   "id": "3ca47ca4",
   "metadata": {},
   "outputs": [
    {
     "name": "stdout",
     "output_type": "stream",
     "text": [
      "0.7789410172622856\n",
      "0.7789704562726605\n",
      "0.7787621490259894\n",
      "0.7787876079239251\n"
     ]
    }
   ],
   "source": [
    "from sklearn.metrics import r2_score\n",
    "print(r2_score(y_te,pred_lr))\n",
    "print(r2_score(y_te,pred_ridge))\n",
    "print(r2_score(y_te,pred_lasso))\n",
    "print(r2_score(y_te,pred_elastic))"
   ]
  },
  {
   "cell_type": "markdown",
   "id": "d43e9ea3",
   "metadata": {},
   "source": [
    "__모형 평가 - MSE__"
   ]
  },
  {
   "cell_type": "code",
   "execution_count": 37,
   "id": "796c7c50",
   "metadata": {},
   "outputs": [
    {
     "name": "stdout",
     "output_type": "stream",
     "text": [
      "21.897765396049508\n",
      "21.894849212618745\n",
      "21.91548381050483\n",
      "21.912961890936877\n"
     ]
    }
   ],
   "source": [
    "from sklearn.metrics import mean_squared_error\n",
    "print(mean_squared_error(y_te,pred_lr))\n",
    "print(mean_squared_error(y_te,pred_ridge))\n",
    "print(mean_squared_error(y_te,pred_lasso))\n",
    "print(mean_squared_error(y_te,pred_elastic))"
   ]
  },
  {
   "cell_type": "markdown",
   "id": "154f60a1",
   "metadata": {},
   "source": [
    "## 로지스틱 회귀분석\n",
    "* 분류하는 상황에 적합\n",
    "* __시그모이드 함수__ : 선형 회귀식을 0과 1사이의 값만 가지게 하는 함수"
   ]
  },
  {
   "cell_type": "markdown",
   "id": "b3e179e1",
   "metadata": {},
   "source": [
    "__데이터 불러오기 및 데이터 지정 및 분할__"
   ]
  },
  {
   "cell_type": "code",
   "execution_count": 38,
   "id": "a66caf77",
   "metadata": {},
   "outputs": [],
   "source": [
    "from sklearn import datasets\n",
    "raw_cancer = datasets.load_breast_cancer() #유방암 분류\n",
    "X = raw_cancer.data\n",
    "y = raw_cancer.target\n",
    "\n",
    "from sklearn.model_selection import train_test_split\n",
    "X_tn, X_te, y_tn, y_te = train_test_split(X,y,random_state=0)"
   ]
  },
  {
   "cell_type": "markdown",
   "id": "a9ba1a18",
   "metadata": {},
   "source": [
    "__데이터 표준화__"
   ]
  },
  {
   "cell_type": "code",
   "execution_count": 39,
   "id": "df1e6659",
   "metadata": {},
   "outputs": [],
   "source": [
    "from sklearn.preprocessing import StandardScaler\n",
    "std_scale = StandardScaler()\n",
    "std_scale.fit(X_tn)\n",
    "X_tn_std = std_scale.transform(X_tn)\n",
    "X_te_std = std_scale.transform(X_te)"
   ]
  },
  {
   "cell_type": "markdown",
   "id": "9a2bc26a",
   "metadata": {},
   "source": [
    "__데이터 학습 및 로지스틱 회귀분석 추정 계수__"
   ]
  },
  {
   "cell_type": "code",
   "execution_count": 40,
   "id": "06bcc723",
   "metadata": {},
   "outputs": [
    {
     "name": "stdout",
     "output_type": "stream",
     "text": [
      "[[-0.29792942 -0.58056355 -0.3109406  -0.377129   -0.11984232  0.42855478\n",
      "  -0.71131106 -0.85371164 -0.46688191  0.11762548 -1.38262136  0.0899184\n",
      "  -0.94778563 -0.94686238  0.18575731  0.99305313  0.11090349 -0.3458275\n",
      "   0.20290919  0.80470317 -0.91626377 -0.91726667 -0.8159834  -0.86539197\n",
      "  -0.45539191  0.10347391 -0.83009341 -0.98445173 -0.5920036  -0.61086989]]\n",
      "[0.02713751]\n"
     ]
    }
   ],
   "source": [
    "from sklearn.linear_model import LogisticRegression\n",
    "clf_logi_l2 = LogisticRegression(penalty='l2')\n",
    "clf_logi_l2.fit(X_tn_std,y_tn)\n",
    "\n",
    "print(clf_logi_l2.coef_)\n",
    "print(clf_logi_l2.intercept_)"
   ]
  },
  {
   "cell_type": "markdown",
   "id": "9f8c406e",
   "metadata": {},
   "source": [
    "__데이터 예측__"
   ]
  },
  {
   "cell_type": "code",
   "execution_count": 41,
   "id": "c2f7fedc",
   "metadata": {},
   "outputs": [
    {
     "name": "stdout",
     "output_type": "stream",
     "text": [
      "[0 1 1 1 1 1 1 1 1 1 1 1 1 0 1 0 1 0 0 0 0 0 1 1 0 1 1 0 1 0 1 0 1 0 1 0 1\n",
      " 0 1 0 0 1 0 1 1 0 1 1 1 0 0 0 0 1 1 1 1 1 1 0 0 0 1 1 0 1 0 0 0 1 1 0 1 0\n",
      " 0 1 1 1 1 1 0 0 0 1 0 1 1 1 0 0 1 0 0 0 1 1 0 1 1 1 1 1 1 1 0 1 0 1 1 1 1\n",
      " 0 0 1 1 1 1 1 1 1 1 1 1 1 0 1 1 1 1 1 0 1 1 1 1 1 0 0 0 1 1 1 0]\n"
     ]
    }
   ],
   "source": [
    "pred_logistic = clf_logi_l2.predict(X_te_std)\n",
    "print(pred_logistic)"
   ]
  },
  {
   "cell_type": "markdown",
   "id": "41ce9f95",
   "metadata": {},
   "source": [
    "__클래스 확률로 예측__"
   ]
  },
  {
   "cell_type": "code",
   "execution_count": 42,
   "id": "7f7dcae8",
   "metadata": {},
   "outputs": [
    {
     "name": "stdout",
     "output_type": "stream",
     "text": [
      "[[9.98638613e-01 1.36138656e-03]\n",
      " [3.95544804e-02 9.60445520e-01]\n",
      " [1.30896362e-03 9.98691036e-01]\n",
      " [1.24473354e-02 9.87552665e-01]\n",
      " [2.44132101e-04 9.99755868e-01]\n",
      " [4.50491513e-03 9.95495085e-01]\n",
      " [1.13985968e-04 9.99886014e-01]\n",
      " [1.82475894e-03 9.98175241e-01]\n",
      " [9.67965506e-05 9.99903203e-01]\n",
      " [1.75222878e-06 9.99998248e-01]\n",
      " [1.76572612e-01 8.23427388e-01]\n",
      " [8.24119135e-02 9.17588087e-01]\n",
      " [9.66067493e-06 9.99990339e-01]\n",
      " [5.39343196e-01 4.60656804e-01]\n",
      " [3.98187854e-01 6.01812146e-01]\n",
      " [9.95762760e-01 4.23724017e-03]\n",
      " [2.75612083e-03 9.97243879e-01]\n",
      " [9.99997097e-01 2.90271401e-06]\n",
      " [9.99926506e-01 7.34935682e-05]\n",
      " [9.99999997e-01 2.78313939e-09]\n",
      " [9.98738365e-01 1.26163489e-03]\n",
      " [9.81405399e-01 1.85946008e-02]\n",
      " [1.77902039e-02 9.82209796e-01]\n",
      " [9.65876713e-04 9.99034123e-01]\n",
      " [9.99464578e-01 5.35421808e-04]\n",
      " [6.73385015e-04 9.99326615e-01]\n",
      " [5.50833875e-05 9.99944917e-01]\n",
      " [9.69828919e-01 3.01710813e-02]\n",
      " [1.62119075e-03 9.98378809e-01]\n",
      " [9.99997821e-01 2.17867101e-06]\n",
      " [6.00571253e-05 9.99939943e-01]\n",
      " [9.99954808e-01 4.51921300e-05]\n",
      " [1.09252006e-01 8.90747994e-01]\n",
      " [9.97255978e-01 2.74402243e-03]\n",
      " [4.51047979e-06 9.99995490e-01]\n",
      " [9.97449456e-01 2.55054412e-03]\n",
      " [1.97830173e-02 9.80216983e-01]\n",
      " [9.99571529e-01 4.28470822e-04]\n",
      " [8.45566258e-03 9.91544337e-01]\n",
      " [9.99487912e-01 5.12087502e-04]\n",
      " [9.42409583e-01 5.75904174e-02]\n",
      " [8.34700429e-05 9.99916530e-01]\n",
      " [9.32505814e-01 6.74941855e-02]\n",
      " [8.11944408e-05 9.99918806e-01]\n",
      " [6.08911689e-02 9.39108831e-01]\n",
      " [9.99999999e-01 1.17373572e-09]\n",
      " [1.00967748e-06 9.99998990e-01]\n",
      " [1.48182234e-02 9.85181777e-01]\n",
      " [6.33630458e-04 9.99366370e-01]\n",
      " [9.99927519e-01 7.24813084e-05]\n",
      " [9.99989528e-01 1.04724511e-05]\n",
      " [8.04262948e-01 1.95737052e-01]\n",
      " [9.99965014e-01 3.49860375e-05]\n",
      " [1.36691079e-03 9.98633089e-01]\n",
      " [1.95330244e-03 9.98046698e-01]\n",
      " [5.74609838e-04 9.99425390e-01]\n",
      " [1.05063052e-03 9.98949369e-01]\n",
      " [7.96089471e-03 9.92039105e-01]\n",
      " [1.00288029e-02 9.89971197e-01]\n",
      " [9.99999999e-01 1.44073341e-09]\n",
      " [9.97609027e-01 2.39097260e-03]\n",
      " [9.99257870e-01 7.42129950e-04]\n",
      " [3.14309030e-05 9.99968569e-01]\n",
      " [4.40044150e-03 9.95599559e-01]\n",
      " [9.99897373e-01 1.02627439e-04]\n",
      " [1.52976144e-01 8.47023856e-01]\n",
      " [1.00000000e+00 2.39185116e-13]\n",
      " [9.99998777e-01 1.22317020e-06]\n",
      " [9.99999046e-01 9.53579837e-07]\n",
      " [7.96239235e-04 9.99203761e-01]\n",
      " [3.87033734e-01 6.12966266e-01]\n",
      " [9.99993469e-01 6.53125942e-06]\n",
      " [2.97085842e-03 9.97029142e-01]\n",
      " [8.09412134e-01 1.90587866e-01]\n",
      " [9.99996998e-01 3.00240009e-06]\n",
      " [1.75950117e-02 9.82404988e-01]\n",
      " [4.94325863e-05 9.99950567e-01]\n",
      " [3.51047770e-02 9.64895223e-01]\n",
      " [4.25841119e-04 9.99574159e-01]\n",
      " [2.09232609e-05 9.99979077e-01]\n",
      " [9.82374564e-01 1.76254356e-02]\n",
      " [1.00000000e+00 3.57855006e-10]\n",
      " [9.99988747e-01 1.12526453e-05]\n",
      " [5.94724730e-05 9.99940528e-01]\n",
      " [9.62731634e-01 3.72683662e-02]\n",
      " [1.69452548e-03 9.98305475e-01]\n",
      " [6.14966533e-05 9.99938503e-01]\n",
      " [6.36886875e-06 9.99993631e-01]\n",
      " [9.99902779e-01 9.72205364e-05]\n",
      " [1.00000000e+00 8.14423797e-11]\n",
      " [3.47458432e-05 9.99965254e-01]\n",
      " [5.53589378e-01 4.46410622e-01]\n",
      " [6.91462937e-01 3.08537063e-01]\n",
      " [9.99996851e-01 3.14924112e-06]\n",
      " [2.01951834e-03 9.97980482e-01]\n",
      " [2.39759190e-03 9.97602408e-01]\n",
      " [9.99999992e-01 7.92006333e-09]\n",
      " [1.03400237e-02 9.89659976e-01]\n",
      " [9.23218910e-03 9.90767811e-01]\n",
      " [9.80048490e-04 9.99019952e-01]\n",
      " [5.45753731e-09 9.99999995e-01]\n",
      " [3.09034901e-03 9.96909651e-01]\n",
      " [6.22819445e-03 9.93771806e-01]\n",
      " [1.49494565e-01 8.50505435e-01]\n",
      " [9.99994787e-01 5.21292981e-06]\n",
      " [6.02188244e-04 9.99397812e-01]\n",
      " [9.99995658e-01 4.34219020e-06]\n",
      " [9.49795077e-02 9.05020492e-01]\n",
      " [3.27428663e-01 6.72571337e-01]\n",
      " [1.72350019e-02 9.82764998e-01]\n",
      " [3.75686888e-02 9.62431311e-01]\n",
      " [9.99975711e-01 2.42887910e-05]\n",
      " [9.99911399e-01 8.86014791e-05]\n",
      " [8.65663331e-02 9.13433667e-01]\n",
      " [8.21398481e-04 9.99178602e-01]\n",
      " [2.45946373e-02 9.75405363e-01]\n",
      " [1.43898490e-01 8.56101510e-01]\n",
      " [1.58128486e-03 9.98418715e-01]\n",
      " [1.79682971e-02 9.82031703e-01]\n",
      " [1.18803803e-03 9.98811962e-01]\n",
      " [1.55728346e-02 9.84427165e-01]\n",
      " [1.43822197e-03 9.98561778e-01]\n",
      " [3.86829219e-01 6.13170781e-01]\n",
      " [2.65232841e-02 9.73476716e-01]\n",
      " [9.99999918e-01 8.17382381e-08]\n",
      " [1.28424726e-01 8.71575274e-01]\n",
      " [4.67709202e-01 5.32290798e-01]\n",
      " [2.58725940e-04 9.99741274e-01]\n",
      " [3.25269018e-05 9.99967473e-01]\n",
      " [4.00075207e-05 9.99959992e-01]\n",
      " [9.99901036e-01 9.89636008e-05]\n",
      " [1.27248974e-04 9.99872751e-01]\n",
      " [2.66411581e-04 9.99733588e-01]\n",
      " [2.13163719e-01 7.86836281e-01]\n",
      " [2.92511631e-02 9.70748837e-01]\n",
      " [2.37309476e-05 9.99976269e-01]\n",
      " [5.09465728e-01 4.90534272e-01]\n",
      " [6.17881971e-01 3.82118029e-01]\n",
      " [1.00000000e+00 1.46648090e-12]\n",
      " [8.41453252e-05 9.99915855e-01]\n",
      " [1.58701592e-03 9.98412984e-01]\n",
      " [1.26424968e-03 9.98735750e-01]\n",
      " [9.99999994e-01 5.81805301e-09]]\n"
     ]
    }
   ],
   "source": [
    "pred_proba = clf_logi_l2.predict_proba(X_te_std)\n",
    "print(pred_proba) #해당 클래스에 속할 확률. 두 가지 클래스이므로 결괏값이 두 개의 열로 이러어짐."
   ]
  },
  {
   "cell_type": "markdown",
   "id": "417886f4",
   "metadata": {},
   "source": [
    "__정밀도 평가__"
   ]
  },
  {
   "cell_type": "code",
   "execution_count": 45,
   "id": "6e186047",
   "metadata": {},
   "outputs": [
    {
     "name": "stdout",
     "output_type": "stream",
     "text": [
      "0.9666666666666667\n"
     ]
    }
   ],
   "source": [
    "from sklearn.metrics import precision_score\n",
    "precision = precision_score(y_te,pred_logistic)\n",
    "print(precision)"
   ]
  },
  {
   "cell_type": "markdown",
   "id": "d22a8fbd",
   "metadata": {},
   "source": [
    "__confusion matrix__"
   ]
  },
  {
   "cell_type": "code",
   "execution_count": 48,
   "id": "46d0b9a7",
   "metadata": {},
   "outputs": [
    {
     "name": "stdout",
     "output_type": "stream",
     "text": [
      "[[50  3]\n",
      " [ 3 87]]\n"
     ]
    }
   ],
   "source": [
    "from sklearn.metrics import confusion_matrix\n",
    "conf_matrix = confusion_matrix(y_te,pred_logistic)\n",
    "print(conf_matrix)"
   ]
  },
  {
   "cell_type": "markdown",
   "id": "46549de6",
   "metadata": {},
   "source": [
    "__분류 리포트 확인__"
   ]
  },
  {
   "cell_type": "code",
   "execution_count": 49,
   "id": "1debd304",
   "metadata": {},
   "outputs": [
    {
     "name": "stdout",
     "output_type": "stream",
     "text": [
      "              precision    recall  f1-score   support\n",
      "\n",
      "           0       0.94      0.94      0.94        53\n",
      "           1       0.97      0.97      0.97        90\n",
      "\n",
      "    accuracy                           0.96       143\n",
      "   macro avg       0.96      0.96      0.96       143\n",
      "weighted avg       0.96      0.96      0.96       143\n",
      "\n"
     ]
    }
   ],
   "source": [
    "from sklearn.metrics import classification_report\n",
    "class_report = classification_report(y_te,pred_logistic)\n",
    "print(class_report)"
   ]
  },
  {
   "cell_type": "markdown",
   "id": "c136ecac",
   "metadata": {},
   "source": [
    "## 나이브 베이즈"
   ]
  },
  {
   "cell_type": "markdown",
   "id": "9c828529",
   "metadata": {},
   "source": [
    "__데이터 불러오기 및 분할__"
   ]
  },
  {
   "cell_type": "code",
   "execution_count": 2,
   "id": "1a72c70e",
   "metadata": {},
   "outputs": [],
   "source": [
    "from sklearn import datasets\n",
    "from sklearn.model_selection import train_test_split\n",
    "raw_wine = datasets.load_wine()\n",
    "X = raw_wine.data\n",
    "y = raw_wine.target\n",
    "\n",
    "X_tn, X_te, y_tn, y_te = train_test_split(X,y,random_state=0)"
   ]
  },
  {
   "cell_type": "markdown",
   "id": "09c9fbe8",
   "metadata": {},
   "source": [
    "__데이터 표준화__"
   ]
  },
  {
   "cell_type": "code",
   "execution_count": 3,
   "id": "545e315e",
   "metadata": {},
   "outputs": [],
   "source": [
    "from sklearn.preprocessing import StandardScaler\n",
    "std_scale = StandardScaler()\n",
    "std_scale.fit(X_tn)\n",
    "X_tn_std = std_scale.transform(X_tn)\n",
    "X_te_std = std_scale.transform(X_te)"
   ]
  },
  {
   "cell_type": "markdown",
   "id": "63667d38",
   "metadata": {},
   "source": [
    "__데이터 학습__"
   ]
  },
  {
   "cell_type": "code",
   "execution_count": 5,
   "id": "2ba11781",
   "metadata": {},
   "outputs": [
    {
     "data": {
      "text/plain": [
       "GaussianNB()"
      ]
     },
     "execution_count": 5,
     "metadata": {},
     "output_type": "execute_result"
    }
   ],
   "source": [
    "from sklearn.naive_bayes import GaussianNB #설명변수가 연속형일때 가우시안 나이브베이즈 사용\n",
    "clf_gnb = GaussianNB()\n",
    "clf_gnb.fit(X_tn_std,y_tn)"
   ]
  },
  {
   "cell_type": "markdown",
   "id": "e450ab18",
   "metadata": {},
   "source": [
    "__데이터 예측__"
   ]
  },
  {
   "cell_type": "code",
   "execution_count": 6,
   "id": "901dfbe9",
   "metadata": {},
   "outputs": [
    {
     "name": "stdout",
     "output_type": "stream",
     "text": [
      "[0 2 1 0 1 1 0 2 1 1 2 2 0 0 2 1 0 0 2 0 0 0 0 1 1 1 1 1 1 2 0 0 1 0 0 0 2\n",
      " 1 1 2 0 0 1 1 1]\n"
     ]
    }
   ],
   "source": [
    "pred_gnb = clf_gnb.predict(X_te_std)\n",
    "print(pred_gnb)"
   ]
  },
  {
   "cell_type": "markdown",
   "id": "ac91cd48",
   "metadata": {},
   "source": [
    "__리콜 평가 및 confusion matrix 확인__"
   ]
  },
  {
   "cell_type": "code",
   "execution_count": 10,
   "id": "e381b5ff",
   "metadata": {},
   "outputs": [
    {
     "name": "stdout",
     "output_type": "stream",
     "text": [
      "recall score: 0.9523809523809524\n",
      "confusion matrix : \n",
      "[[16  0  0]\n",
      " [ 2 18  1]\n",
      " [ 0  0  8]]\n"
     ]
    }
   ],
   "source": [
    "from sklearn.metrics import recall_score, confusion_matrix\n",
    "recall = recall_score(y_te,pred_gnb,average='macro')\n",
    "print(f'recall score: {recall}')\n",
    "\n",
    "conf_matrix = confusion_matrix(y_te,pred_gnb)\n",
    "print(f'confusion matrix : \\n{conf_matrix}')"
   ]
  },
  {
   "cell_type": "markdown",
   "id": "ad6b0e01",
   "metadata": {},
   "source": [
    "__모델에 가중치 부여 후 재평가__"
   ]
  },
  {
   "cell_type": "code",
   "execution_count": 15,
   "id": "e31956d7",
   "metadata": {},
   "outputs": [
    {
     "name": "stdout",
     "output_type": "stream",
     "text": [
      "recall score: 0.9682539682539683\n",
      "confusion matrix : \n",
      "[[16  0  0]\n",
      " [ 1 19  1]\n",
      " [ 0  0  8]]\n"
     ]
    }
   ],
   "source": [
    "clf_gnb = GaussianNB(priors=[20/100,60/100,20/100])\n",
    "clf_gnb.fit(X_tn_std,y_tn)\n",
    "pred_gnb = clf_gnb.predict(X_te_std)\n",
    "\n",
    "recall = recall_score(y_te,pred_gnb,average='macro')\n",
    "print(f'recall score: {recall}')\n",
    "\n",
    "conf_matrix = confusion_matrix(y_te,pred_gnb)\n",
    "print(f'confusion matrix : \\n{conf_matrix}') #가중치 후 recall score 상승과 2번째 오답률 하락"
   ]
  },
  {
   "cell_type": "markdown",
   "id": "b16ec1a4",
   "metadata": {},
   "source": [
    "__분류 리포트 확인__"
   ]
  },
  {
   "cell_type": "code",
   "execution_count": 17,
   "id": "0a238305",
   "metadata": {},
   "outputs": [
    {
     "name": "stdout",
     "output_type": "stream",
     "text": [
      "              precision    recall  f1-score   support\n",
      "\n",
      "           0       0.94      1.00      0.97        16\n",
      "           1       1.00      0.90      0.95        21\n",
      "           2       0.89      1.00      0.94         8\n",
      "\n",
      "    accuracy                           0.96        45\n",
      "   macro avg       0.94      0.97      0.95        45\n",
      "weighted avg       0.96      0.96      0.96        45\n",
      "\n"
     ]
    }
   ],
   "source": [
    "from sklearn.metrics import classification_report\n",
    "class_report = classification_report(y_te,pred_gnb)\n",
    "print(class_report)"
   ]
  },
  {
   "cell_type": "markdown",
   "id": "cfdb2cdb",
   "metadata": {},
   "source": [
    "## 의사결정나무\n",
    "-범주형 자료의 데이터 분류\n",
    "#### 엔트로피\n",
    "-불순도의 정도를 측정(서로 다른 데이터가 얼마나 섞여 있는지)하며, 낮을수록 좋음.\n",
    "#### 지니계수\n",
    "-불순도의 정도를 측정(데이터 셋에서 랜덤으로 선택한 데이터에 임의로 라벨링을 정했을 때 틀릴 확률), 낮을수록 좋음.\n",
    "## 회귀나무\n",
    "-연속형 변수 자료의 데이터 분류"
   ]
  },
  {
   "cell_type": "code",
   "execution_count": 18,
   "id": "4257f1ed",
   "metadata": {},
   "outputs": [],
   "source": [
    "from sklearn import datasets\n",
    "from sklearn.model_selection import train_test_split\n",
    "raw_wine = datasets.load_wine()\n",
    "\n",
    "X = raw_wine.data\n",
    "y = raw_wine.target\n",
    "\n",
    "X_tn, X_te, y_tn, y_te = train_test_split(X,y,random_state=0)"
   ]
  },
  {
   "cell_type": "markdown",
   "id": "1aecfc3f",
   "metadata": {},
   "source": [
    "__데이터 표준화 및 학습__"
   ]
  },
  {
   "cell_type": "code",
   "execution_count": 19,
   "id": "20ce3986",
   "metadata": {},
   "outputs": [],
   "source": [
    "from sklearn.preprocessing import StandardScaler\n",
    "std_scaler = StandardScaler()\n",
    "std_scaler.fit(X_tn)\n",
    "X_tn_std = std_scaler.transform(X_tn)\n",
    "X_te_std = std_scaler.transform(X_te)"
   ]
  },
  {
   "cell_type": "code",
   "execution_count": 20,
   "id": "8340bbdd",
   "metadata": {},
   "outputs": [
    {
     "data": {
      "text/plain": [
       "DecisionTreeClassifier(random_state=0)"
      ]
     },
     "execution_count": 20,
     "metadata": {},
     "output_type": "execute_result"
    }
   ],
   "source": [
    "from sklearn import tree\n",
    "clf_tree = tree.DecisionTreeClassifier(random_state=0)\n",
    "clf_tree.fit(X_tn_std,y_tn)"
   ]
  },
  {
   "cell_type": "markdown",
   "id": "b0cbb5d9",
   "metadata": {},
   "source": [
    "__데이터 예측 및 평가__"
   ]
  },
  {
   "cell_type": "code",
   "execution_count": 21,
   "id": "89b3b509",
   "metadata": {},
   "outputs": [
    {
     "name": "stdout",
     "output_type": "stream",
     "text": [
      "[0 2 1 0 1 1 0 2 1 1 2 2 0 1 2 1 0 0 2 0 1 0 1 1 1 1 1 1 1 2 0 0 1 0 0 0 2\n",
      " 1 1 2 1 0 1 1 1]\n"
     ]
    }
   ],
   "source": [
    "pred_tree = clf_tree.predict(X_te_std)\n",
    "print(pred_tree)"
   ]
  },
  {
   "cell_type": "code",
   "execution_count": 22,
   "id": "99586fe3",
   "metadata": {},
   "outputs": [
    {
     "name": "stdout",
     "output_type": "stream",
     "text": [
      "f1 score:0.9349141206870346\n",
      "confusion matrix :\n",
      "[[14  2  0]\n",
      " [ 0 20  1]\n",
      " [ 0  0  8]]\n"
     ]
    }
   ],
   "source": [
    "#f1 score 평가\n",
    "from sklearn.metrics import f1_score\n",
    "f1 = f1_score(y_te,pred_tree,average='macro')\n",
    "print('f1 score:{}'.format(f1))\n",
    "\n",
    "#confusion_matrix 확인\n",
    "from sklearn.metrics import confusion_matrix\n",
    "conf_matrix = confusion_matrix(y_te,pred_tree)\n",
    "print('confusion matrix :\\n{}'.format(conf_matrix))"
   ]
  },
  {
   "cell_type": "code",
   "execution_count": 23,
   "id": "ae86a271",
   "metadata": {},
   "outputs": [
    {
     "name": "stdout",
     "output_type": "stream",
     "text": [
      "              precision    recall  f1-score   support\n",
      "\n",
      "           0       1.00      0.88      0.93        16\n",
      "           1       0.91      0.95      0.93        21\n",
      "           2       0.89      1.00      0.94         8\n",
      "\n",
      "    accuracy                           0.93        45\n",
      "   macro avg       0.93      0.94      0.93        45\n",
      "weighted avg       0.94      0.93      0.93        45\n",
      "\n"
     ]
    }
   ],
   "source": [
    "from sklearn.metrics import classification_report\n",
    "class_report = classification_report(y_te,pred_tree)\n",
    "print(class_report)"
   ]
  },
  {
   "cell_type": "markdown",
   "id": "3e3ae9b7",
   "metadata": {},
   "source": [
    "## 서포트 벡터 머신 SVC\n",
    "서포트 벡터를 기준으로 클래스를 판별.중심선과 경계선을 이용하여 구분하는데, 이 경계선을 서포트 벡터라고 함.    \n",
    "#### 소프트마진\n",
    "서포트 벡터 머신의 기준을 완화해 잘못 분류된 데이터를 어느 정도 허용하는 방법(슬랙 변수를 이용)\n",
    "#### 커널 서포트 벡터 머신\n",
    "피처 공간을 변경한 후 서포트 벡터 머신을 적용.(빳빳한 종이 -> 구부린 종이)\n",
    "#### 서포트 벡터 회귀\n",
    "서포트 벡터를 회귀 모형으로 만드는데 확용하는 방법. "
   ]
  },
  {
   "cell_type": "markdown",
   "id": "bd09a129",
   "metadata": {},
   "source": [
    "__데이터 불러오기 및 분할__"
   ]
  },
  {
   "cell_type": "code",
   "execution_count": 24,
   "id": "a50305bf",
   "metadata": {},
   "outputs": [],
   "source": [
    "from sklearn import datasets\n",
    "raw_wine = datasets.load_wine()\n",
    "X = raw_wine.data\n",
    "y = raw_wine.target\n",
    "\n",
    "from sklearn.model_selection import train_test_split\n",
    "X_tn, X_te, y_tn, y_te = train_test_split(X,y,random_state=0)"
   ]
  },
  {
   "cell_type": "markdown",
   "id": "7e429ef4",
   "metadata": {},
   "source": [
    "__데이터 표준화 및 학습__"
   ]
  },
  {
   "cell_type": "code",
   "execution_count": null,
   "id": "9a36a4bd",
   "metadata": {},
   "outputs": [],
   "source": [
    "from sklearn.preprocessing import StandardScaler\n"
   ]
  }
 ],
 "metadata": {
  "kernelspec": {
   "display_name": "Python 3 (ipykernel)",
   "language": "python",
   "name": "python3"
  },
  "language_info": {
   "codemirror_mode": {
    "name": "ipython",
    "version": 3
   },
   "file_extension": ".py",
   "mimetype": "text/x-python",
   "name": "python",
   "nbconvert_exporter": "python",
   "pygments_lexer": "ipython3",
   "version": "3.9.7"
  }
 },
 "nbformat": 4,
 "nbformat_minor": 5
}
