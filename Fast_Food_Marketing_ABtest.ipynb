{
 "cells": [
  {
   "cell_type": "markdown",
   "id": "5fa8028a",
   "metadata": {},
   "source": [
    "# Fast Food Marketing with A/B Testing\n",
    "\n",
    "### About this Dataset\n",
    "#### Scenario\n",
    "A fast-food chain plans to add a new item to its menu. However, they are still undecided between three possible marketing campaigns for promoting the new product. In order to determine which promotion has the greatest effect on sales, the new item is introduced at locations in several randomly selected markets. A different promotion is used at each location, and the weekly sales of the new item are recorded for the first four weeks.\n",
    "\n",
    "#### Goal    \n",
    "Evaluate A/B testing results and decide which marketing strategy works the best.\n",
    "\n",
    "#### Columns    \n",
    "* MarketID: unique identifier for market    \n",
    "* MarketSize: size of market area by sales    \n",
    "* LocationID: unique identifier for store location    \n",
    "* AgeOfStore: age of store in years      \n",
    "* Promotion: one of three promotions that were tested    \n",
    "* week: one of four weeks when the promotions were run    \n",
    "* SalesInThousands: sales amount for a specific LocationID, Promotion, and week    "
   ]
  },
  {
   "cell_type": "code",
   "execution_count": 138,
   "id": "6c85b83a",
   "metadata": {},
   "outputs": [],
   "source": [
    "from pandas import DataFrame, Series\n",
    "import pandas as pd\n",
    "import matplotlib.pylab as plt\n",
    "import seaborn as sns\n",
    "from collections import Counter\n",
    "from scipy.stats import ttest_1samp, shapiro, levene, f_oneway, kruskal"
   ]
  },
  {
   "cell_type": "code",
   "execution_count": 2,
   "id": "4a25d5a8",
   "metadata": {},
   "outputs": [],
   "source": [
    "data = pd.read_csv('c:/data/Fast_Food_Marketing/WA_Marketing-Campaign.csv')"
   ]
  },
  {
   "cell_type": "code",
   "execution_count": 3,
   "id": "526618c3",
   "metadata": {},
   "outputs": [
    {
     "data": {
      "text/html": [
       "<div>\n",
       "<style scoped>\n",
       "    .dataframe tbody tr th:only-of-type {\n",
       "        vertical-align: middle;\n",
       "    }\n",
       "\n",
       "    .dataframe tbody tr th {\n",
       "        vertical-align: top;\n",
       "    }\n",
       "\n",
       "    .dataframe thead th {\n",
       "        text-align: right;\n",
       "    }\n",
       "</style>\n",
       "<table border=\"1\" class=\"dataframe\">\n",
       "  <thead>\n",
       "    <tr style=\"text-align: right;\">\n",
       "      <th></th>\n",
       "      <th>MarketID</th>\n",
       "      <th>MarketSize</th>\n",
       "      <th>LocationID</th>\n",
       "      <th>AgeOfStore</th>\n",
       "      <th>Promotion</th>\n",
       "      <th>week</th>\n",
       "      <th>SalesInThousands</th>\n",
       "    </tr>\n",
       "  </thead>\n",
       "  <tbody>\n",
       "    <tr>\n",
       "      <th>0</th>\n",
       "      <td>1</td>\n",
       "      <td>Medium</td>\n",
       "      <td>1</td>\n",
       "      <td>4</td>\n",
       "      <td>3</td>\n",
       "      <td>1</td>\n",
       "      <td>33.73</td>\n",
       "    </tr>\n",
       "    <tr>\n",
       "      <th>1</th>\n",
       "      <td>1</td>\n",
       "      <td>Medium</td>\n",
       "      <td>1</td>\n",
       "      <td>4</td>\n",
       "      <td>3</td>\n",
       "      <td>2</td>\n",
       "      <td>35.67</td>\n",
       "    </tr>\n",
       "    <tr>\n",
       "      <th>2</th>\n",
       "      <td>1</td>\n",
       "      <td>Medium</td>\n",
       "      <td>1</td>\n",
       "      <td>4</td>\n",
       "      <td>3</td>\n",
       "      <td>3</td>\n",
       "      <td>29.03</td>\n",
       "    </tr>\n",
       "    <tr>\n",
       "      <th>3</th>\n",
       "      <td>1</td>\n",
       "      <td>Medium</td>\n",
       "      <td>1</td>\n",
       "      <td>4</td>\n",
       "      <td>3</td>\n",
       "      <td>4</td>\n",
       "      <td>39.25</td>\n",
       "    </tr>\n",
       "    <tr>\n",
       "      <th>4</th>\n",
       "      <td>1</td>\n",
       "      <td>Medium</td>\n",
       "      <td>2</td>\n",
       "      <td>5</td>\n",
       "      <td>2</td>\n",
       "      <td>1</td>\n",
       "      <td>27.81</td>\n",
       "    </tr>\n",
       "  </tbody>\n",
       "</table>\n",
       "</div>"
      ],
      "text/plain": [
       "   MarketID MarketSize  LocationID  AgeOfStore  Promotion  week  \\\n",
       "0         1     Medium           1           4          3     1   \n",
       "1         1     Medium           1           4          3     2   \n",
       "2         1     Medium           1           4          3     3   \n",
       "3         1     Medium           1           4          3     4   \n",
       "4         1     Medium           2           5          2     1   \n",
       "\n",
       "   SalesInThousands  \n",
       "0             33.73  \n",
       "1             35.67  \n",
       "2             29.03  \n",
       "3             39.25  \n",
       "4             27.81  "
      ]
     },
     "execution_count": 3,
     "metadata": {},
     "output_type": "execute_result"
    }
   ],
   "source": [
    "data.head()"
   ]
  },
  {
   "cell_type": "markdown",
   "id": "81af9f82",
   "metadata": {},
   "source": [
    "###### Data check"
   ]
  },
  {
   "cell_type": "code",
   "execution_count": 41,
   "id": "f9ecfba6",
   "metadata": {},
   "outputs": [
    {
     "name": "stdout",
     "output_type": "stream",
     "text": [
      "<class 'pandas.core.frame.DataFrame'>\n",
      "RangeIndex: 548 entries, 0 to 547\n",
      "Data columns (total 7 columns):\n",
      " #   Column            Non-Null Count  Dtype  \n",
      "---  ------            --------------  -----  \n",
      " 0   MarketID          548 non-null    int64  \n",
      " 1   MarketSize        548 non-null    object \n",
      " 2   LocationID        548 non-null    int64  \n",
      " 3   AgeOfStore        548 non-null    int64  \n",
      " 4   Promotion         548 non-null    int64  \n",
      " 5   week              548 non-null    int64  \n",
      " 6   SalesInThousands  548 non-null    float64\n",
      "dtypes: float64(1), int64(5), object(1)\n",
      "memory usage: 30.1+ KB\n"
     ]
    }
   ],
   "source": [
    "data.info()"
   ]
  },
  {
   "cell_type": "code",
   "execution_count": 4,
   "id": "56572f63",
   "metadata": {},
   "outputs": [
    {
     "data": {
      "text/plain": [
       "MarketID            0\n",
       "MarketSize          0\n",
       "LocationID          0\n",
       "AgeOfStore          0\n",
       "Promotion           0\n",
       "week                0\n",
       "SalesInThousands    0\n",
       "dtype: int64"
      ]
     },
     "execution_count": 4,
     "metadata": {},
     "output_type": "execute_result"
    }
   ],
   "source": [
    "data.isnull().sum()"
   ]
  },
  {
   "cell_type": "code",
   "execution_count": 7,
   "id": "ef34c3a0",
   "metadata": {},
   "outputs": [
    {
     "data": {
      "text/html": [
       "<div>\n",
       "<style scoped>\n",
       "    .dataframe tbody tr th:only-of-type {\n",
       "        vertical-align: middle;\n",
       "    }\n",
       "\n",
       "    .dataframe tbody tr th {\n",
       "        vertical-align: top;\n",
       "    }\n",
       "\n",
       "    .dataframe thead th {\n",
       "        text-align: right;\n",
       "    }\n",
       "</style>\n",
       "<table border=\"1\" class=\"dataframe\">\n",
       "  <thead>\n",
       "    <tr style=\"text-align: right;\">\n",
       "      <th></th>\n",
       "      <th>MarketID</th>\n",
       "      <th>LocationID</th>\n",
       "      <th>AgeOfStore</th>\n",
       "      <th>Promotion</th>\n",
       "      <th>week</th>\n",
       "      <th>SalesInThousands</th>\n",
       "    </tr>\n",
       "  </thead>\n",
       "  <tbody>\n",
       "    <tr>\n",
       "      <th>count</th>\n",
       "      <td>548.000000</td>\n",
       "      <td>548.000000</td>\n",
       "      <td>548.000000</td>\n",
       "      <td>548.000000</td>\n",
       "      <td>548.000000</td>\n",
       "      <td>548.000000</td>\n",
       "    </tr>\n",
       "    <tr>\n",
       "      <th>mean</th>\n",
       "      <td>5.715328</td>\n",
       "      <td>479.656934</td>\n",
       "      <td>8.503650</td>\n",
       "      <td>2.029197</td>\n",
       "      <td>2.500000</td>\n",
       "      <td>53.466204</td>\n",
       "    </tr>\n",
       "    <tr>\n",
       "      <th>std</th>\n",
       "      <td>2.877001</td>\n",
       "      <td>287.973679</td>\n",
       "      <td>6.638345</td>\n",
       "      <td>0.810729</td>\n",
       "      <td>1.119055</td>\n",
       "      <td>16.755216</td>\n",
       "    </tr>\n",
       "    <tr>\n",
       "      <th>min</th>\n",
       "      <td>1.000000</td>\n",
       "      <td>1.000000</td>\n",
       "      <td>1.000000</td>\n",
       "      <td>1.000000</td>\n",
       "      <td>1.000000</td>\n",
       "      <td>17.340000</td>\n",
       "    </tr>\n",
       "    <tr>\n",
       "      <th>25%</th>\n",
       "      <td>3.000000</td>\n",
       "      <td>216.000000</td>\n",
       "      <td>4.000000</td>\n",
       "      <td>1.000000</td>\n",
       "      <td>1.750000</td>\n",
       "      <td>42.545000</td>\n",
       "    </tr>\n",
       "    <tr>\n",
       "      <th>50%</th>\n",
       "      <td>6.000000</td>\n",
       "      <td>504.000000</td>\n",
       "      <td>7.000000</td>\n",
       "      <td>2.000000</td>\n",
       "      <td>2.500000</td>\n",
       "      <td>50.200000</td>\n",
       "    </tr>\n",
       "    <tr>\n",
       "      <th>75%</th>\n",
       "      <td>8.000000</td>\n",
       "      <td>708.000000</td>\n",
       "      <td>12.000000</td>\n",
       "      <td>3.000000</td>\n",
       "      <td>3.250000</td>\n",
       "      <td>60.477500</td>\n",
       "    </tr>\n",
       "    <tr>\n",
       "      <th>max</th>\n",
       "      <td>10.000000</td>\n",
       "      <td>920.000000</td>\n",
       "      <td>28.000000</td>\n",
       "      <td>3.000000</td>\n",
       "      <td>4.000000</td>\n",
       "      <td>99.650000</td>\n",
       "    </tr>\n",
       "  </tbody>\n",
       "</table>\n",
       "</div>"
      ],
      "text/plain": [
       "         MarketID  LocationID  AgeOfStore   Promotion        week  \\\n",
       "count  548.000000  548.000000  548.000000  548.000000  548.000000   \n",
       "mean     5.715328  479.656934    8.503650    2.029197    2.500000   \n",
       "std      2.877001  287.973679    6.638345    0.810729    1.119055   \n",
       "min      1.000000    1.000000    1.000000    1.000000    1.000000   \n",
       "25%      3.000000  216.000000    4.000000    1.000000    1.750000   \n",
       "50%      6.000000  504.000000    7.000000    2.000000    2.500000   \n",
       "75%      8.000000  708.000000   12.000000    3.000000    3.250000   \n",
       "max     10.000000  920.000000   28.000000    3.000000    4.000000   \n",
       "\n",
       "       SalesInThousands  \n",
       "count        548.000000  \n",
       "mean          53.466204  \n",
       "std           16.755216  \n",
       "min           17.340000  \n",
       "25%           42.545000  \n",
       "50%           50.200000  \n",
       "75%           60.477500  \n",
       "max           99.650000  "
      ]
     },
     "execution_count": 7,
     "metadata": {},
     "output_type": "execute_result"
    }
   ],
   "source": [
    "data.describeibe()"
   ]
  },
  {
   "cell_type": "markdown",
   "id": "71a170e4",
   "metadata": {},
   "source": [
    "##### MarketID"
   ]
  },
  {
   "cell_type": "code",
   "execution_count": 5,
   "id": "ec96970e",
   "metadata": {},
   "outputs": [
    {
     "data": {
      "text/plain": [
       "array([ 1,  2,  3,  4,  5,  6,  7,  8,  9, 10], dtype=int64)"
      ]
     },
     "execution_count": 5,
     "metadata": {},
     "output_type": "execute_result"
    }
   ],
   "source": [
    "data.MarketID.unique()"
   ]
  },
  {
   "cell_type": "code",
   "execution_count": 18,
   "id": "ed9aac5e",
   "metadata": {},
   "outputs": [
    {
     "data": {
      "text/plain": [
       "Counter({1: 52,\n",
       "         2: 24,\n",
       "         3: 88,\n",
       "         4: 36,\n",
       "         5: 60,\n",
       "         6: 60,\n",
       "         7: 60,\n",
       "         8: 48,\n",
       "         9: 40,\n",
       "         10: 80})"
      ]
     },
     "execution_count": 18,
     "metadata": {},
     "output_type": "execute_result"
    }
   ],
   "source": [
    "market_freq = Counter(data.MarketID)\n",
    "market_freq"
   ]
  },
  {
   "cell_type": "code",
   "execution_count": 115,
   "id": "ae628384",
   "metadata": {},
   "outputs": [
    {
     "data": {
      "image/png": "[encoded data removed]",
      "text/plain": [
       "<Figure size 864x360 with 2 Axes>"
      ]
     },
     "metadata": {
      "needs_background": "light"
     },
     "output_type": "display_data"
    }
   ],
   "source": [
    "fig, axes = plt.subplots(ncols=2,figsize=(12,5))\n",
    "colors = sns.color_palette('PuRd')\n",
    "axes[0].pie(market_freq.values(),labels=market_freq.keys(),colors=colors,autopct='%.1f%%');\n",
    "axes[0].set_title('Percentage of MarketID')\n",
    "sns.histplot(ax=axes[1],x='MarketID',hue='Promotion',data=data,multiple='stack');\n",
    "plt.title('Distribution of Promotion per MarketID');\n",
    "plt.tight_layout();"
   ]
  },
  {
   "cell_type": "markdown",
   "id": "2cc329de",
   "metadata": {},
   "source": [
    "##### \tMarketSize"
   ]
  },
  {
   "cell_type": "code",
   "execution_count": 36,
   "id": "f199dcee",
   "metadata": {},
   "outputs": [
    {
     "data": {
      "text/plain": [
       "array(['Medium', 'Small', 'Large'], dtype=object)"
      ]
     },
     "execution_count": 36,
     "metadata": {},
     "output_type": "execute_result"
    }
   ],
   "source": [
    "data.MarketSize.unique()"
   ]
  },
  {
   "cell_type": "code",
   "execution_count": 87,
   "id": "62ebd321",
   "metadata": {},
   "outputs": [],
   "source": [
    "size_freq = Counter(data.MarketSize)"
   ]
  },
  {
   "cell_type": "code",
   "execution_count": 114,
   "id": "2b47676c",
   "metadata": {},
   "outputs": [
    {
     "data": {
      "image/png": "[encoded data removed]",
      "text/plain": [
       "<Figure size 864x360 with 2 Axes>"
      ]
     },
     "metadata": {
      "needs_background": "light"
     },
     "output_type": "display_data"
    }
   ],
   "source": [
    "fig, axes = plt.subplots(ncols=2,figsize=(12,5))\n",
    "colors = sns.color_palette('PuRd')\n",
    "axes[0].pie(size_freq.values(),labels=size_freq.keys(),colors=colors,autopct='%.1f%%');\n",
    "axes[0].set_title('Percentage of MarketSize')\n",
    "sns.histplot(x='MarketSize',hue='Promotion',data=data,multiple='stack',ax=axes[1]);\n",
    "plt.title('Distribution of Promotion per MarketSize');\n",
    "plt.tight_layout();"
   ]
  },
  {
   "cell_type": "markdown",
   "id": "02ca8018",
   "metadata": {},
   "source": [
    "##### LocationID"
   ]
  },
  {
   "cell_type": "code",
   "execution_count": 35,
   "id": "f350c491",
   "metadata": {},
   "outputs": [
    {
     "data": {
      "text/plain": [
       "137"
      ]
     },
     "execution_count": 35,
     "metadata": {},
     "output_type": "execute_result"
    }
   ],
   "source": [
    "len(data.LocationID.unique())"
   ]
  },
  {
   "cell_type": "code",
   "execution_count": 93,
   "id": "d79fae56",
   "metadata": {},
   "outputs": [
    {
     "data": {
      "text/plain": [
       "Counter({1: 4,\n",
       "         2: 4,\n",
       "         3: 4,\n",
       "         4: 4,\n",
       "         5: 4,\n",
       "         6: 4,\n",
       "         7: 4,\n",
       "         8: 4,\n",
       "         9: 4,\n",
       "         10: 4,\n",
       "         11: 4,\n",
       "         12: 4,\n",
       "         13: 4,\n",
       "         101: 4,\n",
       "         102: 4,\n",
       "         103: 4,\n",
       "         104: 4,\n",
       "         105: 4,\n",
       "         106: 4,\n",
       "         201: 4,\n",
       "         202: 4,\n",
       "         203: 4,\n",
       "         204: 4,\n",
       "         205: 4,\n",
       "         206: 4,\n",
       "         207: 4,\n",
       "         208: 4,\n",
       "         209: 4,\n",
       "         210: 4,\n",
       "         211: 4,\n",
       "         212: 4,\n",
       "         213: 4,\n",
       "         214: 4,\n",
       "         215: 4,\n",
       "         216: 4,\n",
       "         217: 4,\n",
       "         218: 4,\n",
       "         219: 4,\n",
       "         220: 4,\n",
       "         221: 4,\n",
       "         222: 4,\n",
       "         301: 4,\n",
       "         302: 4,\n",
       "         303: 4,\n",
       "         304: 4,\n",
       "         305: 4,\n",
       "         306: 4,\n",
       "         307: 4,\n",
       "         308: 4,\n",
       "         309: 4,\n",
       "         401: 4,\n",
       "         402: 4,\n",
       "         403: 4,\n",
       "         404: 4,\n",
       "         405: 4,\n",
       "         406: 4,\n",
       "         407: 4,\n",
       "         408: 4,\n",
       "         409: 4,\n",
       "         410: 4,\n",
       "         411: 4,\n",
       "         412: 4,\n",
       "         413: 4,\n",
       "         414: 4,\n",
       "         415: 4,\n",
       "         501: 4,\n",
       "         502: 4,\n",
       "         503: 4,\n",
       "         504: 4,\n",
       "         505: 4,\n",
       "         506: 4,\n",
       "         507: 4,\n",
       "         508: 4,\n",
       "         509: 4,\n",
       "         510: 4,\n",
       "         511: 4,\n",
       "         512: 4,\n",
       "         513: 4,\n",
       "         514: 4,\n",
       "         515: 4,\n",
       "         601: 4,\n",
       "         602: 4,\n",
       "         603: 4,\n",
       "         604: 4,\n",
       "         605: 4,\n",
       "         606: 4,\n",
       "         607: 4,\n",
       "         608: 4,\n",
       "         609: 4,\n",
       "         610: 4,\n",
       "         611: 4,\n",
       "         612: 4,\n",
       "         613: 4,\n",
       "         614: 4,\n",
       "         615: 4,\n",
       "         701: 4,\n",
       "         702: 4,\n",
       "         703: 4,\n",
       "         704: 4,\n",
       "         705: 4,\n",
       "         706: 4,\n",
       "         707: 4,\n",
       "         708: 4,\n",
       "         709: 4,\n",
       "         710: 4,\n",
       "         711: 4,\n",
       "         712: 4,\n",
       "         801: 4,\n",
       "         802: 4,\n",
       "         803: 4,\n",
       "         804: 4,\n",
       "         805: 4,\n",
       "         806: 4,\n",
       "         807: 4,\n",
       "         808: 4,\n",
       "         809: 4,\n",
       "         810: 4,\n",
       "         901: 4,\n",
       "         902: 4,\n",
       "         903: 4,\n",
       "         904: 4,\n",
       "         905: 4,\n",
       "         906: 4,\n",
       "         907: 4,\n",
       "         908: 4,\n",
       "         909: 4,\n",
       "         910: 4,\n",
       "         911: 4,\n",
       "         912: 4,\n",
       "         913: 4,\n",
       "         914: 4,\n",
       "         915: 4,\n",
       "         916: 4,\n",
       "         917: 4,\n",
       "         918: 4,\n",
       "         919: 4,\n",
       "         920: 4})"
      ]
     },
     "execution_count": 93,
     "metadata": {},
     "output_type": "execute_result"
    }
   ],
   "source": [
    "Counter(data.LocationID)"
   ]
  },
  {
   "cell_type": "markdown",
   "id": "d035b73b",
   "metadata": {},
   "source": [
    "##### AgeOfStore"
   ]
  },
  {
   "cell_type": "code",
   "execution_count": 98,
   "id": "a65d5050",
   "metadata": {},
   "outputs": [
    {
     "data": {
      "text/plain": [
       "25"
      ]
     },
     "execution_count": 98,
     "metadata": {},
     "output_type": "execute_result"
    }
   ],
   "source": [
    "len(data.AgeOfStore.unique())"
   ]
  },
  {
   "cell_type": "code",
   "execution_count": 118,
   "id": "b6705c15",
   "metadata": {},
   "outputs": [
    {
     "data": {
      "image/png": "[encoded data removed]",
      "text/plain": [
       "<Figure size 432x288 with 1 Axes>"
      ]
     },
     "metadata": {
      "needs_background": "light"
     },
     "output_type": "display_data"
    }
   ],
   "source": [
    "plt.figsize=(12,5)\n",
    "plt.title('Distribution of AgeOfStore')\n",
    "sns.histplot(data.AgeOfStore,bins=25);"
   ]
  },
  {
   "cell_type": "markdown",
   "id": "d6e3f209",
   "metadata": {},
   "source": [
    "#### Promotion"
   ]
  },
  {
   "cell_type": "code",
   "execution_count": 102,
   "id": "bac5c92b",
   "metadata": {},
   "outputs": [
    {
     "data": {
      "text/plain": [
       "array([3, 2, 1], dtype=int64)"
      ]
     },
     "execution_count": 102,
     "metadata": {},
     "output_type": "execute_result"
    }
   ],
   "source": [
    "data.Promotion.unique()"
   ]
  },
  {
   "cell_type": "code",
   "execution_count": 103,
   "id": "048b8a84",
   "metadata": {},
   "outputs": [
    {
     "data": {
      "text/plain": [
       "Counter({3: 188, 2: 188, 1: 172})"
      ]
     },
     "execution_count": 103,
     "metadata": {},
     "output_type": "execute_result"
    }
   ],
   "source": [
    "Counter(data.Promotion)"
   ]
  },
  {
   "cell_type": "markdown",
   "id": "4ca5ac8b",
   "metadata": {},
   "source": [
    "##### week"
   ]
  },
  {
   "cell_type": "code",
   "execution_count": 121,
   "id": "e8550280",
   "metadata": {},
   "outputs": [
    {
     "data": {
      "text/plain": [
       "array([1, 2, 3, 4], dtype=int64)"
      ]
     },
     "execution_count": 121,
     "metadata": {},
     "output_type": "execute_result"
    }
   ],
   "source": [
    "data.week.unique()"
   ]
  },
  {
   "cell_type": "code",
   "execution_count": 123,
   "id": "2e87c7b9",
   "metadata": {},
   "outputs": [
    {
     "data": {
      "image/png": "[encoded data removed]",
      "text/plain": [
       "<Figure size 432x288 with 1 Axes>"
      ]
     },
     "metadata": {
      "needs_background": "light"
     },
     "output_type": "display_data"
    }
   ],
   "source": [
    "sns.histplot(x='week',hue='Promotion',data=data,multiple='stack');"
   ]
  },
  {
   "cell_type": "markdown",
   "id": "ef072162",
   "metadata": {},
   "source": [
    "#### Comparing SalesInThousands depending on variable"
   ]
  },
  {
   "cell_type": "code",
   "execution_count": 130,
   "id": "9eab8344",
   "metadata": {},
   "outputs": [
    {
     "data": {
      "text/html": [
       "<div>\n",
       "<style scoped>\n",
       "    .dataframe tbody tr th:only-of-type {\n",
       "        vertical-align: middle;\n",
       "    }\n",
       "\n",
       "    .dataframe tbody tr th {\n",
       "        vertical-align: top;\n",
       "    }\n",
       "\n",
       "    .dataframe thead tr th {\n",
       "        text-align: left;\n",
       "    }\n",
       "\n",
       "    .dataframe thead tr:last-of-type th {\n",
       "        text-align: right;\n",
       "    }\n",
       "</style>\n",
       "<table border=\"1\" class=\"dataframe\">\n",
       "  <thead>\n",
       "    <tr>\n",
       "      <th></th>\n",
       "      <th colspan=\"3\" halign=\"left\">SalesInThousands</th>\n",
       "    </tr>\n",
       "    <tr>\n",
       "      <th></th>\n",
       "      <th>count</th>\n",
       "      <th>mean</th>\n",
       "      <th>sum</th>\n",
       "    </tr>\n",
       "    <tr>\n",
       "      <th>MarketSize</th>\n",
       "      <th></th>\n",
       "      <th></th>\n",
       "      <th></th>\n",
       "    </tr>\n",
       "  </thead>\n",
       "  <tbody>\n",
       "    <tr>\n",
       "      <th>Large</th>\n",
       "      <td>168</td>\n",
       "      <td>70.116726</td>\n",
       "      <td>11779.61</td>\n",
       "    </tr>\n",
       "    <tr>\n",
       "      <th>Medium</th>\n",
       "      <td>320</td>\n",
       "      <td>43.985344</td>\n",
       "      <td>14075.31</td>\n",
       "    </tr>\n",
       "    <tr>\n",
       "      <th>Small</th>\n",
       "      <td>60</td>\n",
       "      <td>57.409333</td>\n",
       "      <td>3444.56</td>\n",
       "    </tr>\n",
       "  </tbody>\n",
       "</table>\n",
       "</div>"
      ],
      "text/plain": [
       "           SalesInThousands                     \n",
       "                      count       mean       sum\n",
       "MarketSize                                      \n",
       "Large                   168  70.116726  11779.61\n",
       "Medium                  320  43.985344  14075.31\n",
       "Small                    60  57.409333   3444.56"
      ]
     },
     "execution_count": 130,
     "metadata": {},
     "output_type": "execute_result"
    }
   ],
   "source": [
    "data.groupby('MarketSize').agg({'SalesInThousands':['count','mean','sum']})"
   ]
  },
  {
   "cell_type": "code",
   "execution_count": 133,
   "id": "dad87e1e",
   "metadata": {},
   "outputs": [
    {
     "data": {
      "text/html": [
       "<div>\n",
       "<style scoped>\n",
       "    .dataframe tbody tr th:only-of-type {\n",
       "        vertical-align: middle;\n",
       "    }\n",
       "\n",
       "    .dataframe tbody tr th {\n",
       "        vertical-align: top;\n",
       "    }\n",
       "\n",
       "    .dataframe thead tr th {\n",
       "        text-align: left;\n",
       "    }\n",
       "\n",
       "    .dataframe thead tr:last-of-type th {\n",
       "        text-align: right;\n",
       "    }\n",
       "</style>\n",
       "<table border=\"1\" class=\"dataframe\">\n",
       "  <thead>\n",
       "    <tr>\n",
       "      <th></th>\n",
       "      <th></th>\n",
       "      <th colspan=\"3\" halign=\"left\">SalesInThousands</th>\n",
       "    </tr>\n",
       "    <tr>\n",
       "      <th></th>\n",
       "      <th></th>\n",
       "      <th>count</th>\n",
       "      <th>mean</th>\n",
       "      <th>sum</th>\n",
       "    </tr>\n",
       "    <tr>\n",
       "      <th>MarketSize</th>\n",
       "      <th>week</th>\n",
       "      <th></th>\n",
       "      <th></th>\n",
       "      <th></th>\n",
       "    </tr>\n",
       "  </thead>\n",
       "  <tbody>\n",
       "    <tr>\n",
       "      <th rowspan=\"4\" valign=\"top\">Large</th>\n",
       "      <th>1</th>\n",
       "      <td>42</td>\n",
       "      <td>70.793333</td>\n",
       "      <td>2973.32</td>\n",
       "    </tr>\n",
       "    <tr>\n",
       "      <th>2</th>\n",
       "      <td>42</td>\n",
       "      <td>68.656667</td>\n",
       "      <td>2883.58</td>\n",
       "    </tr>\n",
       "    <tr>\n",
       "      <th>3</th>\n",
       "      <td>42</td>\n",
       "      <td>70.647381</td>\n",
       "      <td>2967.19</td>\n",
       "    </tr>\n",
       "    <tr>\n",
       "      <th>4</th>\n",
       "      <td>42</td>\n",
       "      <td>70.369524</td>\n",
       "      <td>2955.52</td>\n",
       "    </tr>\n",
       "    <tr>\n",
       "      <th rowspan=\"4\" valign=\"top\">Medium</th>\n",
       "      <th>1</th>\n",
       "      <td>80</td>\n",
       "      <td>44.403875</td>\n",
       "      <td>3552.31</td>\n",
       "    </tr>\n",
       "    <tr>\n",
       "      <th>2</th>\n",
       "      <td>80</td>\n",
       "      <td>44.378125</td>\n",
       "      <td>3550.25</td>\n",
       "    </tr>\n",
       "    <tr>\n",
       "      <th>3</th>\n",
       "      <td>80</td>\n",
       "      <td>44.107500</td>\n",
       "      <td>3528.60</td>\n",
       "    </tr>\n",
       "    <tr>\n",
       "      <th>4</th>\n",
       "      <td>80</td>\n",
       "      <td>43.051875</td>\n",
       "      <td>3444.15</td>\n",
       "    </tr>\n",
       "    <tr>\n",
       "      <th rowspan=\"4\" valign=\"top\">Small</th>\n",
       "      <th>1</th>\n",
       "      <td>15</td>\n",
       "      <td>56.245333</td>\n",
       "      <td>843.68</td>\n",
       "    </tr>\n",
       "    <tr>\n",
       "      <th>2</th>\n",
       "      <td>15</td>\n",
       "      <td>58.675333</td>\n",
       "      <td>880.13</td>\n",
       "    </tr>\n",
       "    <tr>\n",
       "      <th>3</th>\n",
       "      <td>15</td>\n",
       "      <td>55.348667</td>\n",
       "      <td>830.23</td>\n",
       "    </tr>\n",
       "    <tr>\n",
       "      <th>4</th>\n",
       "      <td>15</td>\n",
       "      <td>59.368000</td>\n",
       "      <td>890.52</td>\n",
       "    </tr>\n",
       "  </tbody>\n",
       "</table>\n",
       "</div>"
      ],
      "text/plain": [
       "                SalesInThousands                    \n",
       "                           count       mean      sum\n",
       "MarketSize week                                     \n",
       "Large      1                  42  70.793333  2973.32\n",
       "           2                  42  68.656667  2883.58\n",
       "           3                  42  70.647381  2967.19\n",
       "           4                  42  70.369524  2955.52\n",
       "Medium     1                  80  44.403875  3552.31\n",
       "           2                  80  44.378125  3550.25\n",
       "           3                  80  44.107500  3528.60\n",
       "           4                  80  43.051875  3444.15\n",
       "Small      1                  15  56.245333   843.68\n",
       "           2                  15  58.675333   880.13\n",
       "           3                  15  55.348667   830.23\n",
       "           4                  15  59.368000   890.52"
      ]
     },
     "execution_count": 133,
     "metadata": {},
     "output_type": "execute_result"
    }
   ],
   "source": [
    "data.groupby(['MarketSize','week']).agg({'SalesInThousands':['count','mean','sum']})"
   ]
  },
  {
   "cell_type": "code",
   "execution_count": 135,
   "id": "cffced40",
   "metadata": {},
   "outputs": [
    {
     "data": {
      "text/html": [
       "<div>\n",
       "<style scoped>\n",
       "    .dataframe tbody tr th:only-of-type {\n",
       "        vertical-align: middle;\n",
       "    }\n",
       "\n",
       "    .dataframe tbody tr th {\n",
       "        vertical-align: top;\n",
       "    }\n",
       "\n",
       "    .dataframe thead tr th {\n",
       "        text-align: left;\n",
       "    }\n",
       "\n",
       "    .dataframe thead tr:last-of-type th {\n",
       "        text-align: right;\n",
       "    }\n",
       "</style>\n",
       "<table border=\"1\" class=\"dataframe\">\n",
       "  <thead>\n",
       "    <tr>\n",
       "      <th></th>\n",
       "      <th></th>\n",
       "      <th colspan=\"3\" halign=\"left\">SalesInThousands</th>\n",
       "    </tr>\n",
       "    <tr>\n",
       "      <th></th>\n",
       "      <th></th>\n",
       "      <th>count</th>\n",
       "      <th>mean</th>\n",
       "      <th>sum</th>\n",
       "    </tr>\n",
       "    <tr>\n",
       "      <th>Promotion</th>\n",
       "      <th>week</th>\n",
       "      <th></th>\n",
       "      <th></th>\n",
       "      <th></th>\n",
       "    </tr>\n",
       "  </thead>\n",
       "  <tbody>\n",
       "    <tr>\n",
       "      <th rowspan=\"4\" valign=\"top\">1</th>\n",
       "      <th>1</th>\n",
       "      <td>43</td>\n",
       "      <td>58.244419</td>\n",
       "      <td>2504.51</td>\n",
       "    </tr>\n",
       "    <tr>\n",
       "      <th>2</th>\n",
       "      <td>43</td>\n",
       "      <td>56.929535</td>\n",
       "      <td>2447.97</td>\n",
       "    </tr>\n",
       "    <tr>\n",
       "      <th>3</th>\n",
       "      <td>43</td>\n",
       "      <td>58.774884</td>\n",
       "      <td>2527.32</td>\n",
       "    </tr>\n",
       "    <tr>\n",
       "      <th>4</th>\n",
       "      <td>43</td>\n",
       "      <td>58.447209</td>\n",
       "      <td>2513.23</td>\n",
       "    </tr>\n",
       "    <tr>\n",
       "      <th rowspan=\"4\" valign=\"top\">2</th>\n",
       "      <th>1</th>\n",
       "      <td>47</td>\n",
       "      <td>47.730213</td>\n",
       "      <td>2243.32</td>\n",
       "    </tr>\n",
       "    <tr>\n",
       "      <th>2</th>\n",
       "      <td>47</td>\n",
       "      <td>47.582553</td>\n",
       "      <td>2236.38</td>\n",
       "    </tr>\n",
       "    <tr>\n",
       "      <th>3</th>\n",
       "      <td>47</td>\n",
       "      <td>47.722128</td>\n",
       "      <td>2242.94</td>\n",
       "    </tr>\n",
       "    <tr>\n",
       "      <th>4</th>\n",
       "      <td>47</td>\n",
       "      <td>46.282766</td>\n",
       "      <td>2175.29</td>\n",
       "    </tr>\n",
       "    <tr>\n",
       "      <th rowspan=\"4\" valign=\"top\">3</th>\n",
       "      <th>1</th>\n",
       "      <td>47</td>\n",
       "      <td>55.776170</td>\n",
       "      <td>2621.48</td>\n",
       "    </tr>\n",
       "    <tr>\n",
       "      <th>2</th>\n",
       "      <td>47</td>\n",
       "      <td>55.949149</td>\n",
       "      <td>2629.61</td>\n",
       "    </tr>\n",
       "    <tr>\n",
       "      <th>3</th>\n",
       "      <td>47</td>\n",
       "      <td>54.377872</td>\n",
       "      <td>2555.76</td>\n",
       "    </tr>\n",
       "    <tr>\n",
       "      <th>4</th>\n",
       "      <td>47</td>\n",
       "      <td>55.354681</td>\n",
       "      <td>2601.67</td>\n",
       "    </tr>\n",
       "  </tbody>\n",
       "</table>\n",
       "</div>"
      ],
      "text/plain": [
       "               SalesInThousands                    \n",
       "                          count       mean      sum\n",
       "Promotion week                                     \n",
       "1         1                  43  58.244419  2504.51\n",
       "          2                  43  56.929535  2447.97\n",
       "          3                  43  58.774884  2527.32\n",
       "          4                  43  58.447209  2513.23\n",
       "2         1                  47  47.730213  2243.32\n",
       "          2                  47  47.582553  2236.38\n",
       "          3                  47  47.722128  2242.94\n",
       "          4                  47  46.282766  2175.29\n",
       "3         1                  47  55.776170  2621.48\n",
       "          2                  47  55.949149  2629.61\n",
       "          3                  47  54.377872  2555.76\n",
       "          4                  47  55.354681  2601.67"
      ]
     },
     "execution_count": 135,
     "metadata": {},
     "output_type": "execute_result"
    }
   ],
   "source": [
    "data.groupby(['Promotion','week']).agg({'SalesInThousands':['count','mean','sum']})"
   ]
  },
  {
   "cell_type": "code",
   "execution_count": 137,
   "id": "8383e7c9",
   "metadata": {},
   "outputs": [
    {
     "data": {
      "text/html": [
       "<div>\n",
       "<style scoped>\n",
       "    .dataframe tbody tr th:only-of-type {\n",
       "        vertical-align: middle;\n",
       "    }\n",
       "\n",
       "    .dataframe tbody tr th {\n",
       "        vertical-align: top;\n",
       "    }\n",
       "\n",
       "    .dataframe thead tr th {\n",
       "        text-align: left;\n",
       "    }\n",
       "\n",
       "    .dataframe thead tr:last-of-type th {\n",
       "        text-align: right;\n",
       "    }\n",
       "</style>\n",
       "<table border=\"1\" class=\"dataframe\">\n",
       "  <thead>\n",
       "    <tr>\n",
       "      <th></th>\n",
       "      <th></th>\n",
       "      <th colspan=\"3\" halign=\"left\">SalesInThousands</th>\n",
       "    </tr>\n",
       "    <tr>\n",
       "      <th></th>\n",
       "      <th></th>\n",
       "      <th>count</th>\n",
       "      <th>mean</th>\n",
       "      <th>sum</th>\n",
       "    </tr>\n",
       "    <tr>\n",
       "      <th>Promotion</th>\n",
       "      <th>MarketSize</th>\n",
       "      <th></th>\n",
       "      <th></th>\n",
       "      <th></th>\n",
       "    </tr>\n",
       "  </thead>\n",
       "  <tbody>\n",
       "    <tr>\n",
       "      <th rowspan=\"3\" valign=\"top\">1</th>\n",
       "      <th>Large</th>\n",
       "      <td>56</td>\n",
       "      <td>75.235893</td>\n",
       "      <td>4213.21</td>\n",
       "    </tr>\n",
       "    <tr>\n",
       "      <th>Medium</th>\n",
       "      <td>96</td>\n",
       "      <td>47.672604</td>\n",
       "      <td>4576.57</td>\n",
       "    </tr>\n",
       "    <tr>\n",
       "      <th>Small</th>\n",
       "      <td>20</td>\n",
       "      <td>60.162500</td>\n",
       "      <td>1203.25</td>\n",
       "    </tr>\n",
       "    <tr>\n",
       "      <th rowspan=\"3\" valign=\"top\">2</th>\n",
       "      <th>Large</th>\n",
       "      <td>64</td>\n",
       "      <td>60.322031</td>\n",
       "      <td>3860.61</td>\n",
       "    </tr>\n",
       "    <tr>\n",
       "      <th>Medium</th>\n",
       "      <td>108</td>\n",
       "      <td>39.114352</td>\n",
       "      <td>4224.35</td>\n",
       "    </tr>\n",
       "    <tr>\n",
       "      <th>Small</th>\n",
       "      <td>16</td>\n",
       "      <td>50.810625</td>\n",
       "      <td>812.97</td>\n",
       "    </tr>\n",
       "    <tr>\n",
       "      <th rowspan=\"3\" valign=\"top\">3</th>\n",
       "      <th>Large</th>\n",
       "      <td>48</td>\n",
       "      <td>77.203958</td>\n",
       "      <td>3705.79</td>\n",
       "    </tr>\n",
       "    <tr>\n",
       "      <th>Medium</th>\n",
       "      <td>116</td>\n",
       "      <td>45.468879</td>\n",
       "      <td>5274.39</td>\n",
       "    </tr>\n",
       "    <tr>\n",
       "      <th>Small</th>\n",
       "      <td>24</td>\n",
       "      <td>59.514167</td>\n",
       "      <td>1428.34</td>\n",
       "    </tr>\n",
       "  </tbody>\n",
       "</table>\n",
       "</div>"
      ],
      "text/plain": [
       "                     SalesInThousands                    \n",
       "                                count       mean      sum\n",
       "Promotion MarketSize                                     \n",
       "1         Large                    56  75.235893  4213.21\n",
       "          Medium                   96  47.672604  4576.57\n",
       "          Small                    20  60.162500  1203.25\n",
       "2         Large                    64  60.322031  3860.61\n",
       "          Medium                  108  39.114352  4224.35\n",
       "          Small                    16  50.810625   812.97\n",
       "3         Large                    48  77.203958  3705.79\n",
       "          Medium                  116  45.468879  5274.39\n",
       "          Small                    24  59.514167  1428.34"
      ]
     },
     "execution_count": 137,
     "metadata": {},
     "output_type": "execute_result"
    }
   ],
   "source": [
    "data.groupby(['Promotion','MarketSize']).agg({'SalesInThousands':['count','mean','sum']})"
   ]
  },
  {
   "cell_type": "markdown",
   "id": "7f638edc",
   "metadata": {},
   "source": [
    "## A/B Testing (Just for SalesInThousands)"
   ]
  },
  {
   "cell_type": "markdown",
   "id": "a58f0ca4",
   "metadata": {},
   "source": [
    "### Normality Assumption\n",
    "H0: Normally Distributed    \n",
    "H1: Not Normally Distributed"
   ]
  },
  {
   "cell_type": "code",
   "execution_count": 140,
   "id": "23ba4dfd",
   "metadata": {},
   "outputs": [
    {
     "name": "stdout",
     "output_type": "stream",
     "text": [
      "Test Stat = 0.8891, p-value = 0.0000\n",
      "Test Stat = 0.9485, p-value = 0.0001\n",
      "Test Stat = 0.9335, p-value = 0.0000\n",
      "Test Stat = 0.9477, p-value = 0.0000\n"
     ]
    }
   ],
   "source": [
    "test_stat, pvalue = shapiro(data.loc[data[\"week\"] == 1, \"SalesInThousands\"])\n",
    "print('Test Stat = %.4f, p-value = %.4f' % (test_stat, pvalue))\n",
    "\n",
    "test_stat, pvalue = shapiro(data.loc[data[\"week\"] == 2, \"SalesInThousands\"])\n",
    "print('Test Stat = %.4f, p-value = %.4f' % (test_stat, pvalue))\n",
    "\n",
    "test_stat, pvalue = shapiro(data.loc[data[\"week\"] == 3, \"SalesInThousands\"])\n",
    "print('Test Stat = %.4f, p-value = %.4f' % (test_stat, pvalue))\n",
    "\n",
    "test_stat, pvalue = shapiro(data.loc[data[\"week\"] == 4, \"SalesInThousands\"])\n",
    "print('Test Stat = %.4f, p-value = %.4f' % (test_stat, pvalue))"
   ]
  },
  {
   "cell_type": "markdown",
   "id": "9db4efe8",
   "metadata": {},
   "source": [
    "*we reject H0*"
   ]
  },
  {
   "cell_type": "markdown",
   "id": "deeb71b9",
   "metadata": {},
   "source": [
    "### ANOVA Testing\n",
    "H0: M1 = M2 = M3 = M4    \n",
    "H1: at least one group's mean are different"
   ]
  },
  {
   "cell_type": "code",
   "execution_count": 141,
   "id": "5bf9c7a2",
   "metadata": {},
   "outputs": [
    {
     "name": "stdout",
     "output_type": "stream",
     "text": [
      "Test Stat = 0.0710, p-value = 0.9951\n"
     ]
    }
   ],
   "source": [
    "test_stat, pvalue = kruskal(data.loc[data[\"week\"] == 1, \"SalesInThousands\"],\n",
    "                                 data.loc[data[\"week\"] == 2, \"SalesInThousands\"],\n",
    "                                data.loc[data[\"week\"] == 3, \"SalesInThousands\"],\n",
    "                                data.loc[data[\"week\"] == 4, \"SalesInThousands\"])\n",
    "\n",
    "print('Test Stat = %.4f, p-value = %.4f' % (test_stat, pvalue))"
   ]
  },
  {
   "cell_type": "code",
   "execution_count": 142,
   "id": "6807abed",
   "metadata": {},
   "outputs": [
    {
     "data": {
      "image/png": "[encoded data removed]",
      "text/plain": [
       "<Figure size 432x288 with 1 Axes>"
      ]
     },
     "metadata": {
      "needs_background": "light"
     },
     "output_type": "display_data"
    }
   ],
   "source": [
    "data.groupby([\"week\"]).agg({\"SalesInThousands\": \"mean\"}).plot(kind = \"bar\", rot = 45);"
   ]
  },
  {
   "cell_type": "markdown",
   "id": "60f70145",
   "metadata": {},
   "source": [
    "## A/B Testing (for SalesInThousands, Promotion, AgeOfStore)"
   ]
  },
  {
   "cell_type": "markdown",
   "id": "12edd100",
   "metadata": {},
   "source": [
    "In this section, I will create new variable which is called as \"Score\".It includes multiplication of these three variables.I want to consider impacts of these variables and compare with A/B Testing"
   ]
  },
  {
   "cell_type": "code",
   "execution_count": 143,
   "id": "1694cc0f",
   "metadata": {},
   "outputs": [],
   "source": [
    "data[\"Score\"] = data[\"SalesInThousands\"] * data[\"AgeOfStore\"] * data[\"Promotion\"]"
   ]
  },
  {
   "cell_type": "markdown",
   "id": "ca7bc06f",
   "metadata": {},
   "source": [
    "### Normality Assumption\n",
    "H0: Normally Distributed    \n",
    "H1: Not Normally Distributed"
   ]
  },
  {
   "cell_type": "code",
   "execution_count": 144,
   "id": "0cdb8940",
   "metadata": {},
   "outputs": [
    {
     "name": "stdout",
     "output_type": "stream",
     "text": [
      "Test Stat = 0.7759, p-value = 0.0000\n",
      "Test Stat = 0.7797, p-value = 0.0000\n",
      "Test Stat = 0.7768, p-value = 0.0000\n",
      "Test Stat = 0.7720, p-value = 0.0000\n"
     ]
    }
   ],
   "source": [
    "test_stat, pvalue = shapiro(data.loc[data[\"week\"] == 1, \"Score\"])\n",
    "print('Test Stat = %.4f, p-value = %.4f' % (test_stat, pvalue))\n",
    "\n",
    "test_stat, pvalue = shapiro(data.loc[data[\"week\"] == 2, \"Score\"])\n",
    "print('Test Stat = %.4f, p-value = %.4f' % (test_stat, pvalue))\n",
    "\n",
    "test_stat, pvalue = shapiro(data.loc[data[\"week\"] == 3, \"Score\"])\n",
    "print('Test Stat = %.4f, p-value = %.4f' % (test_stat, pvalue))\n",
    "\n",
    "test_stat, pvalue = shapiro(data.loc[data[\"week\"] == 4, \"Score\"])\n",
    "print('Test Stat = %.4f, p-value = %.4f' % (test_stat, pvalue))"
   ]
  },
  {
   "cell_type": "markdown",
   "id": "e07d6698",
   "metadata": {},
   "source": [
    "*we reject H0*"
   ]
  },
  {
   "cell_type": "markdown",
   "id": "a1bf8af6",
   "metadata": {},
   "source": [
    "### ANOVA Testing\n",
    "H0: M1 = M2 = M3 = M4    \n",
    "H1: at least one group's mean are different"
   ]
  },
  {
   "cell_type": "code",
   "execution_count": 146,
   "id": "a184b399",
   "metadata": {},
   "outputs": [
    {
     "name": "stdout",
     "output_type": "stream",
     "text": [
      "Test Stat = 0.0176, p-value = 0.9994\n"
     ]
    }
   ],
   "source": [
    "test_stat, pvalue = kruskal(data.loc[data[\"week\"] == 1, \"Score\"],\n",
    "                                 data.loc[data[\"week\"] == 2, \"Score\"],\n",
    "                                data.loc[data[\"week\"] == 3, \"Score\"],\n",
    "                                data.loc[data[\"week\"] == 4, \"Score\"])\n",
    "\n",
    "print('Test Stat = %.4f, p-value = %.4f' % (test_stat, pvalue))"
   ]
  },
  {
   "cell_type": "code",
   "execution_count": 147,
   "id": "969e4ede",
   "metadata": {},
   "outputs": [
    {
     "data": {
      "image/png": "[encoded data removed]",
      "text/plain": [
       "<Figure size 432x288 with 1 Axes>"
      ]
     },
     "metadata": {
      "needs_background": "light"
     },
     "output_type": "display_data"
    }
   ],
   "source": [
    "data.groupby([\"week\"]).agg({\"Score\": \"mean\"}).plot(kind = \"bar\", rot = 45);"
   ]
  },
  {
   "cell_type": "markdown",
   "id": "0391e0d3",
   "metadata": {},
   "source": [
    "## Final Note\n",
    "As a result, there is no significant difference among weeks.So we can say that our new item is not more profitable than the other products.If we put the new product to our menu, there might not be big difference.We can try to develop different product."
   ]
  },
  {
   "cell_type": "code",
   "execution_count": null,
   "id": "77dbc5fe",
   "metadata": {},
   "outputs": [],
   "source": []
  }
 ],
 "metadata": {
  "kernelspec": {
   "display_name": "Python 3 (ipykernel)",
   "language": "python",
   "name": "python3"
  },
  "language_info": {
   "codemirror_mode": {
    "name": "ipython",
    "version": 3
   },
   "file_extension": ".py",
   "mimetype": "text/x-python",
   "name": "python",
   "nbconvert_exporter": "python",
   "pygments_lexer": "ipython3",
   "version": "3.9.7"
  }
 },
 "nbformat": 4,
 "nbformat_minor": 5
}
